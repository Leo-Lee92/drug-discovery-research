{
 "metadata": {
  "language_info": {
   "codemirror_mode": {
    "name": "ipython",
    "version": 3
   },
   "file_extension": ".py",
   "mimetype": "text/x-python",
   "name": "python",
   "nbconvert_exporter": "python",
   "pygments_lexer": "ipython3",
   "version": "3.8.2-final"
  },
  "orig_nbformat": 2,
  "kernelspec": {
   "name": "python3",
   "display_name": "Python 3.8.2 64-bit ('unist_server': conda)",
   "metadata": {
    "interpreter": {
     "hash": "1b88f1cae7631816959f36c791634d3ccfd1a78b9962e828355f546e62f2d0e9"
    }
   }
  }
 },
 "nbformat": 4,
 "nbformat_minor": 2,
 "cells": [
  {
   "source": [
    "# (1) Install Libraries"
   ],
   "cell_type": "markdown",
   "metadata": {}
  },
  {
   "cell_type": "code",
   "execution_count": 193,
   "metadata": {},
   "outputs": [],
   "source": [
    "import pandas as pd\n",
    "import numpy as np\n",
    "import matplotlib.pyplot as plt\n",
    "import seaborn as sns\n",
    "import copy\n",
    "import tensorflow as tf\n",
    "import tensorflow_text as text"
   ]
  },
  {
   "source": [
    "# (2) Load BindingDB dataset"
   ],
   "cell_type": "markdown",
   "metadata": {}
  },
  {
   "source": [
    "참고로 본 데이터는 https://www.bindingdb.org/bind/chemsearch/marvin/SDFdownload.jsp?download_file=/bind/downloads/BindingDB_BindingDB_Inhibition_2021m2.tsv.zip 데이터를 특정한 기준을 따라 가공한 데이터임.\n",
    "\n",
    "가공 기준은 https://www.nature.com/articles/s41598-020-79682-4 논문을 참고하였음. 기준은 구체적으로 다음과 같음.\n",
    "- **Target Source Organism According to Curator or DataSource** 필드에서는 \"Homo sapiens\", \"Rattus norvegicus\", Mus musculus\", \"Bos taurus\"에 해당하는 값만 고려할 것\n",
    "- $\\text{IC50} \\leq \\text{100 nm}$ or $\\text{Kd} \\leq \\text{100 nm}$ or $\\text{EC50} \\leq \\text{100 nm}$\n",
    "- 화학식별자 컬럼을 포함할 것 (PuhChem CID)\n"
   ],
   "cell_type": "markdown",
   "metadata": {}
  },
  {
   "cell_type": "code",
   "execution_count": 194,
   "metadata": {},
   "outputs": [],
   "source": [
    "raw_data = pd.read_csv('/home/messy92/Leo/Drug-discovery-research/data/BindingDB_BindingDB_Inhibition (prep).csv')\n"
   ]
  },
  {
   "cell_type": "code",
   "execution_count": 195,
   "metadata": {},
   "outputs": [
    {
     "output_type": "execute_result",
     "data": {
      "text/plain": [
       "       BindingDB Reactant_set_id  \\\n",
       "0                         455059   \n",
       "1                         455061   \n",
       "2                         455065   \n",
       "3                         455066   \n",
       "4                         455067   \n",
       "...                          ...   \n",
       "16881                     868736   \n",
       "16882                     868739   \n",
       "16883                     868747   \n",
       "16884                     868749   \n",
       "16885                     868750   \n",
       "\n",
       "                                           Ligand SMILES  \\\n",
       "0          ONC(=O)CCCCn1cc(C(=O)Nc2ccccc2)c(=O)c2ccccc12   \n",
       "1        COc1ccc(NC(=O)c2cn(CCCCC(=O)NO)c3ccccc3c2=O)cc1   \n",
       "2          ONC(=O)CCCCn1cc(C(=O)Nc2ccncc2)c(=O)c2ccccc12   \n",
       "3           ONC(=O)CCCCn1cc(C(=O)Nc2nccs2)c(=O)c2ccccc12   \n",
       "4          Cc1csc(NC(=O)c2cn(CCCCC(=O)NO)c3ccccc3c2=O)n1   \n",
       "...                                                  ...   \n",
       "16881  CCCC(C(CC(C)C)C(=O)NC(CCCCNC(=O)OCc1ccccc1)C(=...   \n",
       "16882  CC(C)CC(NC(Cc1cncn1Cc1cc(Cl)cc(Cl)c1)C(O)=O)C(...   \n",
       "16883      CC(C)C(NC(=O)OCc1ccccc1)C(=O)NC(Cc1ccccc1)C=O   \n",
       "16884  CCc1ccccc1NC(=O)CSC(=O)NNC(=O)C(Cc1c[nH]c2cccc...   \n",
       "16885  CC(C)(C)OC(=O)NC(Cc1c[nH]c2ccccc12)C(=O)NNC(=O...   \n",
       "\n",
       "                                   BindingDB Ligand Name  \\\n",
       "0                      Quinolone-based HDAC inhibitor 4a   \n",
       "1                      Quinolone-based HDAC inhibitor 4c   \n",
       "2                      Quinolone-based HDAC inhibitor 4g   \n",
       "3                      Quinolone-based HDAC inhibitor 4h   \n",
       "4                      Quinolone-based HDAC inhibitor 4i   \n",
       "...                                                  ...   \n",
       "16881                             med.21724, Compound 10   \n",
       "16882                             med.21724, Compound 13   \n",
       "16883  MDL28170::Z-Val-Phe-CHO::benzyl N-[(1S)-2-meth...   \n",
       "16884                             med.21724, Compound 21   \n",
       "16885                             med.21724, Compound 22   \n",
       "\n",
       "      Target Name Assigned by Curator or DataSource  \\\n",
       "0                        Histone acetylases (HDACs)   \n",
       "1                        Histone acetylases (HDACs)   \n",
       "2                        Histone acetylases (HDACs)   \n",
       "3                        Histone acetylases (HDACs)   \n",
       "4                        Histone acetylases (HDACs)   \n",
       "...                                             ...   \n",
       "16881               Angiotensin-converting enzyme 2   \n",
       "16882               Angiotensin-converting enzyme 2   \n",
       "16883                           Cathepsin (L and K)   \n",
       "16884                           Cathepsin (L and K)   \n",
       "16885                           Cathepsin (L and K)   \n",
       "\n",
       "      Target Source Organism According to Curator or DataSource  Ki (nM)  \\\n",
       "0                                           Homo sapiens             NaN   \n",
       "1                                           Homo sapiens             NaN   \n",
       "2                                           Homo sapiens             NaN   \n",
       "3                                           Homo sapiens             NaN   \n",
       "4                                           Homo sapiens             NaN   \n",
       "...                                                  ...             ...   \n",
       "16881                                       Homo sapiens             NaN   \n",
       "16882                                       Homo sapiens             NaN   \n",
       "16883                                       Homo sapiens             NaN   \n",
       "16884                                       Homo sapiens             NaN   \n",
       "16885                                       Homo sapiens             NaN   \n",
       "\n",
       "       IC50 (nM)  Kd (nM)  EC50 (nM)  PubChem CID ZINC ID of Ligand  \\\n",
       "0           32.0      NaN        NaN  131953857.0      ZINC33410638   \n",
       "1           39.0      NaN        NaN  131953859.0      ZINC04863960   \n",
       "2           90.0      NaN        NaN  131953863.0      ZINC00164363   \n",
       "3           42.0      NaN        NaN  131953864.0      ZINC02686872   \n",
       "4            0.0      NaN        NaN  131953865.0      ZINC03257684   \n",
       "...          ...      ...        ...          ...               ...   \n",
       "16881        1.0      NaN        NaN          NaN               NaN   \n",
       "16882        0.0      NaN        NaN          NaN               NaN   \n",
       "16883        3.0      NaN        NaN    9907994.0      ZINC08584799   \n",
       "16884        7.0      NaN        NaN          NaN               NaN   \n",
       "16885       56.0      NaN        NaN          NaN               NaN   \n",
       "\n",
       "       Number of Protein Chains in Target (>1 implies a multichain complex)  \\\n",
       "0                                                      5                      \n",
       "1                                                      5                      \n",
       "2                                                      5                      \n",
       "3                                                      5                      \n",
       "4                                                      5                      \n",
       "...                                                  ...                      \n",
       "16881                                                  1                      \n",
       "16882                                                  1                      \n",
       "16883                                                  1                      \n",
       "16884                                                  1                      \n",
       "16885                                                  1                      \n",
       "\n",
       "                         BindingDB Target Chain Sequence  \\\n",
       "0      MAQTQGTRRKVCYYYDGDVGNYYYGQGHPMKPHRIRMTHNLLLNYG...   \n",
       "1      MAQTQGTRRKVCYYYDGDVGNYYYGQGHPMKPHRIRMTHNLLLNYG...   \n",
       "2      MAQTQGTRRKVCYYYDGDVGNYYYGQGHPMKPHRIRMTHNLLLNYG...   \n",
       "3      MAQTQGTRRKVCYYYDGDVGNYYYGQGHPMKPHRIRMTHNLLLNYG...   \n",
       "4      MAQTQGTRRKVCYYYDGDVGNYYYGQGHPMKPHRIRMTHNLLLNYG...   \n",
       "...                                                  ...   \n",
       "16881  MSSSSWLLLSLVAVTAAQSTIEEQAKTFLDKFNHEAEDLFYQSSLA...   \n",
       "16882  MSSSSWLLLSLVAVTAAQSTIEEQAKTFLDKFNHEAEDLFYQSSLA...   \n",
       "16883  MNPTLILAAFCLGIASATLTFDHSLEAQWTKWKAMHNRLYGMNEEG...   \n",
       "16884  MNPTLILAAFCLGIASATLTFDHSLEAQWTKWKAMHNRLYGMNEEG...   \n",
       "16885  MNPTLILAAFCLGIASATLTFDHSLEAQWTKWKAMHNRLYGMNEEG...   \n",
       "\n",
       "                               PDB ID(s) of Target Chain  \\\n",
       "0                               3MAX,4BKX,5ICN,6Z2J,6Z2K   \n",
       "1                               3MAX,4BKX,5ICN,6Z2J,6Z2K   \n",
       "2                               3MAX,4BKX,5ICN,6Z2J,6Z2K   \n",
       "3                               3MAX,4BKX,5ICN,6Z2J,6Z2K   \n",
       "4                               3MAX,4BKX,5ICN,6Z2J,6Z2K   \n",
       "...                                                  ...   \n",
       "16881                      1R42,1R4L,2AJF,3KBH,6LZG,6VW1   \n",
       "16882                      1R42,1R4L,2AJF,3KBH,6LZG,6VW1   \n",
       "16883  1ICF,1MHW,2VHS,2XU3,2XU4,2XU5,2YJ2,2YJ8,2YJ9,2...   \n",
       "16884  1ICF,1MHW,2VHS,2XU3,2XU4,2XU5,2YJ2,2YJ8,2YJ9,2...   \n",
       "16885  1ICF,1MHW,2VHS,2XU3,2XU4,2XU5,2YJ2,2YJ8,2YJ9,2...   \n",
       "\n",
       "      UniProt (SwissProt) Recommended Name of Target Chain  \n",
       "0                                  Histone deacetylase 1    \n",
       "1                                  Histone deacetylase 1    \n",
       "2                                  Histone deacetylase 1    \n",
       "3                                  Histone deacetylase 1    \n",
       "4                                  Histone deacetylase 1    \n",
       "...                                                  ...    \n",
       "16881                    Angiotensin-converting enzyme 2    \n",
       "16882                    Angiotensin-converting enzyme 2    \n",
       "16883                                     Procathepsin L    \n",
       "16884                                     Procathepsin L    \n",
       "16885                                     Procathepsin L    \n",
       "\n",
       "[16886 rows x 15 columns]"
      ],
      "text/html": "<div>\n<style scoped>\n    .dataframe tbody tr th:only-of-type {\n        vertical-align: middle;\n    }\n\n    .dataframe tbody tr th {\n        vertical-align: top;\n    }\n\n    .dataframe thead th {\n        text-align: right;\n    }\n</style>\n<table border=\"1\" class=\"dataframe\">\n  <thead>\n    <tr style=\"text-align: right;\">\n      <th></th>\n      <th>BindingDB Reactant_set_id</th>\n      <th>Ligand SMILES</th>\n      <th>BindingDB Ligand Name</th>\n      <th>Target Name Assigned by Curator or DataSource</th>\n      <th>Target Source Organism According to Curator or DataSource</th>\n      <th>Ki (nM)</th>\n      <th>IC50 (nM)</th>\n      <th>Kd (nM)</th>\n      <th>EC50 (nM)</th>\n      <th>PubChem CID</th>\n      <th>ZINC ID of Ligand</th>\n      <th>Number of Protein Chains in Target (&gt;1 implies a multichain complex)</th>\n      <th>BindingDB Target Chain Sequence</th>\n      <th>PDB ID(s) of Target Chain</th>\n      <th>UniProt (SwissProt) Recommended Name of Target Chain</th>\n    </tr>\n  </thead>\n  <tbody>\n    <tr>\n      <th>0</th>\n      <td>455059</td>\n      <td>ONC(=O)CCCCn1cc(C(=O)Nc2ccccc2)c(=O)c2ccccc12</td>\n      <td>Quinolone-based HDAC inhibitor 4a</td>\n      <td>Histone acetylases (HDACs)</td>\n      <td>Homo sapiens</td>\n      <td>NaN</td>\n      <td>32.0</td>\n      <td>NaN</td>\n      <td>NaN</td>\n      <td>131953857.0</td>\n      <td>ZINC33410638</td>\n      <td>5</td>\n      <td>MAQTQGTRRKVCYYYDGDVGNYYYGQGHPMKPHRIRMTHNLLLNYG...</td>\n      <td>3MAX,4BKX,5ICN,6Z2J,6Z2K</td>\n      <td>Histone deacetylase 1</td>\n    </tr>\n    <tr>\n      <th>1</th>\n      <td>455061</td>\n      <td>COc1ccc(NC(=O)c2cn(CCCCC(=O)NO)c3ccccc3c2=O)cc1</td>\n      <td>Quinolone-based HDAC inhibitor 4c</td>\n      <td>Histone acetylases (HDACs)</td>\n      <td>Homo sapiens</td>\n      <td>NaN</td>\n      <td>39.0</td>\n      <td>NaN</td>\n      <td>NaN</td>\n      <td>131953859.0</td>\n      <td>ZINC04863960</td>\n      <td>5</td>\n      <td>MAQTQGTRRKVCYYYDGDVGNYYYGQGHPMKPHRIRMTHNLLLNYG...</td>\n      <td>3MAX,4BKX,5ICN,6Z2J,6Z2K</td>\n      <td>Histone deacetylase 1</td>\n    </tr>\n    <tr>\n      <th>2</th>\n      <td>455065</td>\n      <td>ONC(=O)CCCCn1cc(C(=O)Nc2ccncc2)c(=O)c2ccccc12</td>\n      <td>Quinolone-based HDAC inhibitor 4g</td>\n      <td>Histone acetylases (HDACs)</td>\n      <td>Homo sapiens</td>\n      <td>NaN</td>\n      <td>90.0</td>\n      <td>NaN</td>\n      <td>NaN</td>\n      <td>131953863.0</td>\n      <td>ZINC00164363</td>\n      <td>5</td>\n      <td>MAQTQGTRRKVCYYYDGDVGNYYYGQGHPMKPHRIRMTHNLLLNYG...</td>\n      <td>3MAX,4BKX,5ICN,6Z2J,6Z2K</td>\n      <td>Histone deacetylase 1</td>\n    </tr>\n    <tr>\n      <th>3</th>\n      <td>455066</td>\n      <td>ONC(=O)CCCCn1cc(C(=O)Nc2nccs2)c(=O)c2ccccc12</td>\n      <td>Quinolone-based HDAC inhibitor 4h</td>\n      <td>Histone acetylases (HDACs)</td>\n      <td>Homo sapiens</td>\n      <td>NaN</td>\n      <td>42.0</td>\n      <td>NaN</td>\n      <td>NaN</td>\n      <td>131953864.0</td>\n      <td>ZINC02686872</td>\n      <td>5</td>\n      <td>MAQTQGTRRKVCYYYDGDVGNYYYGQGHPMKPHRIRMTHNLLLNYG...</td>\n      <td>3MAX,4BKX,5ICN,6Z2J,6Z2K</td>\n      <td>Histone deacetylase 1</td>\n    </tr>\n    <tr>\n      <th>4</th>\n      <td>455067</td>\n      <td>Cc1csc(NC(=O)c2cn(CCCCC(=O)NO)c3ccccc3c2=O)n1</td>\n      <td>Quinolone-based HDAC inhibitor 4i</td>\n      <td>Histone acetylases (HDACs)</td>\n      <td>Homo sapiens</td>\n      <td>NaN</td>\n      <td>0.0</td>\n      <td>NaN</td>\n      <td>NaN</td>\n      <td>131953865.0</td>\n      <td>ZINC03257684</td>\n      <td>5</td>\n      <td>MAQTQGTRRKVCYYYDGDVGNYYYGQGHPMKPHRIRMTHNLLLNYG...</td>\n      <td>3MAX,4BKX,5ICN,6Z2J,6Z2K</td>\n      <td>Histone deacetylase 1</td>\n    </tr>\n    <tr>\n      <th>...</th>\n      <td>...</td>\n      <td>...</td>\n      <td>...</td>\n      <td>...</td>\n      <td>...</td>\n      <td>...</td>\n      <td>...</td>\n      <td>...</td>\n      <td>...</td>\n      <td>...</td>\n      <td>...</td>\n      <td>...</td>\n      <td>...</td>\n      <td>...</td>\n      <td>...</td>\n    </tr>\n    <tr>\n      <th>16881</th>\n      <td>868736</td>\n      <td>CCCC(C(CC(C)C)C(=O)NC(CCCCNC(=O)OCc1ccccc1)C(=...</td>\n      <td>med.21724, Compound 10</td>\n      <td>Angiotensin-converting enzyme 2</td>\n      <td>Homo sapiens</td>\n      <td>NaN</td>\n      <td>1.0</td>\n      <td>NaN</td>\n      <td>NaN</td>\n      <td>NaN</td>\n      <td>NaN</td>\n      <td>1</td>\n      <td>MSSSSWLLLSLVAVTAAQSTIEEQAKTFLDKFNHEAEDLFYQSSLA...</td>\n      <td>1R42,1R4L,2AJF,3KBH,6LZG,6VW1</td>\n      <td>Angiotensin-converting enzyme 2</td>\n    </tr>\n    <tr>\n      <th>16882</th>\n      <td>868739</td>\n      <td>CC(C)CC(NC(Cc1cncn1Cc1cc(Cl)cc(Cl)c1)C(O)=O)C(...</td>\n      <td>med.21724, Compound 13</td>\n      <td>Angiotensin-converting enzyme 2</td>\n      <td>Homo sapiens</td>\n      <td>NaN</td>\n      <td>0.0</td>\n      <td>NaN</td>\n      <td>NaN</td>\n      <td>NaN</td>\n      <td>NaN</td>\n      <td>1</td>\n      <td>MSSSSWLLLSLVAVTAAQSTIEEQAKTFLDKFNHEAEDLFYQSSLA...</td>\n      <td>1R42,1R4L,2AJF,3KBH,6LZG,6VW1</td>\n      <td>Angiotensin-converting enzyme 2</td>\n    </tr>\n    <tr>\n      <th>16883</th>\n      <td>868747</td>\n      <td>CC(C)C(NC(=O)OCc1ccccc1)C(=O)NC(Cc1ccccc1)C=O</td>\n      <td>MDL28170::Z-Val-Phe-CHO::benzyl N-[(1S)-2-meth...</td>\n      <td>Cathepsin (L and K)</td>\n      <td>Homo sapiens</td>\n      <td>NaN</td>\n      <td>3.0</td>\n      <td>NaN</td>\n      <td>NaN</td>\n      <td>9907994.0</td>\n      <td>ZINC08584799</td>\n      <td>1</td>\n      <td>MNPTLILAAFCLGIASATLTFDHSLEAQWTKWKAMHNRLYGMNEEG...</td>\n      <td>1ICF,1MHW,2VHS,2XU3,2XU4,2XU5,2YJ2,2YJ8,2YJ9,2...</td>\n      <td>Procathepsin L</td>\n    </tr>\n    <tr>\n      <th>16884</th>\n      <td>868749</td>\n      <td>CCc1ccccc1NC(=O)CSC(=O)NNC(=O)C(Cc1c[nH]c2cccc...</td>\n      <td>med.21724, Compound 21</td>\n      <td>Cathepsin (L and K)</td>\n      <td>Homo sapiens</td>\n      <td>NaN</td>\n      <td>7.0</td>\n      <td>NaN</td>\n      <td>NaN</td>\n      <td>NaN</td>\n      <td>NaN</td>\n      <td>1</td>\n      <td>MNPTLILAAFCLGIASATLTFDHSLEAQWTKWKAMHNRLYGMNEEG...</td>\n      <td>1ICF,1MHW,2VHS,2XU3,2XU4,2XU5,2YJ2,2YJ8,2YJ9,2...</td>\n      <td>Procathepsin L</td>\n    </tr>\n    <tr>\n      <th>16885</th>\n      <td>868750</td>\n      <td>CC(C)(C)OC(=O)NC(Cc1c[nH]c2ccccc12)C(=O)NNC(=O...</td>\n      <td>med.21724, Compound 22</td>\n      <td>Cathepsin (L and K)</td>\n      <td>Homo sapiens</td>\n      <td>NaN</td>\n      <td>56.0</td>\n      <td>NaN</td>\n      <td>NaN</td>\n      <td>NaN</td>\n      <td>NaN</td>\n      <td>1</td>\n      <td>MNPTLILAAFCLGIASATLTFDHSLEAQWTKWKAMHNRLYGMNEEG...</td>\n      <td>1ICF,1MHW,2VHS,2XU3,2XU4,2XU5,2YJ2,2YJ8,2YJ9,2...</td>\n      <td>Procathepsin L</td>\n    </tr>\n  </tbody>\n</table>\n<p>16886 rows × 15 columns</p>\n</div>"
     },
     "metadata": {},
     "execution_count": 195
    }
   ],
   "source": [
    "raw_data"
   ]
  },
  {
   "source": [
    "# (3) 전처리하기\n",
    "## (3-1) 일부 변수들만 뽑아주기\n",
    "BindingDB에 포함된 모든 변수를 사용해 줄 필요는 없다. 오히려 일부 변수들은 동일한 정보를 다르게 표현하고 있을 뿐인 경우도 많다.\n",
    "\n",
    "Target-Drug Translation 문제를 풀기 위해 필수적인 변수는 다음과 같다.\n",
    "\n",
    "* 표적 단백질 시퀀스 (Target Chaing Sequence)\n",
    "* 리간드 시퀀스 (Ligand SMILES)\n",
    "* 단백질 - 리간드 반응 변수 (ex., Ki, IC50, Kd, EC50 etc.)\n",
    "\n",
    "그 외 변수들은 선택사항으로 자유롭게 추가한다.\n",
    "\n",
    "본 연구에선 기존 15개 변수들 중 아래와 같이 6개 변수들만을 선택하였다.\n",
    "\n",
    "```python\n",
    "raw_data = raw_data.loc[:, ['Ligand SMILES', 'BindingDB Target Chain Sequence', 'Ki (nM)', 'IC50 (nM)', 'Kd (nM)', 'EC50 (nM)']]\n",
    "```\n",
    "\n",
    "이때 각 변수들의 의미는 다음과 같다.\n",
    "\n",
    "- **Ligand SMILES** : Target Protein에 반응한다고 알려진 리간드 화합물을 SMILES로 표현한 값 (시퀀스)\n",
    "- **Binding DB Target Chain Sequence** : Target Protein의 아미노산 염기서열 (amino acids sequence) (시퀀스)\n",
    "- **Ki (nM)**\n",
    "- **IC50 (nM)**\n",
    "- **Kd (nM)**\n",
    "- **EC50 (nM)**\n",
    "\n"
   ],
   "cell_type": "markdown",
   "metadata": {}
  },
  {
   "cell_type": "code",
   "execution_count": 196,
   "metadata": {},
   "outputs": [
    {
     "output_type": "execute_result",
     "data": {
      "text/plain": [
       "                                           Ligand SMILES  \\\n",
       "0          ONC(=O)CCCCn1cc(C(=O)Nc2ccccc2)c(=O)c2ccccc12   \n",
       "1        COc1ccc(NC(=O)c2cn(CCCCC(=O)NO)c3ccccc3c2=O)cc1   \n",
       "2          ONC(=O)CCCCn1cc(C(=O)Nc2ccncc2)c(=O)c2ccccc12   \n",
       "3           ONC(=O)CCCCn1cc(C(=O)Nc2nccs2)c(=O)c2ccccc12   \n",
       "4          Cc1csc(NC(=O)c2cn(CCCCC(=O)NO)c3ccccc3c2=O)n1   \n",
       "...                                                  ...   \n",
       "16881  CCCC(C(CC(C)C)C(=O)NC(CCCCNC(=O)OCc1ccccc1)C(=...   \n",
       "16882  CC(C)CC(NC(Cc1cncn1Cc1cc(Cl)cc(Cl)c1)C(O)=O)C(...   \n",
       "16883      CC(C)C(NC(=O)OCc1ccccc1)C(=O)NC(Cc1ccccc1)C=O   \n",
       "16884  CCc1ccccc1NC(=O)CSC(=O)NNC(=O)C(Cc1c[nH]c2cccc...   \n",
       "16885  CC(C)(C)OC(=O)NC(Cc1c[nH]c2ccccc12)C(=O)NNC(=O...   \n",
       "\n",
       "                         BindingDB Target Chain Sequence  Ki (nM)  IC50 (nM)  \\\n",
       "0      MAQTQGTRRKVCYYYDGDVGNYYYGQGHPMKPHRIRMTHNLLLNYG...      NaN       32.0   \n",
       "1      MAQTQGTRRKVCYYYDGDVGNYYYGQGHPMKPHRIRMTHNLLLNYG...      NaN       39.0   \n",
       "2      MAQTQGTRRKVCYYYDGDVGNYYYGQGHPMKPHRIRMTHNLLLNYG...      NaN       90.0   \n",
       "3      MAQTQGTRRKVCYYYDGDVGNYYYGQGHPMKPHRIRMTHNLLLNYG...      NaN       42.0   \n",
       "4      MAQTQGTRRKVCYYYDGDVGNYYYGQGHPMKPHRIRMTHNLLLNYG...      NaN        0.0   \n",
       "...                                                  ...      ...        ...   \n",
       "16881  MSSSSWLLLSLVAVTAAQSTIEEQAKTFLDKFNHEAEDLFYQSSLA...      NaN        1.0   \n",
       "16882  MSSSSWLLLSLVAVTAAQSTIEEQAKTFLDKFNHEAEDLFYQSSLA...      NaN        0.0   \n",
       "16883  MNPTLILAAFCLGIASATLTFDHSLEAQWTKWKAMHNRLYGMNEEG...      NaN        3.0   \n",
       "16884  MNPTLILAAFCLGIASATLTFDHSLEAQWTKWKAMHNRLYGMNEEG...      NaN        7.0   \n",
       "16885  MNPTLILAAFCLGIASATLTFDHSLEAQWTKWKAMHNRLYGMNEEG...      NaN       56.0   \n",
       "\n",
       "       Kd (nM)  EC50 (nM)  \n",
       "0          NaN        NaN  \n",
       "1          NaN        NaN  \n",
       "2          NaN        NaN  \n",
       "3          NaN        NaN  \n",
       "4          NaN        NaN  \n",
       "...        ...        ...  \n",
       "16881      NaN        NaN  \n",
       "16882      NaN        NaN  \n",
       "16883      NaN        NaN  \n",
       "16884      NaN        NaN  \n",
       "16885      NaN        NaN  \n",
       "\n",
       "[16886 rows x 6 columns]"
      ],
      "text/html": "<div>\n<style scoped>\n    .dataframe tbody tr th:only-of-type {\n        vertical-align: middle;\n    }\n\n    .dataframe tbody tr th {\n        vertical-align: top;\n    }\n\n    .dataframe thead th {\n        text-align: right;\n    }\n</style>\n<table border=\"1\" class=\"dataframe\">\n  <thead>\n    <tr style=\"text-align: right;\">\n      <th></th>\n      <th>Ligand SMILES</th>\n      <th>BindingDB Target Chain Sequence</th>\n      <th>Ki (nM)</th>\n      <th>IC50 (nM)</th>\n      <th>Kd (nM)</th>\n      <th>EC50 (nM)</th>\n    </tr>\n  </thead>\n  <tbody>\n    <tr>\n      <th>0</th>\n      <td>ONC(=O)CCCCn1cc(C(=O)Nc2ccccc2)c(=O)c2ccccc12</td>\n      <td>MAQTQGTRRKVCYYYDGDVGNYYYGQGHPMKPHRIRMTHNLLLNYG...</td>\n      <td>NaN</td>\n      <td>32.0</td>\n      <td>NaN</td>\n      <td>NaN</td>\n    </tr>\n    <tr>\n      <th>1</th>\n      <td>COc1ccc(NC(=O)c2cn(CCCCC(=O)NO)c3ccccc3c2=O)cc1</td>\n      <td>MAQTQGTRRKVCYYYDGDVGNYYYGQGHPMKPHRIRMTHNLLLNYG...</td>\n      <td>NaN</td>\n      <td>39.0</td>\n      <td>NaN</td>\n      <td>NaN</td>\n    </tr>\n    <tr>\n      <th>2</th>\n      <td>ONC(=O)CCCCn1cc(C(=O)Nc2ccncc2)c(=O)c2ccccc12</td>\n      <td>MAQTQGTRRKVCYYYDGDVGNYYYGQGHPMKPHRIRMTHNLLLNYG...</td>\n      <td>NaN</td>\n      <td>90.0</td>\n      <td>NaN</td>\n      <td>NaN</td>\n    </tr>\n    <tr>\n      <th>3</th>\n      <td>ONC(=O)CCCCn1cc(C(=O)Nc2nccs2)c(=O)c2ccccc12</td>\n      <td>MAQTQGTRRKVCYYYDGDVGNYYYGQGHPMKPHRIRMTHNLLLNYG...</td>\n      <td>NaN</td>\n      <td>42.0</td>\n      <td>NaN</td>\n      <td>NaN</td>\n    </tr>\n    <tr>\n      <th>4</th>\n      <td>Cc1csc(NC(=O)c2cn(CCCCC(=O)NO)c3ccccc3c2=O)n1</td>\n      <td>MAQTQGTRRKVCYYYDGDVGNYYYGQGHPMKPHRIRMTHNLLLNYG...</td>\n      <td>NaN</td>\n      <td>0.0</td>\n      <td>NaN</td>\n      <td>NaN</td>\n    </tr>\n    <tr>\n      <th>...</th>\n      <td>...</td>\n      <td>...</td>\n      <td>...</td>\n      <td>...</td>\n      <td>...</td>\n      <td>...</td>\n    </tr>\n    <tr>\n      <th>16881</th>\n      <td>CCCC(C(CC(C)C)C(=O)NC(CCCCNC(=O)OCc1ccccc1)C(=...</td>\n      <td>MSSSSWLLLSLVAVTAAQSTIEEQAKTFLDKFNHEAEDLFYQSSLA...</td>\n      <td>NaN</td>\n      <td>1.0</td>\n      <td>NaN</td>\n      <td>NaN</td>\n    </tr>\n    <tr>\n      <th>16882</th>\n      <td>CC(C)CC(NC(Cc1cncn1Cc1cc(Cl)cc(Cl)c1)C(O)=O)C(...</td>\n      <td>MSSSSWLLLSLVAVTAAQSTIEEQAKTFLDKFNHEAEDLFYQSSLA...</td>\n      <td>NaN</td>\n      <td>0.0</td>\n      <td>NaN</td>\n      <td>NaN</td>\n    </tr>\n    <tr>\n      <th>16883</th>\n      <td>CC(C)C(NC(=O)OCc1ccccc1)C(=O)NC(Cc1ccccc1)C=O</td>\n      <td>MNPTLILAAFCLGIASATLTFDHSLEAQWTKWKAMHNRLYGMNEEG...</td>\n      <td>NaN</td>\n      <td>3.0</td>\n      <td>NaN</td>\n      <td>NaN</td>\n    </tr>\n    <tr>\n      <th>16884</th>\n      <td>CCc1ccccc1NC(=O)CSC(=O)NNC(=O)C(Cc1c[nH]c2cccc...</td>\n      <td>MNPTLILAAFCLGIASATLTFDHSLEAQWTKWKAMHNRLYGMNEEG...</td>\n      <td>NaN</td>\n      <td>7.0</td>\n      <td>NaN</td>\n      <td>NaN</td>\n    </tr>\n    <tr>\n      <th>16885</th>\n      <td>CC(C)(C)OC(=O)NC(Cc1c[nH]c2ccccc12)C(=O)NNC(=O...</td>\n      <td>MNPTLILAAFCLGIASATLTFDHSLEAQWTKWKAMHNRLYGMNEEG...</td>\n      <td>NaN</td>\n      <td>56.0</td>\n      <td>NaN</td>\n      <td>NaN</td>\n    </tr>\n  </tbody>\n</table>\n<p>16886 rows × 6 columns</p>\n</div>"
     },
     "metadata": {},
     "execution_count": 196
    }
   ],
   "source": [
    "sample_data = raw_data.loc[:, ['Ligand SMILES', 'BindingDB Target Chain Sequence', 'Ki (nM)', 'IC50 (nM)', 'Kd (nM)', 'EC50 (nM)']]\n",
    "sample_data\n"
   ]
  },
  {
   "source": [
    "## (3-2) 객체 타입 확인하기"
   ],
   "cell_type": "markdown",
   "metadata": {}
  },
  {
   "cell_type": "code",
   "execution_count": 197,
   "metadata": {},
   "outputs": [
    {
     "output_type": "stream",
     "name": "stdout",
     "text": [
      "Ligand SMILES                       object\nBindingDB Target Chain Sequence     object\nKi (nM)                            float64\nIC50 (nM)                          float64\nKd (nM)                            float64\nEC50 (nM)                          float64\ndtype: object\n"
     ]
    }
   ],
   "source": [
    "# 객체 타입 알아보기\n",
    "print(sample_data.dtypes)"
   ]
  },
  {
   "source": [
    "## (3-3)  Protein amino acids와 Ligand SMILES 시퀀스의 길이분포 확인"
   ],
   "cell_type": "markdown",
   "metadata": {}
  },
  {
   "source": [
    "### 3-3-1. apply-lambda를 활용하여 시퀀스 길이 추출 및 trunc_sample_data 생성"
   ],
   "cell_type": "markdown",
   "metadata": {}
  },
  {
   "cell_type": "code",
   "execution_count": 198,
   "metadata": {},
   "outputs": [],
   "source": [
    "# 단백질과 화합물의 시퀀스 길이 분포 추출\n",
    "protein_len_distribution = raw_data.apply(lambda x : len(x['BindingDB Target Chain Sequence']), axis = 1)\n",
    "compound_len_distribution = raw_data.apply(lambda x : len(x['Ligand SMILES']), axis = 1)\n",
    "\n",
    "# 단백질의 경우 소수의 너무 긴 단백질이 존재하므로 길이 하위 80% 까지만 고려.\n",
    "protein_q80 = protein_len_distribution.quantile(0.8)\n",
    "truncated_protein_len_distribution = protein_len_distribution[protein_len_distribution.lt(protein_q80)]\n",
    "\n",
    "# protein sequence는 길이 하위 80%에 해당하는 샘플만 고려하는 trunc_sample_data 만들어주기\n",
    "trunc_sample_data = sample_data[protein_len_distribution.lt(protein_q80)]"
   ]
  },
  {
   "source": [
    "### 3-3-2. 추출한 길이 데이터를 (plot을 그리기 쉽게) long-format 데이터프레임으로 변환해주기"
   ],
   "cell_type": "markdown",
   "metadata": {}
  },
  {
   "cell_type": "code",
   "execution_count": 199,
   "metadata": {},
   "outputs": [],
   "source": [
    "# protein 길이 데이터 만들기 (시퀀스 대상과 시퀀스 길이를 의미하는 변수로 구성된 2차원 데이터 프레임 만들기)\n",
    "protein_len_data = pd.concat([pd.Series(np.repeat(\"protein\", len(truncated_protein_len_distribution))), truncated_protein_len_distribution], axis = 1)\n",
    "# compound 길이 데이터 만들기 (시퀀스 대상과 시퀀스 길이를 의미하는 변수로 구성된 2차원 데이터 프레임 만들기)\n",
    "compound_len_data = pd.concat([pd.Series(np.repeat(\"compound\", len(compound_len_distribution))), compound_len_distribution], axis = 1)\n",
    "\n",
    "# 위에서 만든 두 개의 데이터 프레임을 행방향으로 합치기\n",
    "sequence_len_dist_data = pd.concat([protein_len_data, compound_len_data], axis = 0)\n",
    "sequence_len_dist_data.columns = ['sequence', 'length']"
   ]
  },
  {
   "source": [
    "### 3-3-3. 시퀀스 길이 분포 플롯팅"
   ],
   "cell_type": "markdown",
   "metadata": {}
  },
  {
   "cell_type": "code",
   "execution_count": 200,
   "metadata": {},
   "outputs": [
    {
     "output_type": "stream",
     "name": "stderr",
     "text": [
      "/home/messy92/.conda/envs/unist_server/lib/python3.8/site-packages/seaborn/distributions.py:2557: FutureWarning: `distplot` is a deprecated function and will be removed in a future version. Please adapt your code to use either `displot` (a figure-level function with similar flexibility) or `histplot` (an axes-level function for histograms).\n  warnings.warn(msg, FutureWarning)\n"
     ]
    },
    {
     "output_type": "display_data",
     "data": {
      "text/plain": "<Figure size 432x288 with 1 Axes>",
      "image/svg+xml": "<?xml version=\"1.0\" encoding=\"utf-8\" standalone=\"no\"?>\n<!DOCTYPE svg PUBLIC \"-//W3C//DTD SVG 1.1//EN\"\n  \"http://www.w3.org/Graphics/SVG/1.1/DTD/svg11.dtd\">\n<!-- Created with matplotlib (https://matplotlib.org/) -->\n<svg height=\"277.314375pt\" version=\"1.1\" viewBox=\"0 0 381.65 277.314375\" width=\"381.65pt\" xmlns=\"http://www.w3.org/2000/svg\" xmlns:xlink=\"http://www.w3.org/1999/xlink\">\n <metadata>\n  <rdf:RDF xmlns:cc=\"http://creativecommons.org/ns#\" xmlns:dc=\"http://purl.org/dc/elements/1.1/\" xmlns:rdf=\"http://www.w3.org/1999/02/22-rdf-syntax-ns#\">\n   <cc:Work>\n    <dc:type rdf:resource=\"http://purl.org/dc/dcmitype/StillImage\"/>\n    <dc:date>2021-03-09T19:02:29.903602</dc:date>\n    <dc:format>image/svg+xml</dc:format>\n    <dc:creator>\n     <cc:Agent>\n      <dc:title>Matplotlib v3.3.2, https://matplotlib.org/</dc:title>\n     </cc:Agent>\n    </dc:creator>\n   </cc:Work>\n  </rdf:RDF>\n </metadata>\n <defs>\n  <style type=\"text/css\">*{stroke-linecap:butt;stroke-linejoin:round;}</style>\n </defs>\n <g id=\"figure_1\">\n  <g id=\"patch_1\">\n   <path d=\"M -0 277.314375 \nL 381.65 277.314375 \nL 381.65 0 \nL -0 0 \nz\n\" style=\"fill:none;\"/>\n  </g>\n  <g id=\"axes_1\">\n   <g id=\"patch_2\">\n    <path d=\"M 39.65 239.758125 \nL 374.45 239.758125 \nL 374.45 22.318125 \nL 39.65 22.318125 \nz\n\" style=\"fill:#ffffff;\"/>\n   </g>\n   <g id=\"patch_3\">\n    <path clip-path=\"url(#pd274ff55a8)\" d=\"M 88.998669 239.758125 \nL 95.754497 239.758125 \nL 95.754497 239.58873 \nL 88.998669 239.58873 \nz\n\" style=\"fill:#1f77b4;opacity:0.4;\"/>\n   </g>\n   <g id=\"patch_4\">\n    <path clip-path=\"url(#pd274ff55a8)\" d=\"M 95.754497 239.758125 \nL 102.510326 239.758125 \nL 102.510326 237.42894 \nL 95.754497 237.42894 \nz\n\" style=\"fill:#1f77b4;opacity:0.4;\"/>\n   </g>\n   <g id=\"patch_5\">\n    <path clip-path=\"url(#pd274ff55a8)\" d=\"M 102.510326 239.758125 \nL 109.266155 239.758125 \nL 109.266155 239.504032 \nL 102.510326 239.504032 \nz\n\" style=\"fill:#1f77b4;opacity:0.4;\"/>\n   </g>\n   <g id=\"patch_6\">\n    <path clip-path=\"url(#pd274ff55a8)\" d=\"M 109.266155 239.758125 \nL 116.021984 239.758125 \nL 116.021984 239.376986 \nL 109.266155 239.376986 \nz\n\" style=\"fill:#1f77b4;opacity:0.4;\"/>\n   </g>\n   <g id=\"patch_7\">\n    <path clip-path=\"url(#pd274ff55a8)\" d=\"M 116.021984 239.758125 \nL 122.777812 239.758125 \nL 122.777812 239.334637 \nL 116.021984 239.334637 \nz\n\" style=\"fill:#1f77b4;opacity:0.4;\"/>\n   </g>\n   <g id=\"patch_8\">\n    <path clip-path=\"url(#pd274ff55a8)\" d=\"M 122.777812 239.758125 \nL 129.533641 239.758125 \nL 129.533641 238.699405 \nL 122.777812 238.699405 \nz\n\" style=\"fill:#1f77b4;opacity:0.4;\"/>\n   </g>\n   <g id=\"patch_9\">\n    <path clip-path=\"url(#pd274ff55a8)\" d=\"M 129.533641 239.758125 \nL 136.28947 239.758125 \nL 136.28947 239.673427 \nL 129.533641 239.673427 \nz\n\" style=\"fill:#1f77b4;opacity:0.4;\"/>\n   </g>\n   <g id=\"patch_10\">\n    <path clip-path=\"url(#pd274ff55a8)\" d=\"M 136.28947 239.758125 \nL 143.045299 239.758125 \nL 143.045299 239.758125 \nL 136.28947 239.758125 \nz\n\" style=\"fill:#1f77b4;opacity:0.4;\"/>\n   </g>\n   <g id=\"patch_11\">\n    <path clip-path=\"url(#pd274ff55a8)\" d=\"M 143.045299 239.758125 \nL 149.801127 239.758125 \nL 149.801127 239.673427 \nL 143.045299 239.673427 \nz\n\" style=\"fill:#1f77b4;opacity:0.4;\"/>\n   </g>\n   <g id=\"patch_12\">\n    <path clip-path=\"url(#pd274ff55a8)\" d=\"M 149.801127 239.758125 \nL 156.556956 239.758125 \nL 156.556956 234.718616 \nL 149.801127 234.718616 \nz\n\" style=\"fill:#1f77b4;opacity:0.4;\"/>\n   </g>\n   <g id=\"patch_13\">\n    <path clip-path=\"url(#pd274ff55a8)\" d=\"M 156.556956 239.758125 \nL 163.312785 239.758125 \nL 163.312785 211.045627 \nL 156.556956 211.045627 \nz\n\" style=\"fill:#1f77b4;opacity:0.4;\"/>\n   </g>\n   <g id=\"patch_14\">\n    <path clip-path=\"url(#pd274ff55a8)\" d=\"M 163.312785 239.758125 \nL 170.068614 239.758125 \nL 170.068614 233.194058 \nL 163.312785 233.194058 \nz\n\" style=\"fill:#1f77b4;opacity:0.4;\"/>\n   </g>\n   <g id=\"patch_15\">\n    <path clip-path=\"url(#pd274ff55a8)\" d=\"M 170.068614 239.758125 \nL 176.824442 239.758125 \nL 176.824442 178.902875 \nL 170.068614 178.902875 \nz\n\" style=\"fill:#1f77b4;opacity:0.4;\"/>\n   </g>\n   <g id=\"patch_16\">\n    <path clip-path=\"url(#pd274ff55a8)\" d=\"M 176.824442 239.758125 \nL 183.580271 239.758125 \nL 183.580271 229.848502 \nL 176.824442 229.848502 \nz\n\" style=\"fill:#1f77b4;opacity:0.4;\"/>\n   </g>\n   <g id=\"patch_17\">\n    <path clip-path=\"url(#pd274ff55a8)\" d=\"M 183.580271 239.758125 \nL 190.3361 239.758125 \nL 190.3361 218.11788 \nL 183.580271 218.11788 \nz\n\" style=\"fill:#1f77b4;opacity:0.4;\"/>\n   </g>\n   <g id=\"patch_18\">\n    <path clip-path=\"url(#pd274ff55a8)\" d=\"M 190.3361 239.758125 \nL 197.091929 239.758125 \nL 197.091929 226.164155 \nL 190.3361 226.164155 \nz\n\" style=\"fill:#1f77b4;opacity:0.4;\"/>\n   </g>\n   <g id=\"patch_19\">\n    <path clip-path=\"url(#pd274ff55a8)\" d=\"M 197.091929 239.758125 \nL 203.847757 239.758125 \nL 203.847757 214.941718 \nL 197.091929 214.941718 \nz\n\" style=\"fill:#1f77b4;opacity:0.4;\"/>\n   </g>\n   <g id=\"patch_20\">\n    <path clip-path=\"url(#pd274ff55a8)\" d=\"M 203.847757 239.758125 \nL 210.603586 239.758125 \nL 210.603586 227.646363 \nL 203.847757 227.646363 \nz\n\" style=\"fill:#1f77b4;opacity:0.4;\"/>\n   </g>\n   <g id=\"patch_21\">\n    <path clip-path=\"url(#pd274ff55a8)\" d=\"M 210.603586 239.758125 \nL 217.359415 239.758125 \nL 217.359415 223.072691 \nL 210.603586 223.072691 \nz\n\" style=\"fill:#1f77b4;opacity:0.4;\"/>\n   </g>\n   <g id=\"patch_22\">\n    <path clip-path=\"url(#pd274ff55a8)\" d=\"M 217.359415 239.758125 \nL 224.115243 239.758125 \nL 224.115243 221.590483 \nL 217.359415 221.590483 \nz\n\" style=\"fill:#1f77b4;opacity:0.4;\"/>\n   </g>\n   <g id=\"patch_23\">\n    <path clip-path=\"url(#pd274ff55a8)\" d=\"M 224.115243 239.758125 \nL 230.871072 239.758125 \nL 230.871072 224.978388 \nL 224.115243 224.978388 \nz\n\" style=\"fill:#1f77b4;opacity:0.4;\"/>\n   </g>\n   <g id=\"patch_24\">\n    <path clip-path=\"url(#pd274ff55a8)\" d=\"M 230.871072 239.758125 \nL 237.626901 239.758125 \nL 237.626901 222.649203 \nL 230.871072 222.649203 \nz\n\" style=\"fill:#1f77b4;opacity:0.4;\"/>\n   </g>\n   <g id=\"patch_25\">\n    <path clip-path=\"url(#pd274ff55a8)\" d=\"M 237.626901 239.758125 \nL 244.38273 239.758125 \nL 244.38273 218.668414 \nL 237.626901 218.668414 \nz\n\" style=\"fill:#1f77b4;opacity:0.4;\"/>\n   </g>\n   <g id=\"patch_26\">\n    <path clip-path=\"url(#pd274ff55a8)\" d=\"M 244.38273 239.758125 \nL 251.138558 239.758125 \nL 251.138558 184.196477 \nL 244.38273 184.196477 \nz\n\" style=\"fill:#1f77b4;opacity:0.4;\"/>\n   </g>\n   <g id=\"patch_27\">\n    <path clip-path=\"url(#pd274ff55a8)\" d=\"M 251.138558 239.758125 \nL 257.894387 239.758125 \nL 257.894387 218.880158 \nL 251.138558 218.880158 \nz\n\" style=\"fill:#1f77b4;opacity:0.4;\"/>\n   </g>\n   <g id=\"patch_28\">\n    <path clip-path=\"url(#pd274ff55a8)\" d=\"M 257.894387 239.758125 \nL 264.650216 239.758125 \nL 264.650216 233.532849 \nL 257.894387 233.532849 \nz\n\" style=\"fill:#1f77b4;opacity:0.4;\"/>\n   </g>\n   <g id=\"patch_29\">\n    <path clip-path=\"url(#pd274ff55a8)\" d=\"M 264.650216 239.758125 \nL 271.406045 239.758125 \nL 271.406045 237.513638 \nL 264.650216 237.513638 \nz\n\" style=\"fill:#1f77b4;opacity:0.4;\"/>\n   </g>\n   <g id=\"patch_30\">\n    <path clip-path=\"url(#pd274ff55a8)\" d=\"M 271.406045 239.758125 \nL 278.161873 239.758125 \nL 278.161873 237.555987 \nL 271.406045 237.555987 \nz\n\" style=\"fill:#1f77b4;opacity:0.4;\"/>\n   </g>\n   <g id=\"patch_31\">\n    <path clip-path=\"url(#pd274ff55a8)\" d=\"M 278.161873 239.758125 \nL 284.917702 239.758125 \nL 284.917702 239.58873 \nL 278.161873 239.58873 \nz\n\" style=\"fill:#1f77b4;opacity:0.4;\"/>\n   </g>\n   <g id=\"patch_32\">\n    <path clip-path=\"url(#pd274ff55a8)\" d=\"M 284.917702 239.758125 \nL 291.673531 239.758125 \nL 291.673531 237.979475 \nL 284.917702 237.979475 \nz\n\" style=\"fill:#1f77b4;opacity:0.4;\"/>\n   </g>\n   <g id=\"patch_33\">\n    <path clip-path=\"url(#pd274ff55a8)\" d=\"M 291.673531 239.758125 \nL 298.42936 239.758125 \nL 298.42936 228.705084 \nL 291.673531 228.705084 \nz\n\" style=\"fill:#1f77b4;opacity:0.4;\"/>\n   </g>\n   <g id=\"patch_34\">\n    <path clip-path=\"url(#pd274ff55a8)\" d=\"M 298.42936 239.758125 \nL 305.185188 239.758125 \nL 305.185188 219.811832 \nL 298.42936 219.811832 \nz\n\" style=\"fill:#1f77b4;opacity:0.4;\"/>\n   </g>\n   <g id=\"patch_35\">\n    <path clip-path=\"url(#pd274ff55a8)\" d=\"M 305.185188 239.758125 \nL 311.941017 239.758125 \nL 311.941017 239.292288 \nL 305.185188 239.292288 \nz\n\" style=\"fill:#1f77b4;opacity:0.4;\"/>\n   </g>\n   <g id=\"patch_36\">\n    <path clip-path=\"url(#pd274ff55a8)\" d=\"M 311.941017 239.758125 \nL 318.696846 239.758125 \nL 318.696846 238.233568 \nL 311.941017 238.233568 \nz\n\" style=\"fill:#1f77b4;opacity:0.4;\"/>\n   </g>\n   <g id=\"patch_37\">\n    <path clip-path=\"url(#pd274ff55a8)\" d=\"M 318.696846 239.758125 \nL 325.452675 239.758125 \nL 325.452675 232.558826 \nL 318.696846 232.558826 \nz\n\" style=\"fill:#1f77b4;opacity:0.4;\"/>\n   </g>\n   <g id=\"patch_38\">\n    <path clip-path=\"url(#pd274ff55a8)\" d=\"M 325.452675 239.758125 \nL 332.208503 239.758125 \nL 332.208503 238.14887 \nL 325.452675 238.14887 \nz\n\" style=\"fill:#1f77b4;opacity:0.4;\"/>\n   </g>\n   <g id=\"patch_39\">\n    <path clip-path=\"url(#pd274ff55a8)\" d=\"M 332.208503 239.758125 \nL 338.964332 239.758125 \nL 338.964332 236.031429 \nL 332.208503 236.031429 \nz\n\" style=\"fill:#1f77b4;opacity:0.4;\"/>\n   </g>\n   <g id=\"patch_40\">\n    <path clip-path=\"url(#pd274ff55a8)\" d=\"M 338.964332 239.758125 \nL 345.720161 239.758125 \nL 345.720161 232.516477 \nL 338.964332 232.516477 \nz\n\" style=\"fill:#1f77b4;opacity:0.4;\"/>\n   </g>\n   <g id=\"patch_41\">\n    <path clip-path=\"url(#pd274ff55a8)\" d=\"M 345.720161 239.758125 \nL 352.475989 239.758125 \nL 352.475989 238.572358 \nL 345.720161 238.572358 \nz\n\" style=\"fill:#1f77b4;opacity:0.4;\"/>\n   </g>\n   <g id=\"patch_42\">\n    <path clip-path=\"url(#pd274ff55a8)\" d=\"M 352.475989 239.758125 \nL 359.231818 239.758125 \nL 359.231818 236.70901 \nL 352.475989 236.70901 \nz\n\" style=\"fill:#1f77b4;opacity:0.4;\"/>\n   </g>\n   <g id=\"patch_43\">\n    <path clip-path=\"url(#pd274ff55a8)\" d=\"M 54.868182 239.758125 \nL 59.236884 239.758125 \nL 59.236884 239.080544 \nL 54.868182 239.080544 \nz\n\" style=\"fill:#ff7f0e;opacity:0.4;\"/>\n   </g>\n   <g id=\"patch_44\">\n    <path clip-path=\"url(#pd274ff55a8)\" d=\"M 59.236884 239.758125 \nL 63.605586 239.758125 \nL 63.605586 225.99476 \nL 59.236884 225.99476 \nz\n\" style=\"fill:#ff7f0e;opacity:0.4;\"/>\n   </g>\n   <g id=\"patch_45\">\n    <path clip-path=\"url(#pd274ff55a8)\" d=\"M 63.605586 239.758125 \nL 67.974289 239.758125 \nL 67.974289 173.143436 \nL 63.605586 173.143436 \nz\n\" style=\"fill:#ff7f0e;opacity:0.4;\"/>\n   </g>\n   <g id=\"patch_46\">\n    <path clip-path=\"url(#pd274ff55a8)\" d=\"M 67.974289 239.758125 \nL 72.342991 239.758125 \nL 72.342991 69.177091 \nL 67.974289 69.177091 \nz\n\" style=\"fill:#ff7f0e;opacity:0.4;\"/>\n   </g>\n   <g id=\"patch_47\">\n    <path clip-path=\"url(#pd274ff55a8)\" d=\"M 72.342991 239.758125 \nL 76.711693 239.758125 \nL 76.711693 32.672411 \nL 72.342991 32.672411 \nz\n\" style=\"fill:#ff7f0e;opacity:0.4;\"/>\n   </g>\n   <g id=\"patch_48\">\n    <path clip-path=\"url(#pd274ff55a8)\" d=\"M 76.711693 239.758125 \nL 81.080396 239.758125 \nL 81.080396 103.183191 \nL 76.711693 103.183191 \nz\n\" style=\"fill:#ff7f0e;opacity:0.4;\"/>\n   </g>\n   <g id=\"patch_49\">\n    <path clip-path=\"url(#pd274ff55a8)\" d=\"M 81.080396 239.758125 \nL 85.449098 239.758125 \nL 85.449098 170.263717 \nL 81.080396 170.263717 \nz\n\" style=\"fill:#ff7f0e;opacity:0.4;\"/>\n   </g>\n   <g id=\"patch_50\">\n    <path clip-path=\"url(#pd274ff55a8)\" d=\"M 85.449098 239.758125 \nL 89.8178 239.758125 \nL 89.8178 215.195811 \nL 85.449098 215.195811 \nz\n\" style=\"fill:#ff7f0e;opacity:0.4;\"/>\n   </g>\n   <g id=\"patch_51\">\n    <path clip-path=\"url(#pd274ff55a8)\" d=\"M 89.8178 239.758125 \nL 94.186503 239.758125 \nL 94.186503 232.389431 \nL 89.8178 232.389431 \nz\n\" style=\"fill:#ff7f0e;opacity:0.4;\"/>\n   </g>\n   <g id=\"patch_52\">\n    <path clip-path=\"url(#pd274ff55a8)\" d=\"M 94.186503 239.758125 \nL 98.555205 239.758125 \nL 98.555205 235.099755 \nL 94.186503 235.099755 \nz\n\" style=\"fill:#ff7f0e;opacity:0.4;\"/>\n   </g>\n   <g id=\"patch_53\">\n    <path clip-path=\"url(#pd274ff55a8)\" d=\"M 98.555205 239.758125 \nL 102.923907 239.758125 \nL 102.923907 236.031429 \nL 98.555205 236.031429 \nz\n\" style=\"fill:#ff7f0e;opacity:0.4;\"/>\n   </g>\n   <g id=\"patch_54\">\n    <path clip-path=\"url(#pd274ff55a8)\" d=\"M 102.923907 239.758125 \nL 107.29261 239.758125 \nL 107.29261 238.784102 \nL 102.923907 238.784102 \nz\n\" style=\"fill:#ff7f0e;opacity:0.4;\"/>\n   </g>\n   <g id=\"patch_55\">\n    <path clip-path=\"url(#pd274ff55a8)\" d=\"M 107.29261 239.758125 \nL 111.661312 239.758125 \nL 111.661312 238.106521 \nL 107.29261 238.106521 \nz\n\" style=\"fill:#ff7f0e;opacity:0.4;\"/>\n   </g>\n   <g id=\"patch_56\">\n    <path clip-path=\"url(#pd274ff55a8)\" d=\"M 111.661312 239.758125 \nL 116.030014 239.758125 \nL 116.030014 238.360614 \nL 111.661312 238.360614 \nz\n\" style=\"fill:#ff7f0e;opacity:0.4;\"/>\n   </g>\n   <g id=\"patch_57\">\n    <path clip-path=\"url(#pd274ff55a8)\" d=\"M 116.030014 239.758125 \nL 120.398717 239.758125 \nL 120.398717 238.826451 \nL 116.030014 238.826451 \nz\n\" style=\"fill:#ff7f0e;opacity:0.4;\"/>\n   </g>\n   <g id=\"patch_58\">\n    <path clip-path=\"url(#pd274ff55a8)\" d=\"M 120.398717 239.758125 \nL 124.767419 239.758125 \nL 124.767419 238.530009 \nL 120.398717 238.530009 \nz\n\" style=\"fill:#ff7f0e;opacity:0.4;\"/>\n   </g>\n   <g id=\"patch_59\">\n    <path clip-path=\"url(#pd274ff55a8)\" d=\"M 124.767419 239.758125 \nL 129.136121 239.758125 \nL 129.136121 238.784102 \nL 124.767419 238.784102 \nz\n\" style=\"fill:#ff7f0e;opacity:0.4;\"/>\n   </g>\n   <g id=\"patch_60\">\n    <path clip-path=\"url(#pd274ff55a8)\" d=\"M 129.136121 239.758125 \nL 133.504824 239.758125 \nL 133.504824 239.122893 \nL 129.136121 239.122893 \nz\n\" style=\"fill:#ff7f0e;opacity:0.4;\"/>\n   </g>\n   <g id=\"patch_61\">\n    <path clip-path=\"url(#pd274ff55a8)\" d=\"M 133.504824 239.758125 \nL 137.873526 239.758125 \nL 137.873526 239.080544 \nL 133.504824 239.080544 \nz\n\" style=\"fill:#ff7f0e;opacity:0.4;\"/>\n   </g>\n   <g id=\"patch_62\">\n    <path clip-path=\"url(#pd274ff55a8)\" d=\"M 137.873526 239.758125 \nL 142.242228 239.758125 \nL 142.242228 239.715776 \nL 137.873526 239.715776 \nz\n\" style=\"fill:#ff7f0e;opacity:0.4;\"/>\n   </g>\n   <g id=\"patch_63\">\n    <path clip-path=\"url(#pd274ff55a8)\" d=\"M 142.242228 239.758125 \nL 146.610931 239.758125 \nL 146.610931 239.631079 \nL 142.242228 239.631079 \nz\n\" style=\"fill:#ff7f0e;opacity:0.4;\"/>\n   </g>\n   <g id=\"patch_64\">\n    <path clip-path=\"url(#pd274ff55a8)\" d=\"M 146.610931 239.758125 \nL 150.979633 239.758125 \nL 150.979633 239.546381 \nL 146.610931 239.546381 \nz\n\" style=\"fill:#ff7f0e;opacity:0.4;\"/>\n   </g>\n   <g id=\"patch_65\">\n    <path clip-path=\"url(#pd274ff55a8)\" d=\"M 150.979633 239.758125 \nL 155.348335 239.758125 \nL 155.348335 239.673427 \nL 150.979633 239.673427 \nz\n\" style=\"fill:#ff7f0e;opacity:0.4;\"/>\n   </g>\n   <g id=\"patch_66\">\n    <path clip-path=\"url(#pd274ff55a8)\" d=\"M 155.348335 239.758125 \nL 159.717038 239.758125 \nL 159.717038 239.715776 \nL 155.348335 239.715776 \nz\n\" style=\"fill:#ff7f0e;opacity:0.4;\"/>\n   </g>\n   <g id=\"patch_67\">\n    <path clip-path=\"url(#pd274ff55a8)\" d=\"M 159.717038 239.758125 \nL 164.08574 239.758125 \nL 164.08574 239.673427 \nL 159.717038 239.673427 \nz\n\" style=\"fill:#ff7f0e;opacity:0.4;\"/>\n   </g>\n   <g id=\"patch_68\">\n    <path clip-path=\"url(#pd274ff55a8)\" d=\"M 164.08574 239.758125 \nL 168.454442 239.758125 \nL 168.454442 239.758125 \nL 164.08574 239.758125 \nz\n\" style=\"fill:#ff7f0e;opacity:0.4;\"/>\n   </g>\n   <g id=\"patch_69\">\n    <path clip-path=\"url(#pd274ff55a8)\" d=\"M 168.454442 239.758125 \nL 172.823145 239.758125 \nL 172.823145 239.715776 \nL 168.454442 239.715776 \nz\n\" style=\"fill:#ff7f0e;opacity:0.4;\"/>\n   </g>\n   <g id=\"patch_70\">\n    <path clip-path=\"url(#pd274ff55a8)\" d=\"M 172.823145 239.758125 \nL 177.191847 239.758125 \nL 177.191847 239.58873 \nL 172.823145 239.58873 \nz\n\" style=\"fill:#ff7f0e;opacity:0.4;\"/>\n   </g>\n   <g id=\"patch_71\">\n    <path clip-path=\"url(#pd274ff55a8)\" d=\"M 177.191847 239.758125 \nL 181.560549 239.758125 \nL 181.560549 239.546381 \nL 177.191847 239.546381 \nz\n\" style=\"fill:#ff7f0e;opacity:0.4;\"/>\n   </g>\n   <g id=\"patch_72\">\n    <path clip-path=\"url(#pd274ff55a8)\" d=\"M 181.560549 239.758125 \nL 185.929252 239.758125 \nL 185.929252 239.715776 \nL 181.560549 239.715776 \nz\n\" style=\"fill:#ff7f0e;opacity:0.4;\"/>\n   </g>\n   <g id=\"patch_73\">\n    <path clip-path=\"url(#pd274ff55a8)\" d=\"M 185.929252 239.758125 \nL 190.297954 239.758125 \nL 190.297954 239.673427 \nL 185.929252 239.673427 \nz\n\" style=\"fill:#ff7f0e;opacity:0.4;\"/>\n   </g>\n   <g id=\"patch_74\">\n    <path clip-path=\"url(#pd274ff55a8)\" d=\"M 190.297954 239.758125 \nL 194.666656 239.758125 \nL 194.666656 239.715776 \nL 190.297954 239.715776 \nz\n\" style=\"fill:#ff7f0e;opacity:0.4;\"/>\n   </g>\n   <g id=\"patch_75\">\n    <path clip-path=\"url(#pd274ff55a8)\" d=\"M 194.666656 239.758125 \nL 199.035359 239.758125 \nL 199.035359 239.758125 \nL 194.666656 239.758125 \nz\n\" style=\"fill:#ff7f0e;opacity:0.4;\"/>\n   </g>\n   <g id=\"patch_76\">\n    <path clip-path=\"url(#pd274ff55a8)\" d=\"M 199.035359 239.758125 \nL 203.404061 239.758125 \nL 203.404061 239.758125 \nL 199.035359 239.758125 \nz\n\" style=\"fill:#ff7f0e;opacity:0.4;\"/>\n   </g>\n   <g id=\"patch_77\">\n    <path clip-path=\"url(#pd274ff55a8)\" d=\"M 203.404061 239.758125 \nL 207.772763 239.758125 \nL 207.772763 239.673427 \nL 203.404061 239.673427 \nz\n\" style=\"fill:#ff7f0e;opacity:0.4;\"/>\n   </g>\n   <g id=\"patch_78\">\n    <path clip-path=\"url(#pd274ff55a8)\" d=\"M 207.772763 239.758125 \nL 212.141466 239.758125 \nL 212.141466 239.715776 \nL 207.772763 239.715776 \nz\n\" style=\"fill:#ff7f0e;opacity:0.4;\"/>\n   </g>\n   <g id=\"patch_79\">\n    <path clip-path=\"url(#pd274ff55a8)\" d=\"M 212.141466 239.758125 \nL 216.510168 239.758125 \nL 216.510168 239.758125 \nL 212.141466 239.758125 \nz\n\" style=\"fill:#ff7f0e;opacity:0.4;\"/>\n   </g>\n   <g id=\"patch_80\">\n    <path clip-path=\"url(#pd274ff55a8)\" d=\"M 216.510168 239.758125 \nL 220.87887 239.758125 \nL 220.87887 239.758125 \nL 216.510168 239.758125 \nz\n\" style=\"fill:#ff7f0e;opacity:0.4;\"/>\n   </g>\n   <g id=\"patch_81\">\n    <path clip-path=\"url(#pd274ff55a8)\" d=\"M 220.87887 239.758125 \nL 225.247573 239.758125 \nL 225.247573 239.58873 \nL 220.87887 239.58873 \nz\n\" style=\"fill:#ff7f0e;opacity:0.4;\"/>\n   </g>\n   <g id=\"patch_82\">\n    <path clip-path=\"url(#pd274ff55a8)\" d=\"M 225.247573 239.758125 \nL 229.616275 239.758125 \nL 229.616275 239.758125 \nL 225.247573 239.758125 \nz\n\" style=\"fill:#ff7f0e;opacity:0.4;\"/>\n   </g>\n   <g id=\"patch_83\">\n    <path clip-path=\"url(#pd274ff55a8)\" d=\"M 229.616275 239.758125 \nL 233.984977 239.758125 \nL 233.984977 239.758125 \nL 229.616275 239.758125 \nz\n\" style=\"fill:#ff7f0e;opacity:0.4;\"/>\n   </g>\n   <g id=\"patch_84\">\n    <path clip-path=\"url(#pd274ff55a8)\" d=\"M 233.984977 239.758125 \nL 238.35368 239.758125 \nL 238.35368 239.758125 \nL 233.984977 239.758125 \nz\n\" style=\"fill:#ff7f0e;opacity:0.4;\"/>\n   </g>\n   <g id=\"patch_85\">\n    <path clip-path=\"url(#pd274ff55a8)\" d=\"M 238.35368 239.758125 \nL 242.722382 239.758125 \nL 242.722382 239.758125 \nL 238.35368 239.758125 \nz\n\" style=\"fill:#ff7f0e;opacity:0.4;\"/>\n   </g>\n   <g id=\"patch_86\">\n    <path clip-path=\"url(#pd274ff55a8)\" d=\"M 242.722382 239.758125 \nL 247.091084 239.758125 \nL 247.091084 239.758125 \nL 242.722382 239.758125 \nz\n\" style=\"fill:#ff7f0e;opacity:0.4;\"/>\n   </g>\n   <g id=\"patch_87\">\n    <path clip-path=\"url(#pd274ff55a8)\" d=\"M 247.091084 239.758125 \nL 251.459787 239.758125 \nL 251.459787 239.758125 \nL 247.091084 239.758125 \nz\n\" style=\"fill:#ff7f0e;opacity:0.4;\"/>\n   </g>\n   <g id=\"patch_88\">\n    <path clip-path=\"url(#pd274ff55a8)\" d=\"M 251.459787 239.758125 \nL 255.828489 239.758125 \nL 255.828489 239.758125 \nL 251.459787 239.758125 \nz\n\" style=\"fill:#ff7f0e;opacity:0.4;\"/>\n   </g>\n   <g id=\"patch_89\">\n    <path clip-path=\"url(#pd274ff55a8)\" d=\"M 255.828489 239.758125 \nL 260.197191 239.758125 \nL 260.197191 239.758125 \nL 255.828489 239.758125 \nz\n\" style=\"fill:#ff7f0e;opacity:0.4;\"/>\n   </g>\n   <g id=\"patch_90\">\n    <path clip-path=\"url(#pd274ff55a8)\" d=\"M 260.197191 239.758125 \nL 264.565893 239.758125 \nL 264.565893 239.758125 \nL 260.197191 239.758125 \nz\n\" style=\"fill:#ff7f0e;opacity:0.4;\"/>\n   </g>\n   <g id=\"patch_91\">\n    <path clip-path=\"url(#pd274ff55a8)\" d=\"M 264.565893 239.758125 \nL 268.934596 239.758125 \nL 268.934596 239.758125 \nL 264.565893 239.758125 \nz\n\" style=\"fill:#ff7f0e;opacity:0.4;\"/>\n   </g>\n   <g id=\"patch_92\">\n    <path clip-path=\"url(#pd274ff55a8)\" d=\"M 268.934596 239.758125 \nL 273.303298 239.758125 \nL 273.303298 239.715776 \nL 268.934596 239.715776 \nz\n\" style=\"fill:#ff7f0e;opacity:0.4;\"/>\n   </g>\n   <g id=\"matplotlib.axis_1\">\n    <g id=\"xtick_1\">\n     <g id=\"line2d_1\">\n      <defs>\n       <path d=\"M 0 0 \nL 0 3.5 \n\" id=\"m4f2b2fbc1c\" style=\"stroke:#000000;stroke-width:0.8;\"/>\n      </defs>\n      <g>\n       <use style=\"stroke:#000000;stroke-width:0.8;\" x=\"53.262041\" xlink:href=\"#m4f2b2fbc1c\" y=\"239.758125\"/>\n      </g>\n     </g>\n     <g id=\"text_1\">\n      <!-- 0 -->\n      <g transform=\"translate(50.080791 254.356562)scale(0.1 -0.1)\">\n       <defs>\n        <path d=\"M 31.78125 66.40625 \nQ 24.171875 66.40625 20.328125 58.90625 \nQ 16.5 51.421875 16.5 36.375 \nQ 16.5 21.390625 20.328125 13.890625 \nQ 24.171875 6.390625 31.78125 6.390625 \nQ 39.453125 6.390625 43.28125 13.890625 \nQ 47.125 21.390625 47.125 36.375 \nQ 47.125 51.421875 43.28125 58.90625 \nQ 39.453125 66.40625 31.78125 66.40625 \nz\nM 31.78125 74.21875 \nQ 44.046875 74.21875 50.515625 64.515625 \nQ 56.984375 54.828125 56.984375 36.375 \nQ 56.984375 17.96875 50.515625 8.265625 \nQ 44.046875 -1.421875 31.78125 -1.421875 \nQ 19.53125 -1.421875 13.0625 8.265625 \nQ 6.59375 17.96875 6.59375 36.375 \nQ 6.59375 54.828125 13.0625 64.515625 \nQ 19.53125 74.21875 31.78125 74.21875 \nz\n\" id=\"DejaVuSans-48\"/>\n       </defs>\n       <use xlink:href=\"#DejaVuSans-48\"/>\n      </g>\n     </g>\n    </g>\n    <g id=\"xtick_2\">\n     <g id=\"line2d_2\">\n      <g>\n       <use style=\"stroke:#000000;stroke-width:0.8;\" x=\"93.415555\" xlink:href=\"#m4f2b2fbc1c\" y=\"239.758125\"/>\n      </g>\n     </g>\n     <g id=\"text_2\">\n      <!-- 100 -->\n      <g transform=\"translate(83.871805 254.356562)scale(0.1 -0.1)\">\n       <defs>\n        <path d=\"M 12.40625 8.296875 \nL 28.515625 8.296875 \nL 28.515625 63.921875 \nL 10.984375 60.40625 \nL 10.984375 69.390625 \nL 28.421875 72.90625 \nL 38.28125 72.90625 \nL 38.28125 8.296875 \nL 54.390625 8.296875 \nL 54.390625 0 \nL 12.40625 0 \nz\n\" id=\"DejaVuSans-49\"/>\n       </defs>\n       <use xlink:href=\"#DejaVuSans-49\"/>\n       <use x=\"63.623047\" xlink:href=\"#DejaVuSans-48\"/>\n       <use x=\"127.246094\" xlink:href=\"#DejaVuSans-48\"/>\n      </g>\n     </g>\n    </g>\n    <g id=\"xtick_3\">\n     <g id=\"line2d_3\">\n      <g>\n       <use style=\"stroke:#000000;stroke-width:0.8;\" x=\"133.569069\" xlink:href=\"#m4f2b2fbc1c\" y=\"239.758125\"/>\n      </g>\n     </g>\n     <g id=\"text_3\">\n      <!-- 200 -->\n      <g transform=\"translate(124.025319 254.356562)scale(0.1 -0.1)\">\n       <defs>\n        <path d=\"M 19.1875 8.296875 \nL 53.609375 8.296875 \nL 53.609375 0 \nL 7.328125 0 \nL 7.328125 8.296875 \nQ 12.9375 14.109375 22.625 23.890625 \nQ 32.328125 33.6875 34.8125 36.53125 \nQ 39.546875 41.84375 41.421875 45.53125 \nQ 43.3125 49.21875 43.3125 52.78125 \nQ 43.3125 58.59375 39.234375 62.25 \nQ 35.15625 65.921875 28.609375 65.921875 \nQ 23.96875 65.921875 18.8125 64.3125 \nQ 13.671875 62.703125 7.8125 59.421875 \nL 7.8125 69.390625 \nQ 13.765625 71.78125 18.9375 73 \nQ 24.125 74.21875 28.421875 74.21875 \nQ 39.75 74.21875 46.484375 68.546875 \nQ 53.21875 62.890625 53.21875 53.421875 \nQ 53.21875 48.921875 51.53125 44.890625 \nQ 49.859375 40.875 45.40625 35.40625 \nQ 44.1875 33.984375 37.640625 27.21875 \nQ 31.109375 20.453125 19.1875 8.296875 \nz\n\" id=\"DejaVuSans-50\"/>\n       </defs>\n       <use xlink:href=\"#DejaVuSans-50\"/>\n       <use x=\"63.623047\" xlink:href=\"#DejaVuSans-48\"/>\n       <use x=\"127.246094\" xlink:href=\"#DejaVuSans-48\"/>\n      </g>\n     </g>\n    </g>\n    <g id=\"xtick_4\">\n     <g id=\"line2d_4\">\n      <g>\n       <use style=\"stroke:#000000;stroke-width:0.8;\" x=\"173.722583\" xlink:href=\"#m4f2b2fbc1c\" y=\"239.758125\"/>\n      </g>\n     </g>\n     <g id=\"text_4\">\n      <!-- 300 -->\n      <g transform=\"translate(164.178833 254.356562)scale(0.1 -0.1)\">\n       <defs>\n        <path d=\"M 40.578125 39.3125 \nQ 47.65625 37.796875 51.625 33 \nQ 55.609375 28.21875 55.609375 21.1875 \nQ 55.609375 10.40625 48.1875 4.484375 \nQ 40.765625 -1.421875 27.09375 -1.421875 \nQ 22.515625 -1.421875 17.65625 -0.515625 \nQ 12.796875 0.390625 7.625 2.203125 \nL 7.625 11.71875 \nQ 11.71875 9.328125 16.59375 8.109375 \nQ 21.484375 6.890625 26.8125 6.890625 \nQ 36.078125 6.890625 40.9375 10.546875 \nQ 45.796875 14.203125 45.796875 21.1875 \nQ 45.796875 27.640625 41.28125 31.265625 \nQ 36.765625 34.90625 28.71875 34.90625 \nL 20.21875 34.90625 \nL 20.21875 43.015625 \nL 29.109375 43.015625 \nQ 36.375 43.015625 40.234375 45.921875 \nQ 44.09375 48.828125 44.09375 54.296875 \nQ 44.09375 59.90625 40.109375 62.90625 \nQ 36.140625 65.921875 28.71875 65.921875 \nQ 24.65625 65.921875 20.015625 65.03125 \nQ 15.375 64.15625 9.8125 62.3125 \nL 9.8125 71.09375 \nQ 15.4375 72.65625 20.34375 73.4375 \nQ 25.25 74.21875 29.59375 74.21875 \nQ 40.828125 74.21875 47.359375 69.109375 \nQ 53.90625 64.015625 53.90625 55.328125 \nQ 53.90625 49.265625 50.4375 45.09375 \nQ 46.96875 40.921875 40.578125 39.3125 \nz\n\" id=\"DejaVuSans-51\"/>\n       </defs>\n       <use xlink:href=\"#DejaVuSans-51\"/>\n       <use x=\"63.623047\" xlink:href=\"#DejaVuSans-48\"/>\n       <use x=\"127.246094\" xlink:href=\"#DejaVuSans-48\"/>\n      </g>\n     </g>\n    </g>\n    <g id=\"xtick_5\">\n     <g id=\"line2d_5\">\n      <g>\n       <use style=\"stroke:#000000;stroke-width:0.8;\" x=\"213.876097\" xlink:href=\"#m4f2b2fbc1c\" y=\"239.758125\"/>\n      </g>\n     </g>\n     <g id=\"text_5\">\n      <!-- 400 -->\n      <g transform=\"translate(204.332347 254.356562)scale(0.1 -0.1)\">\n       <defs>\n        <path d=\"M 37.796875 64.3125 \nL 12.890625 25.390625 \nL 37.796875 25.390625 \nz\nM 35.203125 72.90625 \nL 47.609375 72.90625 \nL 47.609375 25.390625 \nL 58.015625 25.390625 \nL 58.015625 17.1875 \nL 47.609375 17.1875 \nL 47.609375 0 \nL 37.796875 0 \nL 37.796875 17.1875 \nL 4.890625 17.1875 \nL 4.890625 26.703125 \nz\n\" id=\"DejaVuSans-52\"/>\n       </defs>\n       <use xlink:href=\"#DejaVuSans-52\"/>\n       <use x=\"63.623047\" xlink:href=\"#DejaVuSans-48\"/>\n       <use x=\"127.246094\" xlink:href=\"#DejaVuSans-48\"/>\n      </g>\n     </g>\n    </g>\n    <g id=\"xtick_6\">\n     <g id=\"line2d_6\">\n      <g>\n       <use style=\"stroke:#000000;stroke-width:0.8;\" x=\"254.029611\" xlink:href=\"#m4f2b2fbc1c\" y=\"239.758125\"/>\n      </g>\n     </g>\n     <g id=\"text_6\">\n      <!-- 500 -->\n      <g transform=\"translate(244.485861 254.356562)scale(0.1 -0.1)\">\n       <defs>\n        <path d=\"M 10.796875 72.90625 \nL 49.515625 72.90625 \nL 49.515625 64.59375 \nL 19.828125 64.59375 \nL 19.828125 46.734375 \nQ 21.96875 47.46875 24.109375 47.828125 \nQ 26.265625 48.1875 28.421875 48.1875 \nQ 40.625 48.1875 47.75 41.5 \nQ 54.890625 34.8125 54.890625 23.390625 \nQ 54.890625 11.625 47.5625 5.09375 \nQ 40.234375 -1.421875 26.90625 -1.421875 \nQ 22.3125 -1.421875 17.546875 -0.640625 \nQ 12.796875 0.140625 7.71875 1.703125 \nL 7.71875 11.625 \nQ 12.109375 9.234375 16.796875 8.0625 \nQ 21.484375 6.890625 26.703125 6.890625 \nQ 35.15625 6.890625 40.078125 11.328125 \nQ 45.015625 15.765625 45.015625 23.390625 \nQ 45.015625 31 40.078125 35.4375 \nQ 35.15625 39.890625 26.703125 39.890625 \nQ 22.75 39.890625 18.8125 39.015625 \nQ 14.890625 38.140625 10.796875 36.28125 \nz\n\" id=\"DejaVuSans-53\"/>\n       </defs>\n       <use xlink:href=\"#DejaVuSans-53\"/>\n       <use x=\"63.623047\" xlink:href=\"#DejaVuSans-48\"/>\n       <use x=\"127.246094\" xlink:href=\"#DejaVuSans-48\"/>\n      </g>\n     </g>\n    </g>\n    <g id=\"xtick_7\">\n     <g id=\"line2d_7\">\n      <g>\n       <use style=\"stroke:#000000;stroke-width:0.8;\" x=\"294.183125\" xlink:href=\"#m4f2b2fbc1c\" y=\"239.758125\"/>\n      </g>\n     </g>\n     <g id=\"text_7\">\n      <!-- 600 -->\n      <g transform=\"translate(284.639375 254.356562)scale(0.1 -0.1)\">\n       <defs>\n        <path d=\"M 33.015625 40.375 \nQ 26.375 40.375 22.484375 35.828125 \nQ 18.609375 31.296875 18.609375 23.390625 \nQ 18.609375 15.53125 22.484375 10.953125 \nQ 26.375 6.390625 33.015625 6.390625 \nQ 39.65625 6.390625 43.53125 10.953125 \nQ 47.40625 15.53125 47.40625 23.390625 \nQ 47.40625 31.296875 43.53125 35.828125 \nQ 39.65625 40.375 33.015625 40.375 \nz\nM 52.59375 71.296875 \nL 52.59375 62.3125 \nQ 48.875 64.0625 45.09375 64.984375 \nQ 41.3125 65.921875 37.59375 65.921875 \nQ 27.828125 65.921875 22.671875 59.328125 \nQ 17.53125 52.734375 16.796875 39.40625 \nQ 19.671875 43.65625 24.015625 45.921875 \nQ 28.375 48.1875 33.59375 48.1875 \nQ 44.578125 48.1875 50.953125 41.515625 \nQ 57.328125 34.859375 57.328125 23.390625 \nQ 57.328125 12.15625 50.6875 5.359375 \nQ 44.046875 -1.421875 33.015625 -1.421875 \nQ 20.359375 -1.421875 13.671875 8.265625 \nQ 6.984375 17.96875 6.984375 36.375 \nQ 6.984375 53.65625 15.1875 63.9375 \nQ 23.390625 74.21875 37.203125 74.21875 \nQ 40.921875 74.21875 44.703125 73.484375 \nQ 48.484375 72.75 52.59375 71.296875 \nz\n\" id=\"DejaVuSans-54\"/>\n       </defs>\n       <use xlink:href=\"#DejaVuSans-54\"/>\n       <use x=\"63.623047\" xlink:href=\"#DejaVuSans-48\"/>\n       <use x=\"127.246094\" xlink:href=\"#DejaVuSans-48\"/>\n      </g>\n     </g>\n    </g>\n    <g id=\"xtick_8\">\n     <g id=\"line2d_8\">\n      <g>\n       <use style=\"stroke:#000000;stroke-width:0.8;\" x=\"334.336639\" xlink:href=\"#m4f2b2fbc1c\" y=\"239.758125\"/>\n      </g>\n     </g>\n     <g id=\"text_8\">\n      <!-- 700 -->\n      <g transform=\"translate(324.792889 254.356562)scale(0.1 -0.1)\">\n       <defs>\n        <path d=\"M 8.203125 72.90625 \nL 55.078125 72.90625 \nL 55.078125 68.703125 \nL 28.609375 0 \nL 18.3125 0 \nL 43.21875 64.59375 \nL 8.203125 64.59375 \nz\n\" id=\"DejaVuSans-55\"/>\n       </defs>\n       <use xlink:href=\"#DejaVuSans-55\"/>\n       <use x=\"63.623047\" xlink:href=\"#DejaVuSans-48\"/>\n       <use x=\"127.246094\" xlink:href=\"#DejaVuSans-48\"/>\n      </g>\n     </g>\n    </g>\n    <g id=\"text_9\">\n     <!-- length -->\n     <g transform=\"translate(191.1125 268.034687)scale(0.1 -0.1)\">\n      <defs>\n       <path d=\"M 9.421875 75.984375 \nL 18.40625 75.984375 \nL 18.40625 0 \nL 9.421875 0 \nz\n\" id=\"DejaVuSans-108\"/>\n       <path d=\"M 56.203125 29.59375 \nL 56.203125 25.203125 \nL 14.890625 25.203125 \nQ 15.484375 15.921875 20.484375 11.0625 \nQ 25.484375 6.203125 34.421875 6.203125 \nQ 39.59375 6.203125 44.453125 7.46875 \nQ 49.3125 8.734375 54.109375 11.28125 \nL 54.109375 2.78125 \nQ 49.265625 0.734375 44.1875 -0.34375 \nQ 39.109375 -1.421875 33.890625 -1.421875 \nQ 20.796875 -1.421875 13.15625 6.1875 \nQ 5.515625 13.8125 5.515625 26.8125 \nQ 5.515625 40.234375 12.765625 48.109375 \nQ 20.015625 56 32.328125 56 \nQ 43.359375 56 49.78125 48.890625 \nQ 56.203125 41.796875 56.203125 29.59375 \nz\nM 47.21875 32.234375 \nQ 47.125 39.59375 43.09375 43.984375 \nQ 39.0625 48.390625 32.421875 48.390625 \nQ 24.90625 48.390625 20.390625 44.140625 \nQ 15.875 39.890625 15.1875 32.171875 \nz\n\" id=\"DejaVuSans-101\"/>\n       <path d=\"M 54.890625 33.015625 \nL 54.890625 0 \nL 45.90625 0 \nL 45.90625 32.71875 \nQ 45.90625 40.484375 42.875 44.328125 \nQ 39.84375 48.1875 33.796875 48.1875 \nQ 26.515625 48.1875 22.3125 43.546875 \nQ 18.109375 38.921875 18.109375 30.90625 \nL 18.109375 0 \nL 9.078125 0 \nL 9.078125 54.6875 \nL 18.109375 54.6875 \nL 18.109375 46.1875 \nQ 21.34375 51.125 25.703125 53.5625 \nQ 30.078125 56 35.796875 56 \nQ 45.21875 56 50.046875 50.171875 \nQ 54.890625 44.34375 54.890625 33.015625 \nz\n\" id=\"DejaVuSans-110\"/>\n       <path d=\"M 45.40625 27.984375 \nQ 45.40625 37.75 41.375 43.109375 \nQ 37.359375 48.484375 30.078125 48.484375 \nQ 22.859375 48.484375 18.828125 43.109375 \nQ 14.796875 37.75 14.796875 27.984375 \nQ 14.796875 18.265625 18.828125 12.890625 \nQ 22.859375 7.515625 30.078125 7.515625 \nQ 37.359375 7.515625 41.375 12.890625 \nQ 45.40625 18.265625 45.40625 27.984375 \nz\nM 54.390625 6.78125 \nQ 54.390625 -7.171875 48.1875 -13.984375 \nQ 42 -20.796875 29.203125 -20.796875 \nQ 24.46875 -20.796875 20.265625 -20.09375 \nQ 16.0625 -19.390625 12.109375 -17.921875 \nL 12.109375 -9.1875 \nQ 16.0625 -11.328125 19.921875 -12.34375 \nQ 23.78125 -13.375 27.78125 -13.375 \nQ 36.625 -13.375 41.015625 -8.765625 \nQ 45.40625 -4.15625 45.40625 5.171875 \nL 45.40625 9.625 \nQ 42.625 4.78125 38.28125 2.390625 \nQ 33.9375 0 27.875 0 \nQ 17.828125 0 11.671875 7.65625 \nQ 5.515625 15.328125 5.515625 27.984375 \nQ 5.515625 40.671875 11.671875 48.328125 \nQ 17.828125 56 27.875 56 \nQ 33.9375 56 38.28125 53.609375 \nQ 42.625 51.21875 45.40625 46.390625 \nL 45.40625 54.6875 \nL 54.390625 54.6875 \nz\n\" id=\"DejaVuSans-103\"/>\n       <path d=\"M 18.3125 70.21875 \nL 18.3125 54.6875 \nL 36.8125 54.6875 \nL 36.8125 47.703125 \nL 18.3125 47.703125 \nL 18.3125 18.015625 \nQ 18.3125 11.328125 20.140625 9.421875 \nQ 21.96875 7.515625 27.59375 7.515625 \nL 36.8125 7.515625 \nL 36.8125 0 \nL 27.59375 0 \nQ 17.1875 0 13.234375 3.875 \nQ 9.28125 7.765625 9.28125 18.015625 \nL 9.28125 47.703125 \nL 2.6875 47.703125 \nL 2.6875 54.6875 \nL 9.28125 54.6875 \nL 9.28125 70.21875 \nz\n\" id=\"DejaVuSans-116\"/>\n       <path d=\"M 54.890625 33.015625 \nL 54.890625 0 \nL 45.90625 0 \nL 45.90625 32.71875 \nQ 45.90625 40.484375 42.875 44.328125 \nQ 39.84375 48.1875 33.796875 48.1875 \nQ 26.515625 48.1875 22.3125 43.546875 \nQ 18.109375 38.921875 18.109375 30.90625 \nL 18.109375 0 \nL 9.078125 0 \nL 9.078125 75.984375 \nL 18.109375 75.984375 \nL 18.109375 46.1875 \nQ 21.34375 51.125 25.703125 53.5625 \nQ 30.078125 56 35.796875 56 \nQ 45.21875 56 50.046875 50.171875 \nQ 54.890625 44.34375 54.890625 33.015625 \nz\n\" id=\"DejaVuSans-104\"/>\n      </defs>\n      <use xlink:href=\"#DejaVuSans-108\"/>\n      <use x=\"27.783203\" xlink:href=\"#DejaVuSans-101\"/>\n      <use x=\"89.306641\" xlink:href=\"#DejaVuSans-110\"/>\n      <use x=\"152.685547\" xlink:href=\"#DejaVuSans-103\"/>\n      <use x=\"216.162109\" xlink:href=\"#DejaVuSans-116\"/>\n      <use x=\"255.371094\" xlink:href=\"#DejaVuSans-104\"/>\n     </g>\n    </g>\n   </g>\n   <g id=\"matplotlib.axis_2\">\n    <g id=\"ytick_1\">\n     <g id=\"line2d_9\">\n      <defs>\n       <path d=\"M 0 0 \nL -3.5 0 \n\" id=\"m0715dd2c23\" style=\"stroke:#000000;stroke-width:0.8;\"/>\n      </defs>\n      <g>\n       <use style=\"stroke:#000000;stroke-width:0.8;\" x=\"39.65\" xlink:href=\"#m0715dd2c23\" y=\"239.758125\"/>\n      </g>\n     </g>\n     <g id=\"text_10\">\n      <!-- 0 -->\n      <g transform=\"translate(26.2875 243.557344)scale(0.1 -0.1)\">\n       <use xlink:href=\"#DejaVuSans-48\"/>\n      </g>\n     </g>\n    </g>\n    <g id=\"ytick_2\">\n     <g id=\"line2d_10\">\n      <g>\n       <use style=\"stroke:#000000;stroke-width:0.8;\" x=\"39.65\" xlink:href=\"#m0715dd2c23\" y=\"197.409308\"/>\n      </g>\n     </g>\n     <g id=\"text_11\">\n      <!-- 1000 -->\n      <g transform=\"translate(7.2 201.208527)scale(0.1 -0.1)\">\n       <use xlink:href=\"#DejaVuSans-49\"/>\n       <use x=\"63.623047\" xlink:href=\"#DejaVuSans-48\"/>\n       <use x=\"127.246094\" xlink:href=\"#DejaVuSans-48\"/>\n       <use x=\"190.869141\" xlink:href=\"#DejaVuSans-48\"/>\n      </g>\n     </g>\n    </g>\n    <g id=\"ytick_3\">\n     <g id=\"line2d_11\">\n      <g>\n       <use style=\"stroke:#000000;stroke-width:0.8;\" x=\"39.65\" xlink:href=\"#m0715dd2c23\" y=\"155.060491\"/>\n      </g>\n     </g>\n     <g id=\"text_12\">\n      <!-- 2000 -->\n      <g transform=\"translate(7.2 158.85971)scale(0.1 -0.1)\">\n       <use xlink:href=\"#DejaVuSans-50\"/>\n       <use x=\"63.623047\" xlink:href=\"#DejaVuSans-48\"/>\n       <use x=\"127.246094\" xlink:href=\"#DejaVuSans-48\"/>\n       <use x=\"190.869141\" xlink:href=\"#DejaVuSans-48\"/>\n      </g>\n     </g>\n    </g>\n    <g id=\"ytick_4\">\n     <g id=\"line2d_12\">\n      <g>\n       <use style=\"stroke:#000000;stroke-width:0.8;\" x=\"39.65\" xlink:href=\"#m0715dd2c23\" y=\"112.711675\"/>\n      </g>\n     </g>\n     <g id=\"text_13\">\n      <!-- 3000 -->\n      <g transform=\"translate(7.2 116.510893)scale(0.1 -0.1)\">\n       <use xlink:href=\"#DejaVuSans-51\"/>\n       <use x=\"63.623047\" xlink:href=\"#DejaVuSans-48\"/>\n       <use x=\"127.246094\" xlink:href=\"#DejaVuSans-48\"/>\n       <use x=\"190.869141\" xlink:href=\"#DejaVuSans-48\"/>\n      </g>\n     </g>\n    </g>\n    <g id=\"ytick_5\">\n     <g id=\"line2d_13\">\n      <g>\n       <use style=\"stroke:#000000;stroke-width:0.8;\" x=\"39.65\" xlink:href=\"#m0715dd2c23\" y=\"70.362858\"/>\n      </g>\n     </g>\n     <g id=\"text_14\">\n      <!-- 4000 -->\n      <g transform=\"translate(7.2 74.162076)scale(0.1 -0.1)\">\n       <use xlink:href=\"#DejaVuSans-52\"/>\n       <use x=\"63.623047\" xlink:href=\"#DejaVuSans-48\"/>\n       <use x=\"127.246094\" xlink:href=\"#DejaVuSans-48\"/>\n       <use x=\"190.869141\" xlink:href=\"#DejaVuSans-48\"/>\n      </g>\n     </g>\n    </g>\n    <g id=\"ytick_6\">\n     <g id=\"line2d_14\">\n      <g>\n       <use style=\"stroke:#000000;stroke-width:0.8;\" x=\"39.65\" xlink:href=\"#m0715dd2c23\" y=\"28.014041\"/>\n      </g>\n     </g>\n     <g id=\"text_15\">\n      <!-- 5000 -->\n      <g transform=\"translate(7.2 31.81326)scale(0.1 -0.1)\">\n       <use xlink:href=\"#DejaVuSans-53\"/>\n       <use x=\"63.623047\" xlink:href=\"#DejaVuSans-48\"/>\n       <use x=\"127.246094\" xlink:href=\"#DejaVuSans-48\"/>\n       <use x=\"190.869141\" xlink:href=\"#DejaVuSans-48\"/>\n      </g>\n     </g>\n    </g>\n   </g>\n   <g id=\"patch_93\">\n    <path d=\"M 39.65 239.758125 \nL 39.65 22.318125 \n\" style=\"fill:none;stroke:#000000;stroke-linecap:square;stroke-linejoin:miter;stroke-width:0.8;\"/>\n   </g>\n   <g id=\"patch_94\">\n    <path d=\"M 374.45 239.758125 \nL 374.45 22.318125 \n\" style=\"fill:none;stroke:#000000;stroke-linecap:square;stroke-linejoin:miter;stroke-width:0.8;\"/>\n   </g>\n   <g id=\"patch_95\">\n    <path d=\"M 39.65 239.758125 \nL 374.45 239.758125 \n\" style=\"fill:none;stroke:#000000;stroke-linecap:square;stroke-linejoin:miter;stroke-width:0.8;\"/>\n   </g>\n   <g id=\"patch_96\">\n    <path d=\"M 39.65 22.318125 \nL 374.45 22.318125 \n\" style=\"fill:none;stroke:#000000;stroke-linecap:square;stroke-linejoin:miter;stroke-width:0.8;\"/>\n   </g>\n   <g id=\"text_16\">\n    <!-- Sequence Length Distribution -->\n    <g transform=\"translate(117.939688 16.318125)scale(0.12 -0.12)\">\n     <defs>\n      <path d=\"M 53.515625 70.515625 \nL 53.515625 60.890625 \nQ 47.90625 63.578125 42.921875 64.890625 \nQ 37.9375 66.21875 33.296875 66.21875 \nQ 25.25 66.21875 20.875 63.09375 \nQ 16.5 59.96875 16.5 54.203125 \nQ 16.5 49.359375 19.40625 46.890625 \nQ 22.3125 44.4375 30.421875 42.921875 \nL 36.375 41.703125 \nQ 47.40625 39.59375 52.65625 34.296875 \nQ 57.90625 29 57.90625 20.125 \nQ 57.90625 9.515625 50.796875 4.046875 \nQ 43.703125 -1.421875 29.984375 -1.421875 \nQ 24.8125 -1.421875 18.96875 -0.25 \nQ 13.140625 0.921875 6.890625 3.21875 \nL 6.890625 13.375 \nQ 12.890625 10.015625 18.65625 8.296875 \nQ 24.421875 6.59375 29.984375 6.59375 \nQ 38.421875 6.59375 43.015625 9.90625 \nQ 47.609375 13.234375 47.609375 19.390625 \nQ 47.609375 24.75 44.3125 27.78125 \nQ 41.015625 30.8125 33.5 32.328125 \nL 27.484375 33.5 \nQ 16.453125 35.6875 11.515625 40.375 \nQ 6.59375 45.0625 6.59375 53.421875 \nQ 6.59375 63.09375 13.40625 68.65625 \nQ 20.21875 74.21875 32.171875 74.21875 \nQ 37.3125 74.21875 42.625 73.28125 \nQ 47.953125 72.359375 53.515625 70.515625 \nz\n\" id=\"DejaVuSans-83\"/>\n      <path d=\"M 14.796875 27.296875 \nQ 14.796875 17.390625 18.875 11.75 \nQ 22.953125 6.109375 30.078125 6.109375 \nQ 37.203125 6.109375 41.296875 11.75 \nQ 45.40625 17.390625 45.40625 27.296875 \nQ 45.40625 37.203125 41.296875 42.84375 \nQ 37.203125 48.484375 30.078125 48.484375 \nQ 22.953125 48.484375 18.875 42.84375 \nQ 14.796875 37.203125 14.796875 27.296875 \nz\nM 45.40625 8.203125 \nQ 42.578125 3.328125 38.25 0.953125 \nQ 33.9375 -1.421875 27.875 -1.421875 \nQ 17.96875 -1.421875 11.734375 6.484375 \nQ 5.515625 14.40625 5.515625 27.296875 \nQ 5.515625 40.1875 11.734375 48.09375 \nQ 17.96875 56 27.875 56 \nQ 33.9375 56 38.25 53.625 \nQ 42.578125 51.265625 45.40625 46.390625 \nL 45.40625 54.6875 \nL 54.390625 54.6875 \nL 54.390625 -20.796875 \nL 45.40625 -20.796875 \nz\n\" id=\"DejaVuSans-113\"/>\n      <path d=\"M 8.5 21.578125 \nL 8.5 54.6875 \nL 17.484375 54.6875 \nL 17.484375 21.921875 \nQ 17.484375 14.15625 20.5 10.265625 \nQ 23.53125 6.390625 29.59375 6.390625 \nQ 36.859375 6.390625 41.078125 11.03125 \nQ 45.3125 15.671875 45.3125 23.6875 \nL 45.3125 54.6875 \nL 54.296875 54.6875 \nL 54.296875 0 \nL 45.3125 0 \nL 45.3125 8.40625 \nQ 42.046875 3.421875 37.71875 1 \nQ 33.40625 -1.421875 27.6875 -1.421875 \nQ 18.265625 -1.421875 13.375 4.4375 \nQ 8.5 10.296875 8.5 21.578125 \nz\nM 31.109375 56 \nz\n\" id=\"DejaVuSans-117\"/>\n      <path d=\"M 48.78125 52.59375 \nL 48.78125 44.1875 \nQ 44.96875 46.296875 41.140625 47.34375 \nQ 37.3125 48.390625 33.40625 48.390625 \nQ 24.65625 48.390625 19.8125 42.84375 \nQ 14.984375 37.3125 14.984375 27.296875 \nQ 14.984375 17.28125 19.8125 11.734375 \nQ 24.65625 6.203125 33.40625 6.203125 \nQ 37.3125 6.203125 41.140625 7.25 \nQ 44.96875 8.296875 48.78125 10.40625 \nL 48.78125 2.09375 \nQ 45.015625 0.34375 40.984375 -0.53125 \nQ 36.96875 -1.421875 32.421875 -1.421875 \nQ 20.0625 -1.421875 12.78125 6.34375 \nQ 5.515625 14.109375 5.515625 27.296875 \nQ 5.515625 40.671875 12.859375 48.328125 \nQ 20.21875 56 33.015625 56 \nQ 37.15625 56 41.109375 55.140625 \nQ 45.0625 54.296875 48.78125 52.59375 \nz\n\" id=\"DejaVuSans-99\"/>\n      <path id=\"DejaVuSans-32\"/>\n      <path d=\"M 9.8125 72.90625 \nL 19.671875 72.90625 \nL 19.671875 8.296875 \nL 55.171875 8.296875 \nL 55.171875 0 \nL 9.8125 0 \nz\n\" id=\"DejaVuSans-76\"/>\n      <path d=\"M 19.671875 64.796875 \nL 19.671875 8.109375 \nL 31.59375 8.109375 \nQ 46.6875 8.109375 53.6875 14.9375 \nQ 60.6875 21.78125 60.6875 36.53125 \nQ 60.6875 51.171875 53.6875 57.984375 \nQ 46.6875 64.796875 31.59375 64.796875 \nz\nM 9.8125 72.90625 \nL 30.078125 72.90625 \nQ 51.265625 72.90625 61.171875 64.09375 \nQ 71.09375 55.28125 71.09375 36.53125 \nQ 71.09375 17.671875 61.125 8.828125 \nQ 51.171875 0 30.078125 0 \nL 9.8125 0 \nz\n\" id=\"DejaVuSans-68\"/>\n      <path d=\"M 9.421875 54.6875 \nL 18.40625 54.6875 \nL 18.40625 0 \nL 9.421875 0 \nz\nM 9.421875 75.984375 \nL 18.40625 75.984375 \nL 18.40625 64.59375 \nL 9.421875 64.59375 \nz\n\" id=\"DejaVuSans-105\"/>\n      <path d=\"M 44.28125 53.078125 \nL 44.28125 44.578125 \nQ 40.484375 46.53125 36.375 47.5 \nQ 32.28125 48.484375 27.875 48.484375 \nQ 21.1875 48.484375 17.84375 46.4375 \nQ 14.5 44.390625 14.5 40.28125 \nQ 14.5 37.15625 16.890625 35.375 \nQ 19.28125 33.59375 26.515625 31.984375 \nL 29.59375 31.296875 \nQ 39.15625 29.25 43.1875 25.515625 \nQ 47.21875 21.78125 47.21875 15.09375 \nQ 47.21875 7.46875 41.1875 3.015625 \nQ 35.15625 -1.421875 24.609375 -1.421875 \nQ 20.21875 -1.421875 15.453125 -0.5625 \nQ 10.6875 0.296875 5.421875 2 \nL 5.421875 11.28125 \nQ 10.40625 8.6875 15.234375 7.390625 \nQ 20.0625 6.109375 24.8125 6.109375 \nQ 31.15625 6.109375 34.5625 8.28125 \nQ 37.984375 10.453125 37.984375 14.40625 \nQ 37.984375 18.0625 35.515625 20.015625 \nQ 33.0625 21.96875 24.703125 23.78125 \nL 21.578125 24.515625 \nQ 13.234375 26.265625 9.515625 29.90625 \nQ 5.8125 33.546875 5.8125 39.890625 \nQ 5.8125 47.609375 11.28125 51.796875 \nQ 16.75 56 26.8125 56 \nQ 31.78125 56 36.171875 55.265625 \nQ 40.578125 54.546875 44.28125 53.078125 \nz\n\" id=\"DejaVuSans-115\"/>\n      <path d=\"M 41.109375 46.296875 \nQ 39.59375 47.171875 37.8125 47.578125 \nQ 36.03125 48 33.890625 48 \nQ 26.265625 48 22.1875 43.046875 \nQ 18.109375 38.09375 18.109375 28.8125 \nL 18.109375 0 \nL 9.078125 0 \nL 9.078125 54.6875 \nL 18.109375 54.6875 \nL 18.109375 46.1875 \nQ 20.953125 51.171875 25.484375 53.578125 \nQ 30.03125 56 36.53125 56 \nQ 37.453125 56 38.578125 55.875 \nQ 39.703125 55.765625 41.0625 55.515625 \nz\n\" id=\"DejaVuSans-114\"/>\n      <path d=\"M 48.6875 27.296875 \nQ 48.6875 37.203125 44.609375 42.84375 \nQ 40.53125 48.484375 33.40625 48.484375 \nQ 26.265625 48.484375 22.1875 42.84375 \nQ 18.109375 37.203125 18.109375 27.296875 \nQ 18.109375 17.390625 22.1875 11.75 \nQ 26.265625 6.109375 33.40625 6.109375 \nQ 40.53125 6.109375 44.609375 11.75 \nQ 48.6875 17.390625 48.6875 27.296875 \nz\nM 18.109375 46.390625 \nQ 20.953125 51.265625 25.265625 53.625 \nQ 29.59375 56 35.59375 56 \nQ 45.5625 56 51.78125 48.09375 \nQ 58.015625 40.1875 58.015625 27.296875 \nQ 58.015625 14.40625 51.78125 6.484375 \nQ 45.5625 -1.421875 35.59375 -1.421875 \nQ 29.59375 -1.421875 25.265625 0.953125 \nQ 20.953125 3.328125 18.109375 8.203125 \nL 18.109375 0 \nL 9.078125 0 \nL 9.078125 75.984375 \nL 18.109375 75.984375 \nz\n\" id=\"DejaVuSans-98\"/>\n      <path d=\"M 30.609375 48.390625 \nQ 23.390625 48.390625 19.1875 42.75 \nQ 14.984375 37.109375 14.984375 27.296875 \nQ 14.984375 17.484375 19.15625 11.84375 \nQ 23.34375 6.203125 30.609375 6.203125 \nQ 37.796875 6.203125 41.984375 11.859375 \nQ 46.1875 17.53125 46.1875 27.296875 \nQ 46.1875 37.015625 41.984375 42.703125 \nQ 37.796875 48.390625 30.609375 48.390625 \nz\nM 30.609375 56 \nQ 42.328125 56 49.015625 48.375 \nQ 55.71875 40.765625 55.71875 27.296875 \nQ 55.71875 13.875 49.015625 6.21875 \nQ 42.328125 -1.421875 30.609375 -1.421875 \nQ 18.84375 -1.421875 12.171875 6.21875 \nQ 5.515625 13.875 5.515625 27.296875 \nQ 5.515625 40.765625 12.171875 48.375 \nQ 18.84375 56 30.609375 56 \nz\n\" id=\"DejaVuSans-111\"/>\n     </defs>\n     <use xlink:href=\"#DejaVuSans-83\"/>\n     <use x=\"63.476562\" xlink:href=\"#DejaVuSans-101\"/>\n     <use x=\"125\" xlink:href=\"#DejaVuSans-113\"/>\n     <use x=\"188.476562\" xlink:href=\"#DejaVuSans-117\"/>\n     <use x=\"251.855469\" xlink:href=\"#DejaVuSans-101\"/>\n     <use x=\"313.378906\" xlink:href=\"#DejaVuSans-110\"/>\n     <use x=\"376.757812\" xlink:href=\"#DejaVuSans-99\"/>\n     <use x=\"431.738281\" xlink:href=\"#DejaVuSans-101\"/>\n     <use x=\"493.261719\" xlink:href=\"#DejaVuSans-32\"/>\n     <use x=\"525.048828\" xlink:href=\"#DejaVuSans-76\"/>\n     <use x=\"579.011719\" xlink:href=\"#DejaVuSans-101\"/>\n     <use x=\"640.535156\" xlink:href=\"#DejaVuSans-110\"/>\n     <use x=\"703.914062\" xlink:href=\"#DejaVuSans-103\"/>\n     <use x=\"767.390625\" xlink:href=\"#DejaVuSans-116\"/>\n     <use x=\"806.599609\" xlink:href=\"#DejaVuSans-104\"/>\n     <use x=\"869.978516\" xlink:href=\"#DejaVuSans-32\"/>\n     <use x=\"901.765625\" xlink:href=\"#DejaVuSans-68\"/>\n     <use x=\"978.767578\" xlink:href=\"#DejaVuSans-105\"/>\n     <use x=\"1006.550781\" xlink:href=\"#DejaVuSans-115\"/>\n     <use x=\"1058.650391\" xlink:href=\"#DejaVuSans-116\"/>\n     <use x=\"1097.859375\" xlink:href=\"#DejaVuSans-114\"/>\n     <use x=\"1138.972656\" xlink:href=\"#DejaVuSans-105\"/>\n     <use x=\"1166.755859\" xlink:href=\"#DejaVuSans-98\"/>\n     <use x=\"1230.232422\" xlink:href=\"#DejaVuSans-117\"/>\n     <use x=\"1293.611328\" xlink:href=\"#DejaVuSans-116\"/>\n     <use x=\"1332.820312\" xlink:href=\"#DejaVuSans-105\"/>\n     <use x=\"1360.603516\" xlink:href=\"#DejaVuSans-111\"/>\n     <use x=\"1421.785156\" xlink:href=\"#DejaVuSans-110\"/>\n    </g>\n   </g>\n   <g id=\"legend_1\">\n    <g id=\"patch_97\">\n     <path d=\"M 282.601563 74.3525 \nL 367.45 74.3525 \nQ 369.45 74.3525 369.45 72.3525 \nL 369.45 29.318125 \nQ 369.45 27.318125 367.45 27.318125 \nL 282.601563 27.318125 \nQ 280.601563 27.318125 280.601563 29.318125 \nL 280.601563 72.3525 \nQ 280.601563 74.3525 282.601563 74.3525 \nz\n\" style=\"fill:#ffffff;opacity:0.8;stroke:#cccccc;stroke-linejoin:miter;\"/>\n    </g>\n    <g id=\"text_17\">\n     <!-- Sequence -->\n     <g transform=\"translate(300.360938 38.916562)scale(0.1 -0.1)\">\n      <use xlink:href=\"#DejaVuSans-83\"/>\n      <use x=\"63.476562\" xlink:href=\"#DejaVuSans-101\"/>\n      <use x=\"125\" xlink:href=\"#DejaVuSans-113\"/>\n      <use x=\"188.476562\" xlink:href=\"#DejaVuSans-117\"/>\n      <use x=\"251.855469\" xlink:href=\"#DejaVuSans-101\"/>\n      <use x=\"313.378906\" xlink:href=\"#DejaVuSans-110\"/>\n      <use x=\"376.757812\" xlink:href=\"#DejaVuSans-99\"/>\n      <use x=\"431.738281\" xlink:href=\"#DejaVuSans-101\"/>\n     </g>\n    </g>\n    <g id=\"patch_98\">\n     <path d=\"M 284.601563 53.594687 \nL 304.601563 53.594687 \nL 304.601563 46.594687 \nL 284.601563 46.594687 \nz\n\" style=\"fill:#1f77b4;opacity:0.4;\"/>\n    </g>\n    <g id=\"text_18\">\n     <!-- protein -->\n     <g transform=\"translate(312.601563 53.594687)scale(0.1 -0.1)\">\n      <defs>\n       <path d=\"M 18.109375 8.203125 \nL 18.109375 -20.796875 \nL 9.078125 -20.796875 \nL 9.078125 54.6875 \nL 18.109375 54.6875 \nL 18.109375 46.390625 \nQ 20.953125 51.265625 25.265625 53.625 \nQ 29.59375 56 35.59375 56 \nQ 45.5625 56 51.78125 48.09375 \nQ 58.015625 40.1875 58.015625 27.296875 \nQ 58.015625 14.40625 51.78125 6.484375 \nQ 45.5625 -1.421875 35.59375 -1.421875 \nQ 29.59375 -1.421875 25.265625 0.953125 \nQ 20.953125 3.328125 18.109375 8.203125 \nz\nM 48.6875 27.296875 \nQ 48.6875 37.203125 44.609375 42.84375 \nQ 40.53125 48.484375 33.40625 48.484375 \nQ 26.265625 48.484375 22.1875 42.84375 \nQ 18.109375 37.203125 18.109375 27.296875 \nQ 18.109375 17.390625 22.1875 11.75 \nQ 26.265625 6.109375 33.40625 6.109375 \nQ 40.53125 6.109375 44.609375 11.75 \nQ 48.6875 17.390625 48.6875 27.296875 \nz\n\" id=\"DejaVuSans-112\"/>\n      </defs>\n      <use xlink:href=\"#DejaVuSans-112\"/>\n      <use x=\"63.476562\" xlink:href=\"#DejaVuSans-114\"/>\n      <use x=\"102.339844\" xlink:href=\"#DejaVuSans-111\"/>\n      <use x=\"163.521484\" xlink:href=\"#DejaVuSans-116\"/>\n      <use x=\"202.730469\" xlink:href=\"#DejaVuSans-101\"/>\n      <use x=\"264.253906\" xlink:href=\"#DejaVuSans-105\"/>\n      <use x=\"292.037109\" xlink:href=\"#DejaVuSans-110\"/>\n     </g>\n    </g>\n    <g id=\"patch_99\">\n     <path d=\"M 284.601563 68.272812 \nL 304.601563 68.272812 \nL 304.601563 61.272812 \nL 284.601563 61.272812 \nz\n\" style=\"fill:#ff7f0e;opacity:0.4;\"/>\n    </g>\n    <g id=\"text_19\">\n     <!-- compound -->\n     <g transform=\"translate(312.601563 68.272812)scale(0.1 -0.1)\">\n      <defs>\n       <path d=\"M 52 44.1875 \nQ 55.375 50.25 60.0625 53.125 \nQ 64.75 56 71.09375 56 \nQ 79.640625 56 84.28125 50.015625 \nQ 88.921875 44.046875 88.921875 33.015625 \nL 88.921875 0 \nL 79.890625 0 \nL 79.890625 32.71875 \nQ 79.890625 40.578125 77.09375 44.375 \nQ 74.3125 48.1875 68.609375 48.1875 \nQ 61.625 48.1875 57.5625 43.546875 \nQ 53.515625 38.921875 53.515625 30.90625 \nL 53.515625 0 \nL 44.484375 0 \nL 44.484375 32.71875 \nQ 44.484375 40.625 41.703125 44.40625 \nQ 38.921875 48.1875 33.109375 48.1875 \nQ 26.21875 48.1875 22.15625 43.53125 \nQ 18.109375 38.875 18.109375 30.90625 \nL 18.109375 0 \nL 9.078125 0 \nL 9.078125 54.6875 \nL 18.109375 54.6875 \nL 18.109375 46.1875 \nQ 21.1875 51.21875 25.484375 53.609375 \nQ 29.78125 56 35.6875 56 \nQ 41.65625 56 45.828125 52.96875 \nQ 50 49.953125 52 44.1875 \nz\n\" id=\"DejaVuSans-109\"/>\n       <path d=\"M 45.40625 46.390625 \nL 45.40625 75.984375 \nL 54.390625 75.984375 \nL 54.390625 0 \nL 45.40625 0 \nL 45.40625 8.203125 \nQ 42.578125 3.328125 38.25 0.953125 \nQ 33.9375 -1.421875 27.875 -1.421875 \nQ 17.96875 -1.421875 11.734375 6.484375 \nQ 5.515625 14.40625 5.515625 27.296875 \nQ 5.515625 40.1875 11.734375 48.09375 \nQ 17.96875 56 27.875 56 \nQ 33.9375 56 38.25 53.625 \nQ 42.578125 51.265625 45.40625 46.390625 \nz\nM 14.796875 27.296875 \nQ 14.796875 17.390625 18.875 11.75 \nQ 22.953125 6.109375 30.078125 6.109375 \nQ 37.203125 6.109375 41.296875 11.75 \nQ 45.40625 17.390625 45.40625 27.296875 \nQ 45.40625 37.203125 41.296875 42.84375 \nQ 37.203125 48.484375 30.078125 48.484375 \nQ 22.953125 48.484375 18.875 42.84375 \nQ 14.796875 37.203125 14.796875 27.296875 \nz\n\" id=\"DejaVuSans-100\"/>\n      </defs>\n      <use xlink:href=\"#DejaVuSans-99\"/>\n      <use x=\"54.980469\" xlink:href=\"#DejaVuSans-111\"/>\n      <use x=\"116.162109\" xlink:href=\"#DejaVuSans-109\"/>\n      <use x=\"213.574219\" xlink:href=\"#DejaVuSans-112\"/>\n      <use x=\"277.050781\" xlink:href=\"#DejaVuSans-111\"/>\n      <use x=\"338.232422\" xlink:href=\"#DejaVuSans-117\"/>\n      <use x=\"401.611328\" xlink:href=\"#DejaVuSans-110\"/>\n      <use x=\"464.990234\" xlink:href=\"#DejaVuSans-100\"/>\n     </g>\n    </g>\n   </g>\n  </g>\n </g>\n <defs>\n  <clipPath id=\"pd274ff55a8\">\n   <rect height=\"217.44\" width=\"334.8\" x=\"39.65\" y=\"22.318125\"/>\n  </clipPath>\n </defs>\n</svg>\n",
      "image/png": "[encoded data removed]"
     },
     "metadata": {
      "needs_background": "light"
     }
    }
   ],
   "source": [
    "sns.distplot(sequence_len_dist_data[sequence_len_dist_data.sequence == \"protein\"]['length'], label = \"protein\", kde = False)\n",
    "sns.distplot(sequence_len_dist_data[sequence_len_dist_data.sequence == \"compound\"]['length'], label = \"compound\", kde = False)\n",
    "plt.legend(title = 'Sequence')\n",
    "plt.title('Sequence Length Distribution')\n",
    "plt.show()"
   ]
  },
  {
   "source": [
    "## (3-2) 시퀀스 데이터 토큰화 및 정수 임베딩하기"
   ],
   "cell_type": "markdown",
   "metadata": {}
  },
  {
   "source": [
    "#### (1) 최대 길이 저장 "
   ],
   "cell_type": "markdown",
   "metadata": {}
  },
  {
   "cell_type": "code",
   "execution_count": 201,
   "metadata": {},
   "outputs": [],
   "source": [
    "# Protein, Ligand 시퀀스 토큰화 하기\n",
    "protein_max_len = max(trunc_sample_data['BindingDB Target Chain Sequence'].apply(lambda x : len(x)))\n",
    "compound_max_len = max(trunc_sample_data['Ligand SMILES'].apply(lambda x : len(x)))\n",
    "\n"
   ]
  },
  {
   "source": [
    "#### (2) 시퀀스 토큰화"
   ],
   "cell_type": "markdown",
   "metadata": {}
  },
  {
   "cell_type": "code",
   "execution_count": 204,
   "metadata": {},
   "outputs": [],
   "source": [
    "# 표적 단백질 시퀀스  (Amino acids sequence represented as FASTA)\n",
    "FASTA_dat = np.array(copy.deepcopy(trunc_sample_data['BindingDB Target Chain Sequence']))\n",
    "for idx, FASTA in enumerate(trunc_sample_data['BindingDB Target Chain Sequence']):\n",
    "    FASTA_dat[idx] = list(FASTA)\n",
    "\n",
    "FASTA_dat = list(FASTA_dat)\n",
    "\n",
    "# 약물 시퀀스 (compound sequence represented as SMILES)\n",
    "SMILES_dat = np.array(copy.deepcopy(trunc_sample_data['Ligand SMILES']))\n",
    "for idx, SMILES in enumerate(trunc_sample_data['Ligand SMILES']):\n",
    "    SMILES_dat[idx] = list(SMILES)\n",
    "\n",
    "SMILES_dat = list(SMILES_dat)"
   ]
  },
  {
   "source": [
    "#### (3) 시퀀스 정수 임베딩"
   ],
   "cell_type": "markdown",
   "metadata": {}
  },
  {
   "source": [
    "정수 임베딩을 위해 텐서플로-케라스 전처리 라이브러리 `preprocessing.text`와 `preprocessing.sequence`에서 `Tokenizer` 및 `pad_sesquences` 설치하기"
   ],
   "cell_type": "markdown",
   "metadata": {}
  },
  {
   "cell_type": "code",
   "execution_count": 206,
   "metadata": {},
   "outputs": [],
   "source": [
    "from tensorflow.keras.preprocessing.text import Tokenizer\n",
    "from tensorflow.keras.preprocessing.sequence import pad_sequences\n",
    "\n"
   ]
  },
  {
   "source": [
    "`Tokenizer`를 활용해서 토크나이저 객체 `my_tokenizer` 정의. 이 때 `filters = ' '`와 `lower = False` 명심. \n",
    "\n",
    "`filters`는 토큰화하지 않을 문자를 설정하는 인자로 default값으로 모든 알파벳 외 문자들을 토큰화에서 배제하도록 되어있음. SMILES같은 경우 `[`, `@` 등 특수 문자들이 의미를 가지는 토큰으로 간주되어야 하므로 `filters`를 SMILES에 등장하지 않을 법한 어떤 문자로 설정해주어야 함. \n",
    "\n",
    "`lower`는 모든 알파벳을 소문자로 강제하는 인자로 default값으로 `True`가 설정되어 있음. SMILES에서는 대문자 C와 소문자 c가 다른 의미를 가지므로 `lower = False`로 해주어야 함."
   ],
   "cell_type": "markdown",
   "metadata": {}
  },
  {
   "cell_type": "code",
   "execution_count": 208,
   "metadata": {},
   "outputs": [],
   "source": [
    "# 단백질 시퀀스 정수 임베딩\n",
    "protein_tokenizer = Tokenizer(filters = ' ', lower = False)\n",
    "protein_tokenizer.fit_on_texts(FASTA_dat)\n",
    "encoded_FASTA = protein_tokenizer.texts_to_sequences(FASTA_dat)\n",
    "padded_FASTA = pad_sequences(encoded_FASTA, maxlen = protein_max_len, padding = 'post')\n",
    "\n",
    "# 약물 시퀀스 정수 임베딩\n",
    "compound_tokenizer = Tokenizer(filters = ' ', lower = False)\n",
    "compound_tokenizer.fit_on_texts(SMILES_dat)\n",
    "encoded_SMILES = compound_tokenizer.texts_to_sequences(SMILES_dat)\n",
    "padded_SMILES = pad_sequences(encoded_SMILES, maxlen = compound_max_len, padding = 'post')"
   ]
  },
  {
   "source": [
    "#### (4) 토큰화 및 정수 임베딩 결과 확인"
   ],
   "cell_type": "markdown",
   "metadata": {}
  },
  {
   "source": [
    "# 단백질 시퀀스 토큰화 및 정수 임베딩 결과 확인\n",
    "print(protein_tokenizer.word_index)\n",
    "print(padded_FASTA)\n",
    "\n",
    "# 약물 시퀀스 토큰화 및 정수 임베딩 결과 확인\n",
    "print(compound_tokenizer.word_index)\n",
    "print(padded_SMILES)"
   ],
   "cell_type": "code",
   "metadata": {},
   "execution_count": 213,
   "outputs": [
    {
     "output_type": "stream",
     "name": "stdout",
     "text": [
      "{'L': 1, 'G': 2, 'S': 3, 'A': 4, 'V': 5, 'E': 6, 'K': 7, 'P': 8, 'R': 9, 'T': 10, 'D': 11, 'I': 12, 'F': 13, 'N': 14, 'Q': 15, 'Y': 16, 'H': 17, 'M': 18, 'C': 19, 'W': 20, 'l': 21, 'a': 22, 'e': 23, 'k': 24, 'i': 25, 's': 26, 'q': 27, 'd': 28, 'r': 29, 'n': 30, 't': 31, 'f': 32, 'v': 33, 'm': 34, 'h': 35, 'p': 36, 'c': 37, 'g': 38, 'y': 39, 'w': 40, '1': 41, 'X': 42, '2': 43, '3': 44, '4': 45, '5': 46, '6': 47, '7': 48, '8': 49, '9': 50, '0': 51}\n[[18  4 15 ...  0  0  0]\n [18  4 15 ...  0  0  0]\n [18  4 15 ...  0  0  0]\n ...\n [18 14  8 ...  0  0  0]\n [18 14  8 ...  0  0  0]\n [18 14  8 ...  0  0  0]]\n{'c': 1, 'C': 2, '(': 3, ')': 4, '1': 5, 'O': 6, 'N': 7, '=': 8, '2': 9, 'n': 10, '@': 11, '[': 12, ']': 13, 'H': 14, '3': 15, '-': 16, 'F': 17, 'S': 18, 'l': 19, '4': 20, 's': 21, '\\\\': 22, 'o': 23, '#': 24, 'B': 25, 'r': 26, '5': 27, '+': 28, '/': 29, 'I': 30, 'P': 31, '6': 32, '7': 33, '8': 34, 'e': 35, 'R': 36, '.': 37, '9': 38, 'b': 39, 'i': 40, 'u': 41}\n[[6 7 2 ... 0 0 0]\n [2 6 1 ... 0 0 0]\n [6 7 2 ... 0 0 0]\n ...\n [2 2 3 ... 0 0 0]\n [2 2 1 ... 0 0 0]\n [2 2 3 ... 0 0 0]]\n"
     ]
    }
   ]
  },
  {
   "cell_type": "code",
   "execution_count": 212,
   "metadata": {},
   "outputs": [
    {
     "output_type": "stream",
     "name": "stdout",
     "text": [
      "{'c': 1, 'C': 2, '(': 3, ')': 4, '1': 5, 'O': 6, 'N': 7, '=': 8, '2': 9, 'n': 10, '@': 11, '[': 12, ']': 13, 'H': 14, '3': 15, '-': 16, 'F': 17, 'S': 18, 'l': 19, '4': 20, 's': 21, '\\\\': 22, 'o': 23, '#': 24, 'B': 25, 'r': 26, '5': 27, '+': 28, '/': 29, 'I': 30, 'P': 31, '6': 32, '7': 33, '8': 34, 'e': 35, 'R': 36, '.': 37, '9': 38, 'b': 39, 'i': 40, 'u': 41}\n[[6 7 2 ... 0 0 0]\n [2 6 1 ... 0 0 0]\n [6 7 2 ... 0 0 0]\n ...\n [2 2 3 ... 0 0 0]\n [2 2 1 ... 0 0 0]\n [2 2 3 ... 0 0 0]]\n"
     ]
    }
   ],
   "source": []
  }
 ]
}