{
 "metadata": {
  "language_info": {
   "codemirror_mode": {
    "name": "ipython",
    "version": 3
   },
   "file_extension": ".py",
   "mimetype": "text/x-python",
   "name": "python",
   "nbconvert_exporter": "python",
   "pygments_lexer": "ipython3",
   "version": "3.8.2-final"
  },
  "orig_nbformat": 2,
  "kernelspec": {
   "name": "python3",
   "display_name": "Python 3.8.2 64-bit ('unist_server': conda)",
   "metadata": {
    "interpreter": {
     "hash": "1b88f1cae7631816959f36c791634d3ccfd1a78b9962e828355f546e62f2d0e9"
    }
   }
  }
 },
 "nbformat": 4,
 "nbformat_minor": 2,
 "cells": [
  {
   "source": [
    "# (1) Install Libraries"
   ],
   "cell_type": "markdown",
   "metadata": {}
  },
  {
   "cell_type": "code",
   "execution_count": 169,
   "metadata": {},
   "outputs": [],
   "source": [
    "import pandas as pd\n",
    "import numpy as np\n",
    "import matplotlib.pyplot as plt\n",
    "import seaborn as sns"
   ]
  },
  {
   "source": [
    "# (2) Load BindingDB dataset"
   ],
   "cell_type": "markdown",
   "metadata": {}
  },
  {
   "cell_type": "code",
   "execution_count": 170,
   "metadata": {},
   "outputs": [],
   "source": [
    "raw_data = pd.read_csv('/home/messy92/Leo/Drug-discovery-research/data/BindingDB_BindingDB_Inhibition (prep).csv')\n"
   ]
  },
  {
   "cell_type": "code",
   "execution_count": 171,
   "metadata": {},
   "outputs": [
    {
     "output_type": "execute_result",
     "data": {
      "text/plain": [
       "       BindingDB Reactant_set_id  \\\n",
       "0                         455059   \n",
       "1                         455061   \n",
       "2                         455065   \n",
       "3                         455066   \n",
       "4                         455067   \n",
       "...                          ...   \n",
       "16881                     868736   \n",
       "16882                     868739   \n",
       "16883                     868747   \n",
       "16884                     868749   \n",
       "16885                     868750   \n",
       "\n",
       "                                           Ligand SMILES  \\\n",
       "0          ONC(=O)CCCCn1cc(C(=O)Nc2ccccc2)c(=O)c2ccccc12   \n",
       "1        COc1ccc(NC(=O)c2cn(CCCCC(=O)NO)c3ccccc3c2=O)cc1   \n",
       "2          ONC(=O)CCCCn1cc(C(=O)Nc2ccncc2)c(=O)c2ccccc12   \n",
       "3           ONC(=O)CCCCn1cc(C(=O)Nc2nccs2)c(=O)c2ccccc12   \n",
       "4          Cc1csc(NC(=O)c2cn(CCCCC(=O)NO)c3ccccc3c2=O)n1   \n",
       "...                                                  ...   \n",
       "16881  CCCC(C(CC(C)C)C(=O)NC(CCCCNC(=O)OCc1ccccc1)C(=...   \n",
       "16882  CC(C)CC(NC(Cc1cncn1Cc1cc(Cl)cc(Cl)c1)C(O)=O)C(...   \n",
       "16883      CC(C)C(NC(=O)OCc1ccccc1)C(=O)NC(Cc1ccccc1)C=O   \n",
       "16884  CCc1ccccc1NC(=O)CSC(=O)NNC(=O)C(Cc1c[nH]c2cccc...   \n",
       "16885  CC(C)(C)OC(=O)NC(Cc1c[nH]c2ccccc12)C(=O)NNC(=O...   \n",
       "\n",
       "                                   BindingDB Ligand Name  \\\n",
       "0                      Quinolone-based HDAC inhibitor 4a   \n",
       "1                      Quinolone-based HDAC inhibitor 4c   \n",
       "2                      Quinolone-based HDAC inhibitor 4g   \n",
       "3                      Quinolone-based HDAC inhibitor 4h   \n",
       "4                      Quinolone-based HDAC inhibitor 4i   \n",
       "...                                                  ...   \n",
       "16881                             med.21724, Compound 10   \n",
       "16882                             med.21724, Compound 13   \n",
       "16883  MDL28170::Z-Val-Phe-CHO::benzyl N-[(1S)-2-meth...   \n",
       "16884                             med.21724, Compound 21   \n",
       "16885                             med.21724, Compound 22   \n",
       "\n",
       "      Target Name Assigned by Curator or DataSource  \\\n",
       "0                        Histone acetylases (HDACs)   \n",
       "1                        Histone acetylases (HDACs)   \n",
       "2                        Histone acetylases (HDACs)   \n",
       "3                        Histone acetylases (HDACs)   \n",
       "4                        Histone acetylases (HDACs)   \n",
       "...                                             ...   \n",
       "16881               Angiotensin-converting enzyme 2   \n",
       "16882               Angiotensin-converting enzyme 2   \n",
       "16883                           Cathepsin (L and K)   \n",
       "16884                           Cathepsin (L and K)   \n",
       "16885                           Cathepsin (L and K)   \n",
       "\n",
       "      Target Source Organism According to Curator or DataSource  Ki (nM)  \\\n",
       "0                                           Homo sapiens             NaN   \n",
       "1                                           Homo sapiens             NaN   \n",
       "2                                           Homo sapiens             NaN   \n",
       "3                                           Homo sapiens             NaN   \n",
       "4                                           Homo sapiens             NaN   \n",
       "...                                                  ...             ...   \n",
       "16881                                       Homo sapiens             NaN   \n",
       "16882                                       Homo sapiens             NaN   \n",
       "16883                                       Homo sapiens             NaN   \n",
       "16884                                       Homo sapiens             NaN   \n",
       "16885                                       Homo sapiens             NaN   \n",
       "\n",
       "       IC50 (nM)  Kd (nM)  EC50 (nM)  PubChem CID ZINC ID of Ligand  \\\n",
       "0           32.0      NaN        NaN  131953857.0      ZINC33410638   \n",
       "1           39.0      NaN        NaN  131953859.0      ZINC04863960   \n",
       "2           90.0      NaN        NaN  131953863.0      ZINC00164363   \n",
       "3           42.0      NaN        NaN  131953864.0      ZINC02686872   \n",
       "4            0.0      NaN        NaN  131953865.0      ZINC03257684   \n",
       "...          ...      ...        ...          ...               ...   \n",
       "16881        1.0      NaN        NaN          NaN               NaN   \n",
       "16882        0.0      NaN        NaN          NaN               NaN   \n",
       "16883        3.0      NaN        NaN    9907994.0      ZINC08584799   \n",
       "16884        7.0      NaN        NaN          NaN               NaN   \n",
       "16885       56.0      NaN        NaN          NaN               NaN   \n",
       "\n",
       "       Number of Protein Chains in Target (>1 implies a multichain complex)  \\\n",
       "0                                                      5                      \n",
       "1                                                      5                      \n",
       "2                                                      5                      \n",
       "3                                                      5                      \n",
       "4                                                      5                      \n",
       "...                                                  ...                      \n",
       "16881                                                  1                      \n",
       "16882                                                  1                      \n",
       "16883                                                  1                      \n",
       "16884                                                  1                      \n",
       "16885                                                  1                      \n",
       "\n",
       "                         BindingDB Target Chain Sequence  \\\n",
       "0      MAQTQGTRRKVCYYYDGDVGNYYYGQGHPMKPHRIRMTHNLLLNYG...   \n",
       "1      MAQTQGTRRKVCYYYDGDVGNYYYGQGHPMKPHRIRMTHNLLLNYG...   \n",
       "2      MAQTQGTRRKVCYYYDGDVGNYYYGQGHPMKPHRIRMTHNLLLNYG...   \n",
       "3      MAQTQGTRRKVCYYYDGDVGNYYYGQGHPMKPHRIRMTHNLLLNYG...   \n",
       "4      MAQTQGTRRKVCYYYDGDVGNYYYGQGHPMKPHRIRMTHNLLLNYG...   \n",
       "...                                                  ...   \n",
       "16881  MSSSSWLLLSLVAVTAAQSTIEEQAKTFLDKFNHEAEDLFYQSSLA...   \n",
       "16882  MSSSSWLLLSLVAVTAAQSTIEEQAKTFLDKFNHEAEDLFYQSSLA...   \n",
       "16883  MNPTLILAAFCLGIASATLTFDHSLEAQWTKWKAMHNRLYGMNEEG...   \n",
       "16884  MNPTLILAAFCLGIASATLTFDHSLEAQWTKWKAMHNRLYGMNEEG...   \n",
       "16885  MNPTLILAAFCLGIASATLTFDHSLEAQWTKWKAMHNRLYGMNEEG...   \n",
       "\n",
       "                               PDB ID(s) of Target Chain  \\\n",
       "0                               3MAX,4BKX,5ICN,6Z2J,6Z2K   \n",
       "1                               3MAX,4BKX,5ICN,6Z2J,6Z2K   \n",
       "2                               3MAX,4BKX,5ICN,6Z2J,6Z2K   \n",
       "3                               3MAX,4BKX,5ICN,6Z2J,6Z2K   \n",
       "4                               3MAX,4BKX,5ICN,6Z2J,6Z2K   \n",
       "...                                                  ...   \n",
       "16881                      1R42,1R4L,2AJF,3KBH,6LZG,6VW1   \n",
       "16882                      1R42,1R4L,2AJF,3KBH,6LZG,6VW1   \n",
       "16883  1ICF,1MHW,2VHS,2XU3,2XU4,2XU5,2YJ2,2YJ8,2YJ9,2...   \n",
       "16884  1ICF,1MHW,2VHS,2XU3,2XU4,2XU5,2YJ2,2YJ8,2YJ9,2...   \n",
       "16885  1ICF,1MHW,2VHS,2XU3,2XU4,2XU5,2YJ2,2YJ8,2YJ9,2...   \n",
       "\n",
       "      UniProt (SwissProt) Recommended Name of Target Chain  \n",
       "0                                  Histone deacetylase 1    \n",
       "1                                  Histone deacetylase 1    \n",
       "2                                  Histone deacetylase 1    \n",
       "3                                  Histone deacetylase 1    \n",
       "4                                  Histone deacetylase 1    \n",
       "...                                                  ...    \n",
       "16881                    Angiotensin-converting enzyme 2    \n",
       "16882                    Angiotensin-converting enzyme 2    \n",
       "16883                                     Procathepsin L    \n",
       "16884                                     Procathepsin L    \n",
       "16885                                     Procathepsin L    \n",
       "\n",
       "[16886 rows x 15 columns]"
      ],
      "text/html": "<div>\n<style scoped>\n    .dataframe tbody tr th:only-of-type {\n        vertical-align: middle;\n    }\n\n    .dataframe tbody tr th {\n        vertical-align: top;\n    }\n\n    .dataframe thead th {\n        text-align: right;\n    }\n</style>\n<table border=\"1\" class=\"dataframe\">\n  <thead>\n    <tr style=\"text-align: right;\">\n      <th></th>\n      <th>BindingDB Reactant_set_id</th>\n      <th>Ligand SMILES</th>\n      <th>BindingDB Ligand Name</th>\n      <th>Target Name Assigned by Curator or DataSource</th>\n      <th>Target Source Organism According to Curator or DataSource</th>\n      <th>Ki (nM)</th>\n      <th>IC50 (nM)</th>\n      <th>Kd (nM)</th>\n      <th>EC50 (nM)</th>\n      <th>PubChem CID</th>\n      <th>ZINC ID of Ligand</th>\n      <th>Number of Protein Chains in Target (&gt;1 implies a multichain complex)</th>\n      <th>BindingDB Target Chain Sequence</th>\n      <th>PDB ID(s) of Target Chain</th>\n      <th>UniProt (SwissProt) Recommended Name of Target Chain</th>\n    </tr>\n  </thead>\n  <tbody>\n    <tr>\n      <th>0</th>\n      <td>455059</td>\n      <td>ONC(=O)CCCCn1cc(C(=O)Nc2ccccc2)c(=O)c2ccccc12</td>\n      <td>Quinolone-based HDAC inhibitor 4a</td>\n      <td>Histone acetylases (HDACs)</td>\n      <td>Homo sapiens</td>\n      <td>NaN</td>\n      <td>32.0</td>\n      <td>NaN</td>\n      <td>NaN</td>\n      <td>131953857.0</td>\n      <td>ZINC33410638</td>\n      <td>5</td>\n      <td>MAQTQGTRRKVCYYYDGDVGNYYYGQGHPMKPHRIRMTHNLLLNYG...</td>\n      <td>3MAX,4BKX,5ICN,6Z2J,6Z2K</td>\n      <td>Histone deacetylase 1</td>\n    </tr>\n    <tr>\n      <th>1</th>\n      <td>455061</td>\n      <td>COc1ccc(NC(=O)c2cn(CCCCC(=O)NO)c3ccccc3c2=O)cc1</td>\n      <td>Quinolone-based HDAC inhibitor 4c</td>\n      <td>Histone acetylases (HDACs)</td>\n      <td>Homo sapiens</td>\n      <td>NaN</td>\n      <td>39.0</td>\n      <td>NaN</td>\n      <td>NaN</td>\n      <td>131953859.0</td>\n      <td>ZINC04863960</td>\n      <td>5</td>\n      <td>MAQTQGTRRKVCYYYDGDVGNYYYGQGHPMKPHRIRMTHNLLLNYG...</td>\n      <td>3MAX,4BKX,5ICN,6Z2J,6Z2K</td>\n      <td>Histone deacetylase 1</td>\n    </tr>\n    <tr>\n      <th>2</th>\n      <td>455065</td>\n      <td>ONC(=O)CCCCn1cc(C(=O)Nc2ccncc2)c(=O)c2ccccc12</td>\n      <td>Quinolone-based HDAC inhibitor 4g</td>\n      <td>Histone acetylases (HDACs)</td>\n      <td>Homo sapiens</td>\n      <td>NaN</td>\n      <td>90.0</td>\n      <td>NaN</td>\n      <td>NaN</td>\n      <td>131953863.0</td>\n      <td>ZINC00164363</td>\n      <td>5</td>\n      <td>MAQTQGTRRKVCYYYDGDVGNYYYGQGHPMKPHRIRMTHNLLLNYG...</td>\n      <td>3MAX,4BKX,5ICN,6Z2J,6Z2K</td>\n      <td>Histone deacetylase 1</td>\n    </tr>\n    <tr>\n      <th>3</th>\n      <td>455066</td>\n      <td>ONC(=O)CCCCn1cc(C(=O)Nc2nccs2)c(=O)c2ccccc12</td>\n      <td>Quinolone-based HDAC inhibitor 4h</td>\n      <td>Histone acetylases (HDACs)</td>\n      <td>Homo sapiens</td>\n      <td>NaN</td>\n      <td>42.0</td>\n      <td>NaN</td>\n      <td>NaN</td>\n      <td>131953864.0</td>\n      <td>ZINC02686872</td>\n      <td>5</td>\n      <td>MAQTQGTRRKVCYYYDGDVGNYYYGQGHPMKPHRIRMTHNLLLNYG...</td>\n      <td>3MAX,4BKX,5ICN,6Z2J,6Z2K</td>\n      <td>Histone deacetylase 1</td>\n    </tr>\n    <tr>\n      <th>4</th>\n      <td>455067</td>\n      <td>Cc1csc(NC(=O)c2cn(CCCCC(=O)NO)c3ccccc3c2=O)n1</td>\n      <td>Quinolone-based HDAC inhibitor 4i</td>\n      <td>Histone acetylases (HDACs)</td>\n      <td>Homo sapiens</td>\n      <td>NaN</td>\n      <td>0.0</td>\n      <td>NaN</td>\n      <td>NaN</td>\n      <td>131953865.0</td>\n      <td>ZINC03257684</td>\n      <td>5</td>\n      <td>MAQTQGTRRKVCYYYDGDVGNYYYGQGHPMKPHRIRMTHNLLLNYG...</td>\n      <td>3MAX,4BKX,5ICN,6Z2J,6Z2K</td>\n      <td>Histone deacetylase 1</td>\n    </tr>\n    <tr>\n      <th>...</th>\n      <td>...</td>\n      <td>...</td>\n      <td>...</td>\n      <td>...</td>\n      <td>...</td>\n      <td>...</td>\n      <td>...</td>\n      <td>...</td>\n      <td>...</td>\n      <td>...</td>\n      <td>...</td>\n      <td>...</td>\n      <td>...</td>\n      <td>...</td>\n      <td>...</td>\n    </tr>\n    <tr>\n      <th>16881</th>\n      <td>868736</td>\n      <td>CCCC(C(CC(C)C)C(=O)NC(CCCCNC(=O)OCc1ccccc1)C(=...</td>\n      <td>med.21724, Compound 10</td>\n      <td>Angiotensin-converting enzyme 2</td>\n      <td>Homo sapiens</td>\n      <td>NaN</td>\n      <td>1.0</td>\n      <td>NaN</td>\n      <td>NaN</td>\n      <td>NaN</td>\n      <td>NaN</td>\n      <td>1</td>\n      <td>MSSSSWLLLSLVAVTAAQSTIEEQAKTFLDKFNHEAEDLFYQSSLA...</td>\n      <td>1R42,1R4L,2AJF,3KBH,6LZG,6VW1</td>\n      <td>Angiotensin-converting enzyme 2</td>\n    </tr>\n    <tr>\n      <th>16882</th>\n      <td>868739</td>\n      <td>CC(C)CC(NC(Cc1cncn1Cc1cc(Cl)cc(Cl)c1)C(O)=O)C(...</td>\n      <td>med.21724, Compound 13</td>\n      <td>Angiotensin-converting enzyme 2</td>\n      <td>Homo sapiens</td>\n      <td>NaN</td>\n      <td>0.0</td>\n      <td>NaN</td>\n      <td>NaN</td>\n      <td>NaN</td>\n      <td>NaN</td>\n      <td>1</td>\n      <td>MSSSSWLLLSLVAVTAAQSTIEEQAKTFLDKFNHEAEDLFYQSSLA...</td>\n      <td>1R42,1R4L,2AJF,3KBH,6LZG,6VW1</td>\n      <td>Angiotensin-converting enzyme 2</td>\n    </tr>\n    <tr>\n      <th>16883</th>\n      <td>868747</td>\n      <td>CC(C)C(NC(=O)OCc1ccccc1)C(=O)NC(Cc1ccccc1)C=O</td>\n      <td>MDL28170::Z-Val-Phe-CHO::benzyl N-[(1S)-2-meth...</td>\n      <td>Cathepsin (L and K)</td>\n      <td>Homo sapiens</td>\n      <td>NaN</td>\n      <td>3.0</td>\n      <td>NaN</td>\n      <td>NaN</td>\n      <td>9907994.0</td>\n      <td>ZINC08584799</td>\n      <td>1</td>\n      <td>MNPTLILAAFCLGIASATLTFDHSLEAQWTKWKAMHNRLYGMNEEG...</td>\n      <td>1ICF,1MHW,2VHS,2XU3,2XU4,2XU5,2YJ2,2YJ8,2YJ9,2...</td>\n      <td>Procathepsin L</td>\n    </tr>\n    <tr>\n      <th>16884</th>\n      <td>868749</td>\n      <td>CCc1ccccc1NC(=O)CSC(=O)NNC(=O)C(Cc1c[nH]c2cccc...</td>\n      <td>med.21724, Compound 21</td>\n      <td>Cathepsin (L and K)</td>\n      <td>Homo sapiens</td>\n      <td>NaN</td>\n      <td>7.0</td>\n      <td>NaN</td>\n      <td>NaN</td>\n      <td>NaN</td>\n      <td>NaN</td>\n      <td>1</td>\n      <td>MNPTLILAAFCLGIASATLTFDHSLEAQWTKWKAMHNRLYGMNEEG...</td>\n      <td>1ICF,1MHW,2VHS,2XU3,2XU4,2XU5,2YJ2,2YJ8,2YJ9,2...</td>\n      <td>Procathepsin L</td>\n    </tr>\n    <tr>\n      <th>16885</th>\n      <td>868750</td>\n      <td>CC(C)(C)OC(=O)NC(Cc1c[nH]c2ccccc12)C(=O)NNC(=O...</td>\n      <td>med.21724, Compound 22</td>\n      <td>Cathepsin (L and K)</td>\n      <td>Homo sapiens</td>\n      <td>NaN</td>\n      <td>56.0</td>\n      <td>NaN</td>\n      <td>NaN</td>\n      <td>NaN</td>\n      <td>NaN</td>\n      <td>1</td>\n      <td>MNPTLILAAFCLGIASATLTFDHSLEAQWTKWKAMHNRLYGMNEEG...</td>\n      <td>1ICF,1MHW,2VHS,2XU3,2XU4,2XU5,2YJ2,2YJ8,2YJ9,2...</td>\n      <td>Procathepsin L</td>\n    </tr>\n  </tbody>\n</table>\n<p>16886 rows × 15 columns</p>\n</div>"
     },
     "metadata": {},
     "execution_count": 171
    }
   ],
   "source": [
    "raw_data"
   ]
  },
  {
   "source": [
    "# (3) 전처리하기\n",
    "## (3-1) 일부 변수들만 뽑아주기\n",
    "BindingDB에 포함된 모든 변수를 사용해 줄 필요는 없다. 오히려 일부 변수들은 동일한 정보를 다르게 표현하고 있을 뿐인 경우도 많다.\n",
    "\n",
    "Target-Drug Translation 문제를 풀기 위해 필수적인 변수는 다음과 같다.\n",
    "\n",
    "* 표적 단백질 시퀀스 (Target Chaing Sequence)\n",
    "* 리간드 시퀀스 (Ligand SMILES)\n",
    "* 단백질 - 리간드 반응 변수 (ex., Ki, IC50, Kd, EC50 etc.)\n",
    "\n",
    "그 외 변수들은 선택사항으로 자유롭게 추가한다.\n",
    "\n",
    "본 연구에선 기존 15개 변수들 중 아래와 같이 6개 변수들만을 선택하였다.\n",
    "\n",
    "```{.python}\n",
    "raw_data = raw_data.loc[:, ['Ligand SMILES', 'BindingDB Target Chain Sequence', 'Ki (nM)', 'IC50 (nM)', 'Kd (nM)', 'EC50 (nM)']]\n",
    "```\n",
    "\n",
    "이때 각 변수들의 의미는 다음과 같다.\n",
    "\n",
    "- `Ligand SMILES`: Target Protein에 반응한다고 알려진 리간드 화합물을 SMILES로 표현한 값 (시퀀스)\n",
    "- `Binding DB Target Chain Sequence`: Target Protein의 아미노산 염기서열 (amino acids sequence) (시퀀스)\n"
   ],
   "cell_type": "markdown",
   "metadata": {}
  },
  {
   "cell_type": "code",
   "execution_count": 173,
   "metadata": {},
   "outputs": [
    {
     "output_type": "execute_result",
     "data": {
      "text/plain": [
       "                                           Ligand SMILES  \\\n",
       "0          ONC(=O)CCCCn1cc(C(=O)Nc2ccccc2)c(=O)c2ccccc12   \n",
       "1        COc1ccc(NC(=O)c2cn(CCCCC(=O)NO)c3ccccc3c2=O)cc1   \n",
       "2          ONC(=O)CCCCn1cc(C(=O)Nc2ccncc2)c(=O)c2ccccc12   \n",
       "3           ONC(=O)CCCCn1cc(C(=O)Nc2nccs2)c(=O)c2ccccc12   \n",
       "4          Cc1csc(NC(=O)c2cn(CCCCC(=O)NO)c3ccccc3c2=O)n1   \n",
       "...                                                  ...   \n",
       "16881  CCCC(C(CC(C)C)C(=O)NC(CCCCNC(=O)OCc1ccccc1)C(=...   \n",
       "16882  CC(C)CC(NC(Cc1cncn1Cc1cc(Cl)cc(Cl)c1)C(O)=O)C(...   \n",
       "16883      CC(C)C(NC(=O)OCc1ccccc1)C(=O)NC(Cc1ccccc1)C=O   \n",
       "16884  CCc1ccccc1NC(=O)CSC(=O)NNC(=O)C(Cc1c[nH]c2cccc...   \n",
       "16885  CC(C)(C)OC(=O)NC(Cc1c[nH]c2ccccc12)C(=O)NNC(=O...   \n",
       "\n",
       "                         BindingDB Target Chain Sequence  Ki (nM)  IC50 (nM)  \\\n",
       "0      MAQTQGTRRKVCYYYDGDVGNYYYGQGHPMKPHRIRMTHNLLLNYG...      NaN       32.0   \n",
       "1      MAQTQGTRRKVCYYYDGDVGNYYYGQGHPMKPHRIRMTHNLLLNYG...      NaN       39.0   \n",
       "2      MAQTQGTRRKVCYYYDGDVGNYYYGQGHPMKPHRIRMTHNLLLNYG...      NaN       90.0   \n",
       "3      MAQTQGTRRKVCYYYDGDVGNYYYGQGHPMKPHRIRMTHNLLLNYG...      NaN       42.0   \n",
       "4      MAQTQGTRRKVCYYYDGDVGNYYYGQGHPMKPHRIRMTHNLLLNYG...      NaN        0.0   \n",
       "...                                                  ...      ...        ...   \n",
       "16881  MSSSSWLLLSLVAVTAAQSTIEEQAKTFLDKFNHEAEDLFYQSSLA...      NaN        1.0   \n",
       "16882  MSSSSWLLLSLVAVTAAQSTIEEQAKTFLDKFNHEAEDLFYQSSLA...      NaN        0.0   \n",
       "16883  MNPTLILAAFCLGIASATLTFDHSLEAQWTKWKAMHNRLYGMNEEG...      NaN        3.0   \n",
       "16884  MNPTLILAAFCLGIASATLTFDHSLEAQWTKWKAMHNRLYGMNEEG...      NaN        7.0   \n",
       "16885  MNPTLILAAFCLGIASATLTFDHSLEAQWTKWKAMHNRLYGMNEEG...      NaN       56.0   \n",
       "\n",
       "       Kd (nM)  EC50 (nM)  \n",
       "0          NaN        NaN  \n",
       "1          NaN        NaN  \n",
       "2          NaN        NaN  \n",
       "3          NaN        NaN  \n",
       "4          NaN        NaN  \n",
       "...        ...        ...  \n",
       "16881      NaN        NaN  \n",
       "16882      NaN        NaN  \n",
       "16883      NaN        NaN  \n",
       "16884      NaN        NaN  \n",
       "16885      NaN        NaN  \n",
       "\n",
       "[16886 rows x 6 columns]"
      ],
      "text/html": "<div>\n<style scoped>\n    .dataframe tbody tr th:only-of-type {\n        vertical-align: middle;\n    }\n\n    .dataframe tbody tr th {\n        vertical-align: top;\n    }\n\n    .dataframe thead th {\n        text-align: right;\n    }\n</style>\n<table border=\"1\" class=\"dataframe\">\n  <thead>\n    <tr style=\"text-align: right;\">\n      <th></th>\n      <th>Ligand SMILES</th>\n      <th>BindingDB Target Chain Sequence</th>\n      <th>Ki (nM)</th>\n      <th>IC50 (nM)</th>\n      <th>Kd (nM)</th>\n      <th>EC50 (nM)</th>\n    </tr>\n  </thead>\n  <tbody>\n    <tr>\n      <th>0</th>\n      <td>ONC(=O)CCCCn1cc(C(=O)Nc2ccccc2)c(=O)c2ccccc12</td>\n      <td>MAQTQGTRRKVCYYYDGDVGNYYYGQGHPMKPHRIRMTHNLLLNYG...</td>\n      <td>NaN</td>\n      <td>32.0</td>\n      <td>NaN</td>\n      <td>NaN</td>\n    </tr>\n    <tr>\n      <th>1</th>\n      <td>COc1ccc(NC(=O)c2cn(CCCCC(=O)NO)c3ccccc3c2=O)cc1</td>\n      <td>MAQTQGTRRKVCYYYDGDVGNYYYGQGHPMKPHRIRMTHNLLLNYG...</td>\n      <td>NaN</td>\n      <td>39.0</td>\n      <td>NaN</td>\n      <td>NaN</td>\n    </tr>\n    <tr>\n      <th>2</th>\n      <td>ONC(=O)CCCCn1cc(C(=O)Nc2ccncc2)c(=O)c2ccccc12</td>\n      <td>MAQTQGTRRKVCYYYDGDVGNYYYGQGHPMKPHRIRMTHNLLLNYG...</td>\n      <td>NaN</td>\n      <td>90.0</td>\n      <td>NaN</td>\n      <td>NaN</td>\n    </tr>\n    <tr>\n      <th>3</th>\n      <td>ONC(=O)CCCCn1cc(C(=O)Nc2nccs2)c(=O)c2ccccc12</td>\n      <td>MAQTQGTRRKVCYYYDGDVGNYYYGQGHPMKPHRIRMTHNLLLNYG...</td>\n      <td>NaN</td>\n      <td>42.0</td>\n      <td>NaN</td>\n      <td>NaN</td>\n    </tr>\n    <tr>\n      <th>4</th>\n      <td>Cc1csc(NC(=O)c2cn(CCCCC(=O)NO)c3ccccc3c2=O)n1</td>\n      <td>MAQTQGTRRKVCYYYDGDVGNYYYGQGHPMKPHRIRMTHNLLLNYG...</td>\n      <td>NaN</td>\n      <td>0.0</td>\n      <td>NaN</td>\n      <td>NaN</td>\n    </tr>\n    <tr>\n      <th>...</th>\n      <td>...</td>\n      <td>...</td>\n      <td>...</td>\n      <td>...</td>\n      <td>...</td>\n      <td>...</td>\n    </tr>\n    <tr>\n      <th>16881</th>\n      <td>CCCC(C(CC(C)C)C(=O)NC(CCCCNC(=O)OCc1ccccc1)C(=...</td>\n      <td>MSSSSWLLLSLVAVTAAQSTIEEQAKTFLDKFNHEAEDLFYQSSLA...</td>\n      <td>NaN</td>\n      <td>1.0</td>\n      <td>NaN</td>\n      <td>NaN</td>\n    </tr>\n    <tr>\n      <th>16882</th>\n      <td>CC(C)CC(NC(Cc1cncn1Cc1cc(Cl)cc(Cl)c1)C(O)=O)C(...</td>\n      <td>MSSSSWLLLSLVAVTAAQSTIEEQAKTFLDKFNHEAEDLFYQSSLA...</td>\n      <td>NaN</td>\n      <td>0.0</td>\n      <td>NaN</td>\n      <td>NaN</td>\n    </tr>\n    <tr>\n      <th>16883</th>\n      <td>CC(C)C(NC(=O)OCc1ccccc1)C(=O)NC(Cc1ccccc1)C=O</td>\n      <td>MNPTLILAAFCLGIASATLTFDHSLEAQWTKWKAMHNRLYGMNEEG...</td>\n      <td>NaN</td>\n      <td>3.0</td>\n      <td>NaN</td>\n      <td>NaN</td>\n    </tr>\n    <tr>\n      <th>16884</th>\n      <td>CCc1ccccc1NC(=O)CSC(=O)NNC(=O)C(Cc1c[nH]c2cccc...</td>\n      <td>MNPTLILAAFCLGIASATLTFDHSLEAQWTKWKAMHNRLYGMNEEG...</td>\n      <td>NaN</td>\n      <td>7.0</td>\n      <td>NaN</td>\n      <td>NaN</td>\n    </tr>\n    <tr>\n      <th>16885</th>\n      <td>CC(C)(C)OC(=O)NC(Cc1c[nH]c2ccccc12)C(=O)NNC(=O...</td>\n      <td>MNPTLILAAFCLGIASATLTFDHSLEAQWTKWKAMHNRLYGMNEEG...</td>\n      <td>NaN</td>\n      <td>56.0</td>\n      <td>NaN</td>\n      <td>NaN</td>\n    </tr>\n  </tbody>\n</table>\n<p>16886 rows × 6 columns</p>\n</div>"
     },
     "metadata": {},
     "execution_count": 173
    }
   ],
   "source": [
    "sample_data = raw_data.loc[:, ['Ligand SMILES', 'BindingDB Target Chain Sequence', 'Ki (nM)', 'IC50 (nM)', 'Kd (nM)', 'EC50 (nM)']]\n",
    "sample_data\n"
   ]
  },
  {
   "source": [
    "## (3-2) 객체 타입 변경\n",
    "#### 객체 타입 확인하기"
   ],
   "cell_type": "markdown",
   "metadata": {}
  },
  {
   "cell_type": "code",
   "execution_count": 174,
   "metadata": {},
   "outputs": [
    {
     "output_type": "stream",
     "name": "stdout",
     "text": [
      "Ligand SMILES                       object\nBindingDB Target Chain Sequence     object\nKi (nM)                            float64\nIC50 (nM)                          float64\nKd (nM)                            float64\nEC50 (nM)                          float64\ndtype: object\n"
     ]
    }
   ],
   "source": [
    "# 객체 타입 알아보기\n",
    "print(sample_data.dtypes)"
   ]
  },
  {
   "source": [
    "#### 객체 타입 변경하기"
   ],
   "cell_type": "markdown",
   "metadata": {}
  },
  {
   "cell_type": "code",
   "execution_count": 167,
   "metadata": {},
   "outputs": [
    {
     "output_type": "error",
     "ename": "ValueError",
     "evalue": "could not convert string to float: '>250000'",
     "traceback": [
      "\u001b[0;31m---------------------------------------------------------------------------\u001b[0m",
      "\u001b[0;31mValueError\u001b[0m                                Traceback (most recent call last)",
      "\u001b[0;32m<ipython-input-167-d2d5e25aefda>\u001b[0m in \u001b[0;36m<module>\u001b[0;34m\u001b[0m\n\u001b[1;32m      2\u001b[0m \u001b[0;31m#raw_data2 = raw_data.fillna(0)\u001b[0m\u001b[0;34m\u001b[0m\u001b[0;34m\u001b[0m\u001b[0;34m\u001b[0m\u001b[0m\n\u001b[1;32m      3\u001b[0m \u001b[0;31m#raw_data2 = raw_data2.astype('str')\u001b[0m\u001b[0;34m\u001b[0m\u001b[0;34m\u001b[0m\u001b[0;34m\u001b[0m\u001b[0m\n\u001b[0;32m----> 4\u001b[0;31m \u001b[0mraw_data2\u001b[0m\u001b[0;34m[\u001b[0m\u001b[0;34m[\u001b[0m\u001b[0;34m'Ki (nM)'\u001b[0m\u001b[0;34m]\u001b[0m\u001b[0;34m]\u001b[0m\u001b[0;34m.\u001b[0m\u001b[0mastype\u001b[0m\u001b[0;34m(\u001b[0m\u001b[0mnp\u001b[0m\u001b[0;34m.\u001b[0m\u001b[0mfloat\u001b[0m\u001b[0;34m)\u001b[0m\u001b[0;34m\u001b[0m\u001b[0;34m\u001b[0m\u001b[0m\n\u001b[0m\u001b[1;32m      5\u001b[0m \u001b[0;31m#raw_data2.astype({'Ki (nM)' : float})\u001b[0m\u001b[0;34m\u001b[0m\u001b[0;34m\u001b[0m\u001b[0;34m\u001b[0m\u001b[0m\n\u001b[1;32m      6\u001b[0m \u001b[0;34m\u001b[0m\u001b[0m\n",
      "\u001b[0;32m~/.conda/envs/unist_server/lib/python3.8/site-packages/pandas/core/generic.py\u001b[0m in \u001b[0;36mastype\u001b[0;34m(self, dtype, copy, errors)\u001b[0m\n\u001b[1;32m   5872\u001b[0m         \u001b[0;32melse\u001b[0m\u001b[0;34m:\u001b[0m\u001b[0;34m\u001b[0m\u001b[0;34m\u001b[0m\u001b[0m\n\u001b[1;32m   5873\u001b[0m             \u001b[0;31m# else, only a single dtype is given\u001b[0m\u001b[0;34m\u001b[0m\u001b[0;34m\u001b[0m\u001b[0;34m\u001b[0m\u001b[0m\n\u001b[0;32m-> 5874\u001b[0;31m             \u001b[0mnew_data\u001b[0m \u001b[0;34m=\u001b[0m \u001b[0mself\u001b[0m\u001b[0;34m.\u001b[0m\u001b[0m_mgr\u001b[0m\u001b[0;34m.\u001b[0m\u001b[0mastype\u001b[0m\u001b[0;34m(\u001b[0m\u001b[0mdtype\u001b[0m\u001b[0;34m=\u001b[0m\u001b[0mdtype\u001b[0m\u001b[0;34m,\u001b[0m \u001b[0mcopy\u001b[0m\u001b[0;34m=\u001b[0m\u001b[0mcopy\u001b[0m\u001b[0;34m,\u001b[0m \u001b[0merrors\u001b[0m\u001b[0;34m=\u001b[0m\u001b[0merrors\u001b[0m\u001b[0;34m)\u001b[0m\u001b[0;34m\u001b[0m\u001b[0;34m\u001b[0m\u001b[0m\n\u001b[0m\u001b[1;32m   5875\u001b[0m             \u001b[0;32mreturn\u001b[0m \u001b[0mself\u001b[0m\u001b[0;34m.\u001b[0m\u001b[0m_constructor\u001b[0m\u001b[0;34m(\u001b[0m\u001b[0mnew_data\u001b[0m\u001b[0;34m)\u001b[0m\u001b[0;34m.\u001b[0m\u001b[0m__finalize__\u001b[0m\u001b[0;34m(\u001b[0m\u001b[0mself\u001b[0m\u001b[0;34m,\u001b[0m \u001b[0mmethod\u001b[0m\u001b[0;34m=\u001b[0m\u001b[0;34m\"astype\"\u001b[0m\u001b[0;34m)\u001b[0m\u001b[0;34m\u001b[0m\u001b[0;34m\u001b[0m\u001b[0m\n\u001b[1;32m   5876\u001b[0m \u001b[0;34m\u001b[0m\u001b[0m\n",
      "\u001b[0;32m~/.conda/envs/unist_server/lib/python3.8/site-packages/pandas/core/internals/managers.py\u001b[0m in \u001b[0;36mastype\u001b[0;34m(self, dtype, copy, errors)\u001b[0m\n\u001b[1;32m    629\u001b[0m         \u001b[0mself\u001b[0m\u001b[0;34m,\u001b[0m \u001b[0mdtype\u001b[0m\u001b[0;34m,\u001b[0m \u001b[0mcopy\u001b[0m\u001b[0;34m:\u001b[0m \u001b[0mbool\u001b[0m \u001b[0;34m=\u001b[0m \u001b[0;32mFalse\u001b[0m\u001b[0;34m,\u001b[0m \u001b[0merrors\u001b[0m\u001b[0;34m:\u001b[0m \u001b[0mstr\u001b[0m \u001b[0;34m=\u001b[0m \u001b[0;34m\"raise\"\u001b[0m\u001b[0;34m\u001b[0m\u001b[0;34m\u001b[0m\u001b[0m\n\u001b[1;32m    630\u001b[0m     ) -> \"BlockManager\":\n\u001b[0;32m--> 631\u001b[0;31m         \u001b[0;32mreturn\u001b[0m \u001b[0mself\u001b[0m\u001b[0;34m.\u001b[0m\u001b[0mapply\u001b[0m\u001b[0;34m(\u001b[0m\u001b[0;34m\"astype\"\u001b[0m\u001b[0;34m,\u001b[0m \u001b[0mdtype\u001b[0m\u001b[0;34m=\u001b[0m\u001b[0mdtype\u001b[0m\u001b[0;34m,\u001b[0m \u001b[0mcopy\u001b[0m\u001b[0;34m=\u001b[0m\u001b[0mcopy\u001b[0m\u001b[0;34m,\u001b[0m \u001b[0merrors\u001b[0m\u001b[0;34m=\u001b[0m\u001b[0merrors\u001b[0m\u001b[0;34m)\u001b[0m\u001b[0;34m\u001b[0m\u001b[0;34m\u001b[0m\u001b[0m\n\u001b[0m\u001b[1;32m    632\u001b[0m \u001b[0;34m\u001b[0m\u001b[0m\n\u001b[1;32m    633\u001b[0m     def convert(\n",
      "\u001b[0;32m~/.conda/envs/unist_server/lib/python3.8/site-packages/pandas/core/internals/managers.py\u001b[0m in \u001b[0;36mapply\u001b[0;34m(self, f, align_keys, ignore_failures, **kwargs)\u001b[0m\n\u001b[1;32m    425\u001b[0m                     \u001b[0mapplied\u001b[0m \u001b[0;34m=\u001b[0m \u001b[0mb\u001b[0m\u001b[0;34m.\u001b[0m\u001b[0mapply\u001b[0m\u001b[0;34m(\u001b[0m\u001b[0mf\u001b[0m\u001b[0;34m,\u001b[0m \u001b[0;34m**\u001b[0m\u001b[0mkwargs\u001b[0m\u001b[0;34m)\u001b[0m\u001b[0;34m\u001b[0m\u001b[0;34m\u001b[0m\u001b[0m\n\u001b[1;32m    426\u001b[0m                 \u001b[0;32melse\u001b[0m\u001b[0;34m:\u001b[0m\u001b[0;34m\u001b[0m\u001b[0;34m\u001b[0m\u001b[0m\n\u001b[0;32m--> 427\u001b[0;31m                     \u001b[0mapplied\u001b[0m \u001b[0;34m=\u001b[0m \u001b[0mgetattr\u001b[0m\u001b[0;34m(\u001b[0m\u001b[0mb\u001b[0m\u001b[0;34m,\u001b[0m \u001b[0mf\u001b[0m\u001b[0;34m)\u001b[0m\u001b[0;34m(\u001b[0m\u001b[0;34m**\u001b[0m\u001b[0mkwargs\u001b[0m\u001b[0;34m)\u001b[0m\u001b[0;34m\u001b[0m\u001b[0;34m\u001b[0m\u001b[0m\n\u001b[0m\u001b[1;32m    428\u001b[0m             \u001b[0;32mexcept\u001b[0m \u001b[0;34m(\u001b[0m\u001b[0mTypeError\u001b[0m\u001b[0;34m,\u001b[0m \u001b[0mNotImplementedError\u001b[0m\u001b[0;34m)\u001b[0m\u001b[0;34m:\u001b[0m\u001b[0;34m\u001b[0m\u001b[0;34m\u001b[0m\u001b[0m\n\u001b[1;32m    429\u001b[0m                 \u001b[0;32mif\u001b[0m \u001b[0;32mnot\u001b[0m \u001b[0mignore_failures\u001b[0m\u001b[0;34m:\u001b[0m\u001b[0;34m\u001b[0m\u001b[0;34m\u001b[0m\u001b[0m\n",
      "\u001b[0;32m~/.conda/envs/unist_server/lib/python3.8/site-packages/pandas/core/internals/blocks.py\u001b[0m in \u001b[0;36mastype\u001b[0;34m(self, dtype, copy, errors)\u001b[0m\n\u001b[1;32m    671\u001b[0m             \u001b[0mvals1d\u001b[0m \u001b[0;34m=\u001b[0m \u001b[0mvalues\u001b[0m\u001b[0;34m.\u001b[0m\u001b[0mravel\u001b[0m\u001b[0;34m(\u001b[0m\u001b[0;34m)\u001b[0m\u001b[0;34m\u001b[0m\u001b[0;34m\u001b[0m\u001b[0m\n\u001b[1;32m    672\u001b[0m             \u001b[0;32mtry\u001b[0m\u001b[0;34m:\u001b[0m\u001b[0;34m\u001b[0m\u001b[0;34m\u001b[0m\u001b[0m\n\u001b[0;32m--> 673\u001b[0;31m                 \u001b[0mvalues\u001b[0m \u001b[0;34m=\u001b[0m \u001b[0mastype_nansafe\u001b[0m\u001b[0;34m(\u001b[0m\u001b[0mvals1d\u001b[0m\u001b[0;34m,\u001b[0m \u001b[0mdtype\u001b[0m\u001b[0;34m,\u001b[0m \u001b[0mcopy\u001b[0m\u001b[0;34m=\u001b[0m\u001b[0;32mTrue\u001b[0m\u001b[0;34m)\u001b[0m\u001b[0;34m\u001b[0m\u001b[0;34m\u001b[0m\u001b[0m\n\u001b[0m\u001b[1;32m    674\u001b[0m             \u001b[0;32mexcept\u001b[0m \u001b[0;34m(\u001b[0m\u001b[0mValueError\u001b[0m\u001b[0;34m,\u001b[0m \u001b[0mTypeError\u001b[0m\u001b[0;34m)\u001b[0m\u001b[0;34m:\u001b[0m\u001b[0;34m\u001b[0m\u001b[0;34m\u001b[0m\u001b[0m\n\u001b[1;32m    675\u001b[0m                 \u001b[0;31m# e.g. astype_nansafe can fail on object-dtype of strings\u001b[0m\u001b[0;34m\u001b[0m\u001b[0;34m\u001b[0m\u001b[0;34m\u001b[0m\u001b[0m\n",
      "\u001b[0;32m~/.conda/envs/unist_server/lib/python3.8/site-packages/pandas/core/dtypes/cast.py\u001b[0m in \u001b[0;36mastype_nansafe\u001b[0;34m(arr, dtype, copy, skipna)\u001b[0m\n\u001b[1;32m   1095\u001b[0m     \u001b[0;32mif\u001b[0m \u001b[0mcopy\u001b[0m \u001b[0;32mor\u001b[0m \u001b[0mis_object_dtype\u001b[0m\u001b[0;34m(\u001b[0m\u001b[0marr\u001b[0m\u001b[0;34m)\u001b[0m \u001b[0;32mor\u001b[0m \u001b[0mis_object_dtype\u001b[0m\u001b[0;34m(\u001b[0m\u001b[0mdtype\u001b[0m\u001b[0;34m)\u001b[0m\u001b[0;34m:\u001b[0m\u001b[0;34m\u001b[0m\u001b[0;34m\u001b[0m\u001b[0m\n\u001b[1;32m   1096\u001b[0m         \u001b[0;31m# Explicit copy, or required since NumPy can't view from / to object.\u001b[0m\u001b[0;34m\u001b[0m\u001b[0;34m\u001b[0m\u001b[0;34m\u001b[0m\u001b[0m\n\u001b[0;32m-> 1097\u001b[0;31m         \u001b[0;32mreturn\u001b[0m \u001b[0marr\u001b[0m\u001b[0;34m.\u001b[0m\u001b[0mastype\u001b[0m\u001b[0;34m(\u001b[0m\u001b[0mdtype\u001b[0m\u001b[0;34m,\u001b[0m \u001b[0mcopy\u001b[0m\u001b[0;34m=\u001b[0m\u001b[0;32mTrue\u001b[0m\u001b[0;34m)\u001b[0m\u001b[0;34m\u001b[0m\u001b[0;34m\u001b[0m\u001b[0m\n\u001b[0m\u001b[1;32m   1098\u001b[0m \u001b[0;34m\u001b[0m\u001b[0m\n\u001b[1;32m   1099\u001b[0m     \u001b[0;32mreturn\u001b[0m \u001b[0marr\u001b[0m\u001b[0;34m.\u001b[0m\u001b[0mview\u001b[0m\u001b[0;34m(\u001b[0m\u001b[0mdtype\u001b[0m\u001b[0;34m)\u001b[0m\u001b[0;34m\u001b[0m\u001b[0;34m\u001b[0m\u001b[0m\n",
      "\u001b[0;31mValueError\u001b[0m: could not convert string to float: '>250000'"
     ]
    }
   ],
   "source": [
    "# 데이터 프레임 내 변수객체들의 자료형 변경 (일단 당장 필요한 변수들만)\n",
    "#raw_data2 = raw_data.fillna(0)\n",
    "#raw_data2 = raw_data2.astype('str')\n",
    "raw_data2[['Ki (nM)']].astype(np.float)\n",
    "#raw_data2.astype({'Ki (nM)' : float})\n",
    "\n",
    "#raw_data2[['Ki (nM)', 'IC50 (nM)', 'Kd (nM)', 'EC50 (nM)']].apply(pd.to_numeric)\n",
    "#raw_data.astype({'Ligand SMILES' : 'str', 'BindingDB Ligand Name' : 'str', 'BindingDB Target Chain  Sequence' : 'str', 'Ki (nM)' : 'float', 'IC50 (nM)' : 'float', 'Kd (nM)' : 'float','EC50 (nM)' : 'float'})"
   ]
  },
  {
   "cell_type": "code",
   "execution_count": 139,
   "metadata": {},
   "outputs": [
    {
     "output_type": "stream",
     "name": "stdout",
     "text": [
      "Ligand SMILES                                                           object\nBindingDB Ligand Name                                                   object\nBindingDB Target Chain  Sequence                                        object\nKi (nM)                                                                 object\nIC50 (nM)                                                               object\nKd (nM)                                                                 object\nEC50 (nM)                                                               object\nkon (M-1-s-1)                                                           object\nkoff (s-1)                                                              object\npH                                                                      object\nTemp (C)                                                                object\nCuration/DataSource                                                     object\nNumber of Protein Chains in Target (>1 implies a multichain complex)    object\nUniProt (SwissProt) Recommended Name of Target Chain                    object\nTarget Name Assigned by Curator or DataSource                           object\nTarget Source Organism According to Curator or DataSource               object\ndtype: object\n"
     ]
    }
   ],
   "source": [
    "print(raw_data2.dtypes)"
   ]
  },
  {
   "source": [
    "## (3-2) 분석"
   ],
   "cell_type": "markdown",
   "metadata": {}
  },
  {
   "cell_type": "code",
   "execution_count": null,
   "metadata": {},
   "outputs": [],
   "source": []
  },
  {
   "cell_type": "code",
   "execution_count": 123,
   "metadata": {},
   "outputs": [
    {
     "output_type": "execute_result",
     "data": {
      "text/plain": [
       "0        MGSNKSKPKDASQRRRSLEPAENVHGAGGGAFPASQTPSKPASADG...\n",
       "1        MGSNKSKPKDASQRRRSLEPAENVHGAGGGAFPASQTPSKPASADG...\n",
       "2        MGSNKSKPKDASQRRRSLEPAENVHGAGGGAFPASQTPSKPASADG...\n",
       "3        MGSNKSKPKDASQRRRSLEPAENVHGAGGGAFPASQTPSKPASADG...\n",
       "4        MGSNKSKPKDASQRRRSLEPAENVHGAGGGAFPASQTPSKPASADG...\n",
       "                               ...                        \n",
       "84139    MESLVPGFNEKTHVQLSLPVLQVRDVLVRGFGDSVEEVLSEARQHL...\n",
       "84140    MESLVPGFNEKTHVQLSLPVLQVRDVLVRGFGDSVEEVLSEARQHL...\n",
       "84141    MESLVPGFNEKTHVQLSLPVLQVRDVLVRGFGDSVEEVLSEARQHL...\n",
       "84142    MESLVPGFNEKTHVQLSLPVLQVRDVLVRGFGDSVEEVLSEARQHL...\n",
       "84143    MESLVPGFNEKTHVQLSLPVLQVRDVLVRGFGDSVEEVLSEARQHL...\n",
       "Name: BindingDB Target Chain  Sequence, Length: 84144, dtype: object"
      ]
     },
     "metadata": {},
     "execution_count": 123
    }
   ],
   "source": [
    "raw_data.loc[:, 'BindingDB Target Chain  Sequence']"
   ]
  },
  {
   "cell_type": "code",
   "execution_count": 72,
   "metadata": {},
   "outputs": [
    {
     "output_type": "error",
     "ename": "TypeError",
     "evalue": "The x variable is categorical, but one of ['numeric', 'datetime'] is required",
     "traceback": [
      "\u001b[0;31m---------------------------------------------------------------------------\u001b[0m",
      "\u001b[0;31mTypeError\u001b[0m                                 Traceback (most recent call last)",
      "\u001b[0;32m<ipython-input-72-d4b63ebb058b>\u001b[0m in \u001b[0;36m<module>\u001b[0;34m\u001b[0m\n\u001b[1;32m      2\u001b[0m \u001b[0mxvals_list\u001b[0m \u001b[0;34m=\u001b[0m \u001b[0mlist\u001b[0m\u001b[0;34m(\u001b[0m\u001b[0mrange\u001b[0m\u001b[0;34m(\u001b[0m\u001b[0mtest_dat\u001b[0m\u001b[0;34m.\u001b[0m\u001b[0mshape\u001b[0m\u001b[0;34m[\u001b[0m\u001b[0;36m0\u001b[0m\u001b[0;34m]\u001b[0m\u001b[0;34m)\u001b[0m\u001b[0;34m)\u001b[0m\u001b[0;34m\u001b[0m\u001b[0;34m\u001b[0m\u001b[0m\n\u001b[1;32m      3\u001b[0m \u001b[0msns\u001b[0m\u001b[0;34m.\u001b[0m\u001b[0mset\u001b[0m\u001b[0;34m(\u001b[0m\u001b[0mstyle\u001b[0m \u001b[0;34m=\u001b[0m \u001b[0;34m'darkgrid'\u001b[0m\u001b[0;34m)\u001b[0m\u001b[0;34m\u001b[0m\u001b[0;34m\u001b[0m\u001b[0m\n\u001b[0;32m----> 4\u001b[0;31m \u001b[0mfig\u001b[0m \u001b[0;34m=\u001b[0m \u001b[0msns\u001b[0m\u001b[0;34m.\u001b[0m\u001b[0mkdeplot\u001b[0m\u001b[0;34m(\u001b[0m\u001b[0mtest_dat\u001b[0m\u001b[0;34m[\u001b[0m\u001b[0;34m'IC50 (nM)'\u001b[0m\u001b[0;34m]\u001b[0m\u001b[0;34m,\u001b[0m \u001b[0mshade\u001b[0m \u001b[0;34m=\u001b[0m \u001b[0;32mTrue\u001b[0m\u001b[0;34m,\u001b[0m \u001b[0mcolor\u001b[0m \u001b[0;34m=\u001b[0m \u001b[0;34m'r'\u001b[0m\u001b[0;34m)\u001b[0m\u001b[0;34m\u001b[0m\u001b[0;34m\u001b[0m\u001b[0m\n\u001b[0m\u001b[1;32m      5\u001b[0m \u001b[0mfig\u001b[0m \u001b[0;34m=\u001b[0m \u001b[0msns\u001b[0m\u001b[0;34m.\u001b[0m\u001b[0mkdeplot\u001b[0m\u001b[0;34m(\u001b[0m\u001b[0mtest_dat\u001b[0m\u001b[0;34m[\u001b[0m\u001b[0;34m'EC50 (nM)'\u001b[0m\u001b[0;34m]\u001b[0m\u001b[0;34m,\u001b[0m \u001b[0mshade\u001b[0m \u001b[0;34m=\u001b[0m \u001b[0;32mTrue\u001b[0m\u001b[0;34m,\u001b[0m \u001b[0mcolor\u001b[0m \u001b[0;34m=\u001b[0m \u001b[0;34m'b'\u001b[0m\u001b[0;34m)\u001b[0m\u001b[0;34m\u001b[0m\u001b[0;34m\u001b[0m\u001b[0m\n\u001b[1;32m      6\u001b[0m \u001b[0mplot\u001b[0m\u001b[0;34m.\u001b[0m\u001b[0mshow\u001b[0m\u001b[0;34m(\u001b[0m\u001b[0;34m)\u001b[0m\u001b[0;34m\u001b[0m\u001b[0;34m\u001b[0m\u001b[0m\n",
      "\u001b[0;32m~/.conda/envs/unist_server/lib/python3.8/site-packages/seaborn/_decorators.py\u001b[0m in \u001b[0;36minner_f\u001b[0;34m(*args, **kwargs)\u001b[0m\n\u001b[1;32m     44\u001b[0m             )\n\u001b[1;32m     45\u001b[0m         \u001b[0mkwargs\u001b[0m\u001b[0;34m.\u001b[0m\u001b[0mupdate\u001b[0m\u001b[0;34m(\u001b[0m\u001b[0;34m{\u001b[0m\u001b[0mk\u001b[0m\u001b[0;34m:\u001b[0m \u001b[0marg\u001b[0m \u001b[0;32mfor\u001b[0m \u001b[0mk\u001b[0m\u001b[0;34m,\u001b[0m \u001b[0marg\u001b[0m \u001b[0;32min\u001b[0m \u001b[0mzip\u001b[0m\u001b[0;34m(\u001b[0m\u001b[0msig\u001b[0m\u001b[0;34m.\u001b[0m\u001b[0mparameters\u001b[0m\u001b[0;34m,\u001b[0m \u001b[0margs\u001b[0m\u001b[0;34m)\u001b[0m\u001b[0;34m}\u001b[0m\u001b[0;34m)\u001b[0m\u001b[0;34m\u001b[0m\u001b[0;34m\u001b[0m\u001b[0m\n\u001b[0;32m---> 46\u001b[0;31m         \u001b[0;32mreturn\u001b[0m \u001b[0mf\u001b[0m\u001b[0;34m(\u001b[0m\u001b[0;34m**\u001b[0m\u001b[0mkwargs\u001b[0m\u001b[0;34m)\u001b[0m\u001b[0;34m\u001b[0m\u001b[0;34m\u001b[0m\u001b[0m\n\u001b[0m\u001b[1;32m     47\u001b[0m     \u001b[0;32mreturn\u001b[0m \u001b[0minner_f\u001b[0m\u001b[0;34m\u001b[0m\u001b[0;34m\u001b[0m\u001b[0m\n\u001b[1;32m     48\u001b[0m \u001b[0;34m\u001b[0m\u001b[0m\n",
      "\u001b[0;32m~/.conda/envs/unist_server/lib/python3.8/site-packages/seaborn/distributions.py\u001b[0m in \u001b[0;36mkdeplot\u001b[0;34m(x, y, shade, vertical, kernel, bw, gridsize, cut, clip, legend, cumulative, shade_lowest, cbar, cbar_ax, cbar_kws, ax, weights, hue, palette, hue_order, hue_norm, multiple, common_norm, common_grid, levels, thresh, bw_method, bw_adjust, log_scale, color, fill, data, data2, **kwargs)\u001b[0m\n\u001b[1;32m   1718\u001b[0m     )\n\u001b[1;32m   1719\u001b[0m \u001b[0;34m\u001b[0m\u001b[0m\n\u001b[0;32m-> 1720\u001b[0;31m     \u001b[0mp\u001b[0m\u001b[0;34m.\u001b[0m\u001b[0m_attach\u001b[0m\u001b[0;34m(\u001b[0m\u001b[0max\u001b[0m\u001b[0;34m,\u001b[0m \u001b[0mallowed_types\u001b[0m\u001b[0;34m=\u001b[0m\u001b[0;34m[\u001b[0m\u001b[0;34m\"numeric\"\u001b[0m\u001b[0;34m,\u001b[0m \u001b[0;34m\"datetime\"\u001b[0m\u001b[0;34m]\u001b[0m\u001b[0;34m,\u001b[0m \u001b[0mlog_scale\u001b[0m\u001b[0;34m=\u001b[0m\u001b[0mlog_scale\u001b[0m\u001b[0;34m)\u001b[0m\u001b[0;34m\u001b[0m\u001b[0;34m\u001b[0m\u001b[0m\n\u001b[0m\u001b[1;32m   1721\u001b[0m \u001b[0;34m\u001b[0m\u001b[0m\n\u001b[1;32m   1722\u001b[0m     \u001b[0;32mif\u001b[0m \u001b[0mp\u001b[0m\u001b[0;34m.\u001b[0m\u001b[0munivariate\u001b[0m\u001b[0;34m:\u001b[0m\u001b[0;34m\u001b[0m\u001b[0;34m\u001b[0m\u001b[0m\n",
      "\u001b[0;32m~/.conda/envs/unist_server/lib/python3.8/site-packages/seaborn/_core.py\u001b[0m in \u001b[0;36m_attach\u001b[0;34m(self, obj, allowed_types, log_scale)\u001b[0m\n\u001b[1;32m   1116\u001b[0m                     \u001b[0;34mf\"{allowed_types} is required\"\u001b[0m\u001b[0;34m\u001b[0m\u001b[0;34m\u001b[0m\u001b[0m\n\u001b[1;32m   1117\u001b[0m                 )\n\u001b[0;32m-> 1118\u001b[0;31m                 \u001b[0;32mraise\u001b[0m \u001b[0mTypeError\u001b[0m\u001b[0;34m(\u001b[0m\u001b[0merr\u001b[0m\u001b[0;34m)\u001b[0m\u001b[0;34m\u001b[0m\u001b[0;34m\u001b[0m\u001b[0m\n\u001b[0m\u001b[1;32m   1119\u001b[0m \u001b[0;34m\u001b[0m\u001b[0m\n\u001b[1;32m   1120\u001b[0m             \u001b[0;31m# Register with the matplotlib unit conversion machinery\u001b[0m\u001b[0;34m\u001b[0m\u001b[0;34m\u001b[0m\u001b[0;34m\u001b[0m\u001b[0m\n",
      "\u001b[0;31mTypeError\u001b[0m: The x variable is categorical, but one of ['numeric', 'datetime'] is required"
     ]
    }
   ],
   "source": [
    "test_dat = raw_data.loc[:, ['IC50 (nM)', 'EC50 (nM)']].fillna(0)\n",
    "xvals_list = list(range(test_dat.shape[0]))\n",
    "sns.set(style = 'darkgrid')\n",
    "fig = sns.kdeplot(test_dat['IC50 (nM)'], shade = True, color = 'r')\n",
    "fig = sns.kdeplot(test_dat['EC50 (nM)'], shade = True, color = 'b')\n",
    "plot.show()\n"
   ]
  },
  {
   "cell_type": "code",
   "execution_count": 80,
   "metadata": {},
   "outputs": [],
   "source": [
    "df = pd.read_csv(\"https://github.com/selva86/datasets/raw/master/mpg_ggplot2.csv\")b"
   ]
  },
  {
   "cell_type": "code",
   "execution_count": 99,
   "metadata": {},
   "outputs": [
    {
     "output_type": "error",
     "ename": "ValueError",
     "evalue": "could not convert string to float: '>1000000'",
     "traceback": [
      "\u001b[0;31m---------------------------------------------------------------------------\u001b[0m",
      "\u001b[0;31mValueError\u001b[0m                                Traceback (most recent call last)",
      "\u001b[0;32m<ipython-input-99-9c97d8f6f488>\u001b[0m in \u001b[0;36m<module>\u001b[0;34m\u001b[0m\n\u001b[0;32m----> 1\u001b[0;31m \u001b[0mtest_dat\u001b[0m\u001b[0;34m.\u001b[0m\u001b[0mastype\u001b[0m\u001b[0;34m(\u001b[0m\u001b[0;34m'float'\u001b[0m\u001b[0;34m)\u001b[0m\u001b[0;34m\u001b[0m\u001b[0;34m\u001b[0m\u001b[0m\n\u001b[0m",
      "\u001b[0;32m~/.conda/envs/unist_server/lib/python3.8/site-packages/pandas/core/generic.py\u001b[0m in \u001b[0;36mastype\u001b[0;34m(self, dtype, copy, errors)\u001b[0m\n\u001b[1;32m   5872\u001b[0m         \u001b[0;32melse\u001b[0m\u001b[0;34m:\u001b[0m\u001b[0;34m\u001b[0m\u001b[0;34m\u001b[0m\u001b[0m\n\u001b[1;32m   5873\u001b[0m             \u001b[0;31m# else, only a single dtype is given\u001b[0m\u001b[0;34m\u001b[0m\u001b[0;34m\u001b[0m\u001b[0;34m\u001b[0m\u001b[0m\n\u001b[0;32m-> 5874\u001b[0;31m             \u001b[0mnew_data\u001b[0m \u001b[0;34m=\u001b[0m \u001b[0mself\u001b[0m\u001b[0;34m.\u001b[0m\u001b[0m_mgr\u001b[0m\u001b[0;34m.\u001b[0m\u001b[0mastype\u001b[0m\u001b[0;34m(\u001b[0m\u001b[0mdtype\u001b[0m\u001b[0;34m=\u001b[0m\u001b[0mdtype\u001b[0m\u001b[0;34m,\u001b[0m \u001b[0mcopy\u001b[0m\u001b[0;34m=\u001b[0m\u001b[0mcopy\u001b[0m\u001b[0;34m,\u001b[0m \u001b[0merrors\u001b[0m\u001b[0;34m=\u001b[0m\u001b[0merrors\u001b[0m\u001b[0;34m)\u001b[0m\u001b[0;34m\u001b[0m\u001b[0;34m\u001b[0m\u001b[0m\n\u001b[0m\u001b[1;32m   5875\u001b[0m             \u001b[0;32mreturn\u001b[0m \u001b[0mself\u001b[0m\u001b[0;34m.\u001b[0m\u001b[0m_constructor\u001b[0m\u001b[0;34m(\u001b[0m\u001b[0mnew_data\u001b[0m\u001b[0;34m)\u001b[0m\u001b[0;34m.\u001b[0m\u001b[0m__finalize__\u001b[0m\u001b[0;34m(\u001b[0m\u001b[0mself\u001b[0m\u001b[0;34m,\u001b[0m \u001b[0mmethod\u001b[0m\u001b[0;34m=\u001b[0m\u001b[0;34m\"astype\"\u001b[0m\u001b[0;34m)\u001b[0m\u001b[0;34m\u001b[0m\u001b[0;34m\u001b[0m\u001b[0m\n\u001b[1;32m   5876\u001b[0m \u001b[0;34m\u001b[0m\u001b[0m\n",
      "\u001b[0;32m~/.conda/envs/unist_server/lib/python3.8/site-packages/pandas/core/internals/managers.py\u001b[0m in \u001b[0;36mastype\u001b[0;34m(self, dtype, copy, errors)\u001b[0m\n\u001b[1;32m    629\u001b[0m         \u001b[0mself\u001b[0m\u001b[0;34m,\u001b[0m \u001b[0mdtype\u001b[0m\u001b[0;34m,\u001b[0m \u001b[0mcopy\u001b[0m\u001b[0;34m:\u001b[0m \u001b[0mbool\u001b[0m \u001b[0;34m=\u001b[0m \u001b[0;32mFalse\u001b[0m\u001b[0;34m,\u001b[0m \u001b[0merrors\u001b[0m\u001b[0;34m:\u001b[0m \u001b[0mstr\u001b[0m \u001b[0;34m=\u001b[0m \u001b[0;34m\"raise\"\u001b[0m\u001b[0;34m\u001b[0m\u001b[0;34m\u001b[0m\u001b[0m\n\u001b[1;32m    630\u001b[0m     ) -> \"BlockManager\":\n\u001b[0;32m--> 631\u001b[0;31m         \u001b[0;32mreturn\u001b[0m \u001b[0mself\u001b[0m\u001b[0;34m.\u001b[0m\u001b[0mapply\u001b[0m\u001b[0;34m(\u001b[0m\u001b[0;34m\"astype\"\u001b[0m\u001b[0;34m,\u001b[0m \u001b[0mdtype\u001b[0m\u001b[0;34m=\u001b[0m\u001b[0mdtype\u001b[0m\u001b[0;34m,\u001b[0m \u001b[0mcopy\u001b[0m\u001b[0;34m=\u001b[0m\u001b[0mcopy\u001b[0m\u001b[0;34m,\u001b[0m \u001b[0merrors\u001b[0m\u001b[0;34m=\u001b[0m\u001b[0merrors\u001b[0m\u001b[0;34m)\u001b[0m\u001b[0;34m\u001b[0m\u001b[0;34m\u001b[0m\u001b[0m\n\u001b[0m\u001b[1;32m    632\u001b[0m \u001b[0;34m\u001b[0m\u001b[0m\n\u001b[1;32m    633\u001b[0m     def convert(\n",
      "\u001b[0;32m~/.conda/envs/unist_server/lib/python3.8/site-packages/pandas/core/internals/managers.py\u001b[0m in \u001b[0;36mapply\u001b[0;34m(self, f, align_keys, ignore_failures, **kwargs)\u001b[0m\n\u001b[1;32m    425\u001b[0m                     \u001b[0mapplied\u001b[0m \u001b[0;34m=\u001b[0m \u001b[0mb\u001b[0m\u001b[0;34m.\u001b[0m\u001b[0mapply\u001b[0m\u001b[0;34m(\u001b[0m\u001b[0mf\u001b[0m\u001b[0;34m,\u001b[0m \u001b[0;34m**\u001b[0m\u001b[0mkwargs\u001b[0m\u001b[0;34m)\u001b[0m\u001b[0;34m\u001b[0m\u001b[0;34m\u001b[0m\u001b[0m\n\u001b[1;32m    426\u001b[0m                 \u001b[0;32melse\u001b[0m\u001b[0;34m:\u001b[0m\u001b[0;34m\u001b[0m\u001b[0;34m\u001b[0m\u001b[0m\n\u001b[0;32m--> 427\u001b[0;31m                     \u001b[0mapplied\u001b[0m \u001b[0;34m=\u001b[0m \u001b[0mgetattr\u001b[0m\u001b[0;34m(\u001b[0m\u001b[0mb\u001b[0m\u001b[0;34m,\u001b[0m \u001b[0mf\u001b[0m\u001b[0;34m)\u001b[0m\u001b[0;34m(\u001b[0m\u001b[0;34m**\u001b[0m\u001b[0mkwargs\u001b[0m\u001b[0;34m)\u001b[0m\u001b[0;34m\u001b[0m\u001b[0;34m\u001b[0m\u001b[0m\n\u001b[0m\u001b[1;32m    428\u001b[0m             \u001b[0;32mexcept\u001b[0m \u001b[0;34m(\u001b[0m\u001b[0mTypeError\u001b[0m\u001b[0;34m,\u001b[0m \u001b[0mNotImplementedError\u001b[0m\u001b[0;34m)\u001b[0m\u001b[0;34m:\u001b[0m\u001b[0;34m\u001b[0m\u001b[0;34m\u001b[0m\u001b[0m\n\u001b[1;32m    429\u001b[0m                 \u001b[0;32mif\u001b[0m \u001b[0;32mnot\u001b[0m \u001b[0mignore_failures\u001b[0m\u001b[0;34m:\u001b[0m\u001b[0;34m\u001b[0m\u001b[0;34m\u001b[0m\u001b[0m\n",
      "\u001b[0;32m~/.conda/envs/unist_server/lib/python3.8/site-packages/pandas/core/internals/blocks.py\u001b[0m in \u001b[0;36mastype\u001b[0;34m(self, dtype, copy, errors)\u001b[0m\n\u001b[1;32m    671\u001b[0m             \u001b[0mvals1d\u001b[0m \u001b[0;34m=\u001b[0m \u001b[0mvalues\u001b[0m\u001b[0;34m.\u001b[0m\u001b[0mravel\u001b[0m\u001b[0;34m(\u001b[0m\u001b[0;34m)\u001b[0m\u001b[0;34m\u001b[0m\u001b[0;34m\u001b[0m\u001b[0m\n\u001b[1;32m    672\u001b[0m             \u001b[0;32mtry\u001b[0m\u001b[0;34m:\u001b[0m\u001b[0;34m\u001b[0m\u001b[0;34m\u001b[0m\u001b[0m\n\u001b[0;32m--> 673\u001b[0;31m                 \u001b[0mvalues\u001b[0m \u001b[0;34m=\u001b[0m \u001b[0mastype_nansafe\u001b[0m\u001b[0;34m(\u001b[0m\u001b[0mvals1d\u001b[0m\u001b[0;34m,\u001b[0m \u001b[0mdtype\u001b[0m\u001b[0;34m,\u001b[0m \u001b[0mcopy\u001b[0m\u001b[0;34m=\u001b[0m\u001b[0;32mTrue\u001b[0m\u001b[0;34m)\u001b[0m\u001b[0;34m\u001b[0m\u001b[0;34m\u001b[0m\u001b[0m\n\u001b[0m\u001b[1;32m    674\u001b[0m             \u001b[0;32mexcept\u001b[0m \u001b[0;34m(\u001b[0m\u001b[0mValueError\u001b[0m\u001b[0;34m,\u001b[0m \u001b[0mTypeError\u001b[0m\u001b[0;34m)\u001b[0m\u001b[0;34m:\u001b[0m\u001b[0;34m\u001b[0m\u001b[0;34m\u001b[0m\u001b[0m\n\u001b[1;32m    675\u001b[0m                 \u001b[0;31m# e.g. astype_nansafe can fail on object-dtype of strings\u001b[0m\u001b[0;34m\u001b[0m\u001b[0;34m\u001b[0m\u001b[0;34m\u001b[0m\u001b[0m\n",
      "\u001b[0;32m~/.conda/envs/unist_server/lib/python3.8/site-packages/pandas/core/dtypes/cast.py\u001b[0m in \u001b[0;36mastype_nansafe\u001b[0;34m(arr, dtype, copy, skipna)\u001b[0m\n\u001b[1;32m   1095\u001b[0m     \u001b[0;32mif\u001b[0m \u001b[0mcopy\u001b[0m \u001b[0;32mor\u001b[0m \u001b[0mis_object_dtype\u001b[0m\u001b[0;34m(\u001b[0m\u001b[0marr\u001b[0m\u001b[0;34m)\u001b[0m \u001b[0;32mor\u001b[0m \u001b[0mis_object_dtype\u001b[0m\u001b[0;34m(\u001b[0m\u001b[0mdtype\u001b[0m\u001b[0;34m)\u001b[0m\u001b[0;34m:\u001b[0m\u001b[0;34m\u001b[0m\u001b[0;34m\u001b[0m\u001b[0m\n\u001b[1;32m   1096\u001b[0m         \u001b[0;31m# Explicit copy, or required since NumPy can't view from / to object.\u001b[0m\u001b[0;34m\u001b[0m\u001b[0;34m\u001b[0m\u001b[0;34m\u001b[0m\u001b[0m\n\u001b[0;32m-> 1097\u001b[0;31m         \u001b[0;32mreturn\u001b[0m \u001b[0marr\u001b[0m\u001b[0;34m.\u001b[0m\u001b[0mastype\u001b[0m\u001b[0;34m(\u001b[0m\u001b[0mdtype\u001b[0m\u001b[0;34m,\u001b[0m \u001b[0mcopy\u001b[0m\u001b[0;34m=\u001b[0m\u001b[0;32mTrue\u001b[0m\u001b[0;34m)\u001b[0m\u001b[0;34m\u001b[0m\u001b[0;34m\u001b[0m\u001b[0m\n\u001b[0m\u001b[1;32m   1098\u001b[0m \u001b[0;34m\u001b[0m\u001b[0m\n\u001b[1;32m   1099\u001b[0m     \u001b[0;32mreturn\u001b[0m \u001b[0marr\u001b[0m\u001b[0;34m.\u001b[0m\u001b[0mview\u001b[0m\u001b[0;34m(\u001b[0m\u001b[0mdtype\u001b[0m\u001b[0;34m)\u001b[0m\u001b[0;34m\u001b[0m\u001b[0;34m\u001b[0m\u001b[0m\n",
      "\u001b[0;31mValueError\u001b[0m: could not convert string to float: '>1000000'"
     ]
    }
   ],
   "source": [
    "test_dat.astype('float')"
   ]
  },
  {
   "cell_type": "code",
   "execution_count": 52,
   "metadata": {},
   "outputs": [
    {
     "output_type": "execute_result",
     "data": {
      "text/plain": [
       "array([    0,     1,     2, ..., 84131, 84132, 84133])"
      ]
     },
     "metadata": {},
     "execution_count": 52
    }
   ],
   "source": []
  },
  {
   "source": [
    "# (3) Exploratory Data Analysis (EDA)"
   ],
   "cell_type": "markdown",
   "metadata": {}
  },
  {
   "cell_type": "code",
   "execution_count": 14,
   "metadata": {},
   "outputs": [
    {
     "output_type": "execute_result",
     "data": {
      "text/plain": [
       "(84144, 91)"
      ]
     },
     "metadata": {},
     "execution_count": 14
    }
   ],
   "source": [
    "raw_data.shape"
   ]
  },
  {
   "cell_type": "code",
   "execution_count": 15,
   "metadata": {},
   "outputs": [
    {
     "output_type": "execute_result",
     "data": {
      "text/plain": [
       "       BindingDB Reactant_set_id  \\\n",
       "0                           9825   \n",
       "1                           9826   \n",
       "2                           9827   \n",
       "3                           9828   \n",
       "4                           9829   \n",
       "...                          ...   \n",
       "84139                     917938   \n",
       "84140                     917939   \n",
       "84141                     917940   \n",
       "84142                     917941   \n",
       "84143                     917942   \n",
       "\n",
       "                                           Ligand SMILES  \\\n",
       "0      COc1cc2c(Nc3ccc(Cl)cc3Cl)c(cnc2cc1OCCCN1CCN(C)...   \n",
       "1      COc1cc2c(Nc3cc(OC)c(OC)c(OC)c3)c(cnc2cc1OCCCN1...   \n",
       "2      COCCOc1cc2ncc(C#N)c(Nc3cc(OC)c(Cl)cc3Cl)c2cc1O...   \n",
       "3         COCCOc1cc2ncc(C#N)c(Nc3ccc(Cl)cc3Cl)c2cc1OCCOC   \n",
       "4      COCCOc1cc2ncc(C#N)c(Nc3cc(OC)c(OC)c(OC)c3)c2cc...   \n",
       "...                                                  ...   \n",
       "84139  Clc1cc(OCc2ccccc2Cl)cc(c1)C1C=C(C(=O)N(C1=O)c1...   \n",
       "84140  Fc1c(Cl)cc(cc1OCc1ccccc1Cl)C1C=C(C(=O)N(C1=O)c...   \n",
       "84141  Clc1cc(OCC2CC2)cc(c1)C1C=C(C(=O)N(C1=O)c1cccnc...   \n",
       "84142  Clc1cc(OCC2CC2)cc(c1)C1C=C(C(=O)N(C1=O)c1cccnc...   \n",
       "84143  FC(F)(F)CCOc1cc(Cl)cc(c1)C1C=C(C(=O)N(C1=O)c1c...   \n",
       "\n",
       "                                            Ligand InChI  \\\n",
       "0      InChI=1S/C25H27Cl2N5O2/c1-31-7-9-32(10-8-31)6-...   \n",
       "1      InChI=1S/C28H35N5O5/c1-32-8-10-33(11-9-32)7-6-...   \n",
       "2      InChI=1S/C23H23Cl2N3O5/c1-29-4-6-32-21-8-15-18...   \n",
       "3      InChI=1S/C22H21Cl2N3O4/c1-28-5-7-30-20-10-16-1...   \n",
       "4      InChI=1S/C25H29N3O7/c1-29-6-8-34-20-12-18-19(1...   \n",
       "...                                                  ...   \n",
       "84139                                                NaN   \n",
       "84140                                                NaN   \n",
       "84141  InChI=1S/C27H20ClN3O3/c28-20-10-19(11-22(12-20...   \n",
       "84142  InChI=1S/C27H20ClN3O3/c28-20-10-19(11-22(12-20...   \n",
       "84143  InChI=1S/C26H17ClF3N3O3/c27-18-10-17(11-20(12-...   \n",
       "\n",
       "                  Ligand InChI Key  BindingDB MonomerID  \\\n",
       "0      MVQUQGLRQPMJPU-UHFFFAOYSA-N                 4521   \n",
       "1      VOUVVBUKNLBXGS-UHFFFAOYSA-N                 6121   \n",
       "2      VXEOIAFZWQMOEP-UHFFFAOYSA-N                 6122   \n",
       "3      DTLASHUZTAPRBX-UHFFFAOYSA-N                 6123   \n",
       "4      BTBPPLGKNLXRGR-UHFFFAOYSA-N                 6124   \n",
       "...                            ...                  ...   \n",
       "84139                          NaN               448369   \n",
       "84140                          NaN               448371   \n",
       "84141  CEKSDTLWJAPAJY-UHFFFAOYSA-N               448374   \n",
       "84142  CEKSDTLWJAPAJY-UHFFFAOYSA-N               448374   \n",
       "84143  IDHAQBVYXKCMSF-UHFFFAOYSA-N               448375   \n",
       "\n",
       "                                   BindingDB Ligand Name  \\\n",
       "0      3-quinolinecarbonitrile 3::4-Phenylamino-3-qui...   \n",
       "1      3-quinolinecarbonitrile 4::6-methoxy-7-[3-(4-m...   \n",
       "2      3-quinolinecarbonitrile 8::4-[(2,4-dichloro-5-...   \n",
       "3      3-quinolinecarbonitrile 9::4-[(2,4-dichlorophe...   \n",
       "4      3-quinolinecarbonitrile 10::6,7-bis(2-methoxye...   \n",
       "...                                                  ...   \n",
       "84139                                     Perampanel, 21   \n",
       "84140                                     Perampanel, 23   \n",
       "84141                                     Perampanel, 26   \n",
       "84142                                     Perampanel, 26   \n",
       "84143                                     Perampanel, 27   \n",
       "\n",
       "      Target Name Assigned by Curator or DataSource  \\\n",
       "0        Proto-oncogene tyrosine-protein kinase Src   \n",
       "1        Proto-oncogene tyrosine-protein kinase Src   \n",
       "2        Proto-oncogene tyrosine-protein kinase Src   \n",
       "3        Proto-oncogene tyrosine-protein kinase Src   \n",
       "4        Proto-oncogene tyrosine-protein kinase Src   \n",
       "...                                             ...   \n",
       "84139                     Replicase polyprotein 1ab   \n",
       "84140                     Replicase polyprotein 1ab   \n",
       "84141                     Replicase polyprotein 1ab   \n",
       "84142                     Replicase polyprotein 1ab   \n",
       "84143                     Replicase polyprotein 1ab   \n",
       "\n",
       "      Target Source Organism According to Curator or DataSource Ki (nM)  \\\n",
       "0                                                    NaN            NaN   \n",
       "1                                                    NaN            NaN   \n",
       "2                                                    NaN            NaN   \n",
       "3                                                    NaN            NaN   \n",
       "4                                                    NaN            NaN   \n",
       "...                                                  ...            ...   \n",
       "84139                                                NaN            NaN   \n",
       "84140                                                NaN            NaN   \n",
       "84141                                                NaN            NaN   \n",
       "84142                                                NaN            NaN   \n",
       "84143                                                NaN            NaN   \n",
       "\n",
       "      IC50 (nM)  ... Unnamed: 81 Unnamed: 82  Unnamed: 83 Unnamed: 84  \\\n",
       "0           8.7  ...         NaN         NaN          NaN         NaN   \n",
       "1           5.1  ...         NaN         NaN          NaN         NaN   \n",
       "2           2.8  ...         NaN         NaN          NaN         NaN   \n",
       "3            12  ...         NaN         NaN          NaN         NaN   \n",
       "4            25  ...         NaN         NaN          NaN         NaN   \n",
       "...         ...  ...         ...         ...          ...         ...   \n",
       "84139       NaN  ...         NaN         NaN          NaN         NaN   \n",
       "84140       NaN  ...         NaN         NaN          NaN         NaN   \n",
       "84141       NaN  ...         NaN         NaN          NaN         NaN   \n",
       "84142       NaN  ...         NaN         NaN          NaN         NaN   \n",
       "84143       NaN  ...         NaN         NaN          NaN         NaN   \n",
       "\n",
       "       Unnamed: 85 Unnamed: 86 Unnamed: 87 Unnamed: 88  Unnamed: 89  \\\n",
       "0              NaN         NaN         NaN         NaN          NaN   \n",
       "1              NaN         NaN         NaN         NaN          NaN   \n",
       "2              NaN         NaN         NaN         NaN          NaN   \n",
       "3              NaN         NaN         NaN         NaN          NaN   \n",
       "4              NaN         NaN         NaN         NaN          NaN   \n",
       "...            ...         ...         ...         ...          ...   \n",
       "84139          NaN         NaN         NaN         NaN          NaN   \n",
       "84140          NaN         NaN         NaN         NaN          NaN   \n",
       "84141          NaN         NaN         NaN         NaN          NaN   \n",
       "84142          NaN         NaN         NaN         NaN          NaN   \n",
       "84143          NaN         NaN         NaN         NaN          NaN   \n",
       "\n",
       "       Unnamed: 90  \n",
       "0              NaN  \n",
       "1              NaN  \n",
       "2              NaN  \n",
       "3              NaN  \n",
       "4              NaN  \n",
       "...            ...  \n",
       "84139          NaN  \n",
       "84140          NaN  \n",
       "84141          NaN  \n",
       "84142          NaN  \n",
       "84143          NaN  \n",
       "\n",
       "[84144 rows x 91 columns]"
      ],
      "text/html": "<div>\n<style scoped>\n    .dataframe tbody tr th:only-of-type {\n        vertical-align: middle;\n    }\n\n    .dataframe tbody tr th {\n        vertical-align: top;\n    }\n\n    .dataframe thead th {\n        text-align: right;\n    }\n</style>\n<table border=\"1\" class=\"dataframe\">\n  <thead>\n    <tr style=\"text-align: right;\">\n      <th></th>\n      <th>BindingDB Reactant_set_id</th>\n      <th>Ligand SMILES</th>\n      <th>Ligand InChI</th>\n      <th>Ligand InChI Key</th>\n      <th>BindingDB MonomerID</th>\n      <th>BindingDB Ligand Name</th>\n      <th>Target Name Assigned by Curator or DataSource</th>\n      <th>Target Source Organism According to Curator or DataSource</th>\n      <th>Ki (nM)</th>\n      <th>IC50 (nM)</th>\n      <th>...</th>\n      <th>Unnamed: 81</th>\n      <th>Unnamed: 82</th>\n      <th>Unnamed: 83</th>\n      <th>Unnamed: 84</th>\n      <th>Unnamed: 85</th>\n      <th>Unnamed: 86</th>\n      <th>Unnamed: 87</th>\n      <th>Unnamed: 88</th>\n      <th>Unnamed: 89</th>\n      <th>Unnamed: 90</th>\n    </tr>\n  </thead>\n  <tbody>\n    <tr>\n      <th>0</th>\n      <td>9825</td>\n      <td>COc1cc2c(Nc3ccc(Cl)cc3Cl)c(cnc2cc1OCCCN1CCN(C)...</td>\n      <td>InChI=1S/C25H27Cl2N5O2/c1-31-7-9-32(10-8-31)6-...</td>\n      <td>MVQUQGLRQPMJPU-UHFFFAOYSA-N</td>\n      <td>4521</td>\n      <td>3-quinolinecarbonitrile 3::4-Phenylamino-3-qui...</td>\n      <td>Proto-oncogene tyrosine-protein kinase Src</td>\n      <td>NaN</td>\n      <td>NaN</td>\n      <td>8.7</td>\n      <td>...</td>\n      <td>NaN</td>\n      <td>NaN</td>\n      <td>NaN</td>\n      <td>NaN</td>\n      <td>NaN</td>\n      <td>NaN</td>\n      <td>NaN</td>\n      <td>NaN</td>\n      <td>NaN</td>\n      <td>NaN</td>\n    </tr>\n    <tr>\n      <th>1</th>\n      <td>9826</td>\n      <td>COc1cc2c(Nc3cc(OC)c(OC)c(OC)c3)c(cnc2cc1OCCCN1...</td>\n      <td>InChI=1S/C28H35N5O5/c1-32-8-10-33(11-9-32)7-6-...</td>\n      <td>VOUVVBUKNLBXGS-UHFFFAOYSA-N</td>\n      <td>6121</td>\n      <td>3-quinolinecarbonitrile 4::6-methoxy-7-[3-(4-m...</td>\n      <td>Proto-oncogene tyrosine-protein kinase Src</td>\n      <td>NaN</td>\n      <td>NaN</td>\n      <td>5.1</td>\n      <td>...</td>\n      <td>NaN</td>\n      <td>NaN</td>\n      <td>NaN</td>\n      <td>NaN</td>\n      <td>NaN</td>\n      <td>NaN</td>\n      <td>NaN</td>\n      <td>NaN</td>\n      <td>NaN</td>\n      <td>NaN</td>\n    </tr>\n    <tr>\n      <th>2</th>\n      <td>9827</td>\n      <td>COCCOc1cc2ncc(C#N)c(Nc3cc(OC)c(Cl)cc3Cl)c2cc1O...</td>\n      <td>InChI=1S/C23H23Cl2N3O5/c1-29-4-6-32-21-8-15-18...</td>\n      <td>VXEOIAFZWQMOEP-UHFFFAOYSA-N</td>\n      <td>6122</td>\n      <td>3-quinolinecarbonitrile 8::4-[(2,4-dichloro-5-...</td>\n      <td>Proto-oncogene tyrosine-protein kinase Src</td>\n      <td>NaN</td>\n      <td>NaN</td>\n      <td>2.8</td>\n      <td>...</td>\n      <td>NaN</td>\n      <td>NaN</td>\n      <td>NaN</td>\n      <td>NaN</td>\n      <td>NaN</td>\n      <td>NaN</td>\n      <td>NaN</td>\n      <td>NaN</td>\n      <td>NaN</td>\n      <td>NaN</td>\n    </tr>\n    <tr>\n      <th>3</th>\n      <td>9828</td>\n      <td>COCCOc1cc2ncc(C#N)c(Nc3ccc(Cl)cc3Cl)c2cc1OCCOC</td>\n      <td>InChI=1S/C22H21Cl2N3O4/c1-28-5-7-30-20-10-16-1...</td>\n      <td>DTLASHUZTAPRBX-UHFFFAOYSA-N</td>\n      <td>6123</td>\n      <td>3-quinolinecarbonitrile 9::4-[(2,4-dichlorophe...</td>\n      <td>Proto-oncogene tyrosine-protein kinase Src</td>\n      <td>NaN</td>\n      <td>NaN</td>\n      <td>12</td>\n      <td>...</td>\n      <td>NaN</td>\n      <td>NaN</td>\n      <td>NaN</td>\n      <td>NaN</td>\n      <td>NaN</td>\n      <td>NaN</td>\n      <td>NaN</td>\n      <td>NaN</td>\n      <td>NaN</td>\n      <td>NaN</td>\n    </tr>\n    <tr>\n      <th>4</th>\n      <td>9829</td>\n      <td>COCCOc1cc2ncc(C#N)c(Nc3cc(OC)c(OC)c(OC)c3)c2cc...</td>\n      <td>InChI=1S/C25H29N3O7/c1-29-6-8-34-20-12-18-19(1...</td>\n      <td>BTBPPLGKNLXRGR-UHFFFAOYSA-N</td>\n      <td>6124</td>\n      <td>3-quinolinecarbonitrile 10::6,7-bis(2-methoxye...</td>\n      <td>Proto-oncogene tyrosine-protein kinase Src</td>\n      <td>NaN</td>\n      <td>NaN</td>\n      <td>25</td>\n      <td>...</td>\n      <td>NaN</td>\n      <td>NaN</td>\n      <td>NaN</td>\n      <td>NaN</td>\n      <td>NaN</td>\n      <td>NaN</td>\n      <td>NaN</td>\n      <td>NaN</td>\n      <td>NaN</td>\n      <td>NaN</td>\n    </tr>\n    <tr>\n      <th>...</th>\n      <td>...</td>\n      <td>...</td>\n      <td>...</td>\n      <td>...</td>\n      <td>...</td>\n      <td>...</td>\n      <td>...</td>\n      <td>...</td>\n      <td>...</td>\n      <td>...</td>\n      <td>...</td>\n      <td>...</td>\n      <td>...</td>\n      <td>...</td>\n      <td>...</td>\n      <td>...</td>\n      <td>...</td>\n      <td>...</td>\n      <td>...</td>\n      <td>...</td>\n      <td>...</td>\n    </tr>\n    <tr>\n      <th>84139</th>\n      <td>917938</td>\n      <td>Clc1cc(OCc2ccccc2Cl)cc(c1)C1C=C(C(=O)N(C1=O)c1...</td>\n      <td>NaN</td>\n      <td>NaN</td>\n      <td>448369</td>\n      <td>Perampanel, 21</td>\n      <td>Replicase polyprotein 1ab</td>\n      <td>NaN</td>\n      <td>NaN</td>\n      <td>NaN</td>\n      <td>...</td>\n      <td>NaN</td>\n      <td>NaN</td>\n      <td>NaN</td>\n      <td>NaN</td>\n      <td>NaN</td>\n      <td>NaN</td>\n      <td>NaN</td>\n      <td>NaN</td>\n      <td>NaN</td>\n      <td>NaN</td>\n    </tr>\n    <tr>\n      <th>84140</th>\n      <td>917939</td>\n      <td>Fc1c(Cl)cc(cc1OCc1ccccc1Cl)C1C=C(C(=O)N(C1=O)c...</td>\n      <td>NaN</td>\n      <td>NaN</td>\n      <td>448371</td>\n      <td>Perampanel, 23</td>\n      <td>Replicase polyprotein 1ab</td>\n      <td>NaN</td>\n      <td>NaN</td>\n      <td>NaN</td>\n      <td>...</td>\n      <td>NaN</td>\n      <td>NaN</td>\n      <td>NaN</td>\n      <td>NaN</td>\n      <td>NaN</td>\n      <td>NaN</td>\n      <td>NaN</td>\n      <td>NaN</td>\n      <td>NaN</td>\n      <td>NaN</td>\n    </tr>\n    <tr>\n      <th>84141</th>\n      <td>917940</td>\n      <td>Clc1cc(OCC2CC2)cc(c1)C1C=C(C(=O)N(C1=O)c1cccnc...</td>\n      <td>InChI=1S/C27H20ClN3O3/c28-20-10-19(11-22(12-20...</td>\n      <td>CEKSDTLWJAPAJY-UHFFFAOYSA-N</td>\n      <td>448374</td>\n      <td>Perampanel, 26</td>\n      <td>Replicase polyprotein 1ab</td>\n      <td>NaN</td>\n      <td>NaN</td>\n      <td>NaN</td>\n      <td>...</td>\n      <td>NaN</td>\n      <td>NaN</td>\n      <td>NaN</td>\n      <td>NaN</td>\n      <td>NaN</td>\n      <td>NaN</td>\n      <td>NaN</td>\n      <td>NaN</td>\n      <td>NaN</td>\n      <td>NaN</td>\n    </tr>\n    <tr>\n      <th>84142</th>\n      <td>917941</td>\n      <td>Clc1cc(OCC2CC2)cc(c1)C1C=C(C(=O)N(C1=O)c1cccnc...</td>\n      <td>InChI=1S/C27H20ClN3O3/c28-20-10-19(11-22(12-20...</td>\n      <td>CEKSDTLWJAPAJY-UHFFFAOYSA-N</td>\n      <td>448374</td>\n      <td>Perampanel, 26</td>\n      <td>Replicase polyprotein 1ab</td>\n      <td>NaN</td>\n      <td>NaN</td>\n      <td>NaN</td>\n      <td>...</td>\n      <td>NaN</td>\n      <td>NaN</td>\n      <td>NaN</td>\n      <td>NaN</td>\n      <td>NaN</td>\n      <td>NaN</td>\n      <td>NaN</td>\n      <td>NaN</td>\n      <td>NaN</td>\n      <td>NaN</td>\n    </tr>\n    <tr>\n      <th>84143</th>\n      <td>917942</td>\n      <td>FC(F)(F)CCOc1cc(Cl)cc(c1)C1C=C(C(=O)N(C1=O)c1c...</td>\n      <td>InChI=1S/C26H17ClF3N3O3/c27-18-10-17(11-20(12-...</td>\n      <td>IDHAQBVYXKCMSF-UHFFFAOYSA-N</td>\n      <td>448375</td>\n      <td>Perampanel, 27</td>\n      <td>Replicase polyprotein 1ab</td>\n      <td>NaN</td>\n      <td>NaN</td>\n      <td>NaN</td>\n      <td>...</td>\n      <td>NaN</td>\n      <td>NaN</td>\n      <td>NaN</td>\n      <td>NaN</td>\n      <td>NaN</td>\n      <td>NaN</td>\n      <td>NaN</td>\n      <td>NaN</td>\n      <td>NaN</td>\n      <td>NaN</td>\n    </tr>\n  </tbody>\n</table>\n<p>84144 rows × 91 columns</p>\n</div>"
     },
     "metadata": {},
     "execution_count": 15
    }
   ],
   "source": [
    "raw_data"
   ]
  },
  {
   "cell_type": "code",
   "execution_count": null,
   "metadata": {},
   "outputs": [],
   "source": []
  }
 ]
}